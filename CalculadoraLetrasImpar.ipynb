{
  "metadata": {
    "kernelspec": {
      "name": "python",
      "display_name": "Python (Pyodide)",
      "language": "python"
    },
    "language_info": {
      "codemirror_mode": {
        "name": "python",
        "version": 3
      },
      "file_extension": ".py",
      "mimetype": "text/x-python",
      "name": "python",
      "nbconvert_exporter": "python",
      "pygments_lexer": "ipython3",
      "version": "3.8"
    }
  },
  "nbformat_minor": 5,
  "nbformat": 4,
  "cells": [
    {
      "id": "1e82fbf6-42ce-45f5-ab21-f5d112978a7d",
      "cell_type": "markdown",
      "source": "# Conteo de vocales",
      "metadata": {}
    },
    {
      "id": "2f0311db-7176-408f-abd1-46d9ebb49873",
      "cell_type": "markdown",
      "source": "- Input\n- Revisar que no reciba caracteres diferentes de letras (strings)\n- Revisar que no reciba caracteres vacíos\n- Cambiar todo a minúscula\n- Conteo de letras\n- impresión de ese conteo",
      "metadata": {}
    },
    {
      "id": "d83158f2-11c2-4c65-9b32-da00fdf82ff7",
      "cell_type": "code",
      "source": "texto = input(\"Ingrese texto\")\n\n #noAcepto = [\"!\", \" \", ]\n\ndef count_vocals(texto):\n    minusculas = texto.lower()\n    vocales = [\"a\",\"e\",\"i\",\"o\",\"u\"]\n    contador = 0\n    noContador = 0\n\n    for letras in minusculas:\n        if letras in vocales:\n            contador +=1\n        else: \n            noContador +=1\n            \n    return [contador, noContador]\n\n\n\nprint(\"El número de vocales en tu texto son: \", count_vocals(texto)[0], \" y el número de caracteres: \", count_vocals(texto)[1]);",
      "metadata": {
        "trusted": true
      },
      "outputs": [
        {
          "output_type": "stream",
          "name": "stdin",
          "text": "Ingrese texto hola\n"
        },
        {
          "name": "stdout",
          "output_type": "stream",
          "text": "El número de vocales en tu texto son:  2  y el número de caracteres:  2\n"
        }
      ],
      "execution_count": 1
    },
    {
      "id": "36ad35ce-d223-4261-8f0f-1dec583fd56c",
      "cell_type": "code",
      "source": "",
      "metadata": {
        "trusted": true
      },
      "outputs": [],
      "execution_count": null
    }
  ]
}