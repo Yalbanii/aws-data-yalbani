{
 "cells": [
  {
   "cell_type": "markdown",
   "id": "460e3d46-4ec0-4a0e-b000-55cf3db0c116",
   "metadata": {},
   "source": [
    "## IMPORTACIONES Y CONFIGURACION INICIAL"
   ]
  },
  {
   "cell_type": "code",
   "execution_count": 137,
   "id": "cd183d96-6ed6-4f1d-b452-3d069e6f813f",
   "metadata": {},
   "outputs": [
    {
     "name": "stdout",
     "output_type": "stream",
     "text": [
      "Requirement already satisfied: boto3 in ./venv/lib/python3.12/site-packages (1.40.49)\n",
      "Requirement already satisfied: pandas in ./venv/lib/python3.12/site-packages (2.3.3)\n",
      "Requirement already satisfied: matplotlib in ./venv/lib/python3.12/site-packages (3.10.6)\n",
      "Requirement already satisfied: botocore<1.41.0,>=1.40.49 in ./venv/lib/python3.12/site-packages (from boto3) (1.40.49)\n",
      "Requirement already satisfied: jmespath<2.0.0,>=0.7.1 in ./venv/lib/python3.12/site-packages (from boto3) (1.0.1)\n",
      "Requirement already satisfied: s3transfer<0.15.0,>=0.14.0 in ./venv/lib/python3.12/site-packages (from boto3) (0.14.0)\n",
      "Requirement already satisfied: numpy>=1.26.0 in ./venv/lib/python3.12/site-packages (from pandas) (2.3.3)\n",
      "Requirement already satisfied: python-dateutil>=2.8.2 in ./venv/lib/python3.12/site-packages (from pandas) (2.9.0.post0)\n",
      "Requirement already satisfied: pytz>=2020.1 in ./venv/lib/python3.12/site-packages (from pandas) (2025.2)\n",
      "Requirement already satisfied: tzdata>=2022.7 in ./venv/lib/python3.12/site-packages (from pandas) (2025.2)\n",
      "Requirement already satisfied: contourpy>=1.0.1 in ./venv/lib/python3.12/site-packages (from matplotlib) (1.3.3)\n",
      "Requirement already satisfied: cycler>=0.10 in ./venv/lib/python3.12/site-packages (from matplotlib) (0.12.1)\n",
      "Requirement already satisfied: fonttools>=4.22.0 in ./venv/lib/python3.12/site-packages (from matplotlib) (4.60.1)\n",
      "Requirement already satisfied: kiwisolver>=1.3.1 in ./venv/lib/python3.12/site-packages (from matplotlib) (1.4.9)\n",
      "Requirement already satisfied: packaging>=20.0 in ./venv/lib/python3.12/site-packages (from matplotlib) (25.0)\n",
      "Requirement already satisfied: pillow>=8 in ./venv/lib/python3.12/site-packages (from matplotlib) (11.3.0)\n",
      "Requirement already satisfied: pyparsing>=2.3.1 in ./venv/lib/python3.12/site-packages (from matplotlib) (3.2.5)\n",
      "Requirement already satisfied: urllib3!=2.2.0,<3,>=1.25.4 in ./venv/lib/python3.12/site-packages (from botocore<1.41.0,>=1.40.49->boto3) (2.5.0)\n",
      "Requirement already satisfied: six>=1.5 in ./venv/lib/python3.12/site-packages (from python-dateutil>=2.8.2->pandas) (1.17.0)\n"
     ]
    }
   ],
   "source": [
    "!pip install boto3 pandas matplotlib\n",
    "\n",
    "import boto3\n",
    "import matplotlib.pyplot as plt\n",
    "import pandas as pd\n",
    "from io import StringIO\n",
    "import numpy as np\n",
    "import plotly.express as px"
   ]
  },
  {
   "cell_type": "code",
   "execution_count": 138,
   "id": "c5c16700-6fb8-42c9-ae5d-dd3949570537",
   "metadata": {},
   "outputs": [],
   "source": [
    "# Configuración del cliente S3\n",
    "bucket_name = \"xideralaws-curso-yalbani\"\n",
    "s3 = boto3.client(\"s3\")"
   ]
  },
  {
   "cell_type": "code",
   "execution_count": 139,
   "id": "b27fa8c0-f423-410e-b5f0-8125dea0554c",
   "metadata": {},
   "outputs": [],
   "source": [
    "# Función para leer un archivo CSV desde S3 usando StringIO\n",
    "def read_csv_from_s3(bucket, key):\n",
    "    response = s3.get_object(Bucket=bucket, Key=key)\n",
    "    # Leer el contenido del archivo como texto\n",
    "    try:\n",
    "        csv_content = response['Body'].read().decode('utf-8')\n",
    "    except UnicodeDecodeError:\n",
    "        csv_content = response['Body'].read().decode('ISO-8859-1') \n",
    "    return pd.read_csv(StringIO(csv_content))"
   ]
  },
  {
   "cell_type": "code",
   "execution_count": 140,
   "id": "6c88d806-4d90-42a8-b860-0c9bee59303e",
   "metadata": {},
   "outputs": [],
   "source": [
    "# Función para guardar df\n",
    "def save_csv_to_s3(dataframe, bucket, key):\n",
    "    \"\"\"Guarda un DataFrame como CSV en S3\"\"\"\n",
    "    csv_buffer = StringIO()\n",
    "    dataframe.to_csv(csv_buffer, index=False)\n",
    "    s3.put_object(\n",
    "        Bucket=bucket,\n",
    "        Key=key,\n",
    "        Body=csv_buffer.getvalue()\n",
    "    )\n",
    "    print(f\" Guardado exitosamente: s3://{bucket}/{key}\")"
   ]
  },
  {
   "cell_type": "code",
   "execution_count": 141,
   "id": "61f91037-3950-4133-b743-d6447082dc14",
   "metadata": {},
   "outputs": [
    {
     "name": "stdout",
     "output_type": "stream",
     "text": [
      "🔄 Cargando datos desde S3...\n",
      "Bases de datos cargadas.\n"
     ]
    }
   ],
   "source": [
    "# --- Cargar y Preparar Datos ---\n",
    "print(\"🔄 Cargando datos desde S3...\")\n",
    "key_b1 = \"B1/B1.csv\"\n",
    "key_stadiums = \"datos_crudos/Football Stadiums.csv\"\n",
    "key_results = \"datos_crudos/results.csv\"\n",
    "\n",
    "df_results = read_csv_from_s3(bucket_name, key_results)\n",
    "df_b1 = read_csv_from_s3(bucket_name, key_b1)\n",
    "df_stadiums = read_csv_from_s3(bucket_name, key_stadiums)\n",
    "\n",
    "print(\"Bases de datos cargadas.\")"
   ]
  },
  {
   "cell_type": "markdown",
   "id": "d2aa086a-ea78-4be9-bf12-3f693a7a11a4",
   "metadata": {},
   "source": [
    "### LIMPIEZA"
   ]
  },
  {
   "cell_type": "code",
   "execution_count": 142,
   "id": "b30170f4-04e1-4d59-bac3-37a2efbad1c8",
   "metadata": {},
   "outputs": [],
   "source": [
    "# --- Limpieza de la Columna STADIUM ---\n",
    "\n",
    "def clean_stadium_name(name):\n",
    "    \"\"\"\n",
    "    Limpia el nombre del estadio: elimina 'Estadio'/'Stadium' y toma las primeras 7 letras para compararlas.\n",
    "    \"\"\"\n",
    "    if pd.isna(name):\n",
    "        return name\n",
    "    name = str(name).upper()\n",
    "    # Eliminar las palabras \"STADIUM\" o \"ESTADIO\"\n",
    "    name = name.replace('STADIUM', '').replace('ESTADIO', '').strip()\n",
    "    # Tomar las primeras 7 letras restantes\n",
    "    return name[:7]"
   ]
  },
  {
   "cell_type": "markdown",
   "id": "912ec9da-7a03-4f9b-b3af-6bff8498549e",
   "metadata": {},
   "source": [
    "#### B1/B1.csv"
   ]
  },
  {
   "cell_type": "markdown",
   "id": "d803d5dc-f429-4784-90ea-ce448401cbf5",
   "metadata": {},
   "source": [
    "#### Football Stadiums.csv"
   ]
  },
  {
   "cell_type": "code",
   "execution_count": 143,
   "id": "b5fc08fd-6ee0-424c-9e1b-722e954f5109",
   "metadata": {},
   "outputs": [],
   "source": [
    "# Aplicar la limpieza a ambas bases\n",
    "df_b1['STADIUM_KEY'] = df_b1['STADIUM'].apply(clean_stadium_name)\n",
    "df_stadiums['STADIUM_KEY'] = df_stadiums['Stadium'].apply(clean_stadium_name)"
   ]
  },
  {
   "cell_type": "code",
   "execution_count": 144,
   "id": "baa550c2-6052-48a3-a2c6-72c0bef79af1",
   "metadata": {},
   "outputs": [],
   "source": [
    "# Preparar datos de estadios\n",
    "df_stadiums_slim = df_stadiums[['STADIUM_KEY', 'Stadium', 'Capacity']].copy()\n",
    "# Eliminar duplicados en la tabla de estadios por la clave\n",
    "df_stadiums_slim.drop_duplicates(subset=['STADIUM_KEY'], inplace=True)"
   ]
  },
  {
   "cell_type": "code",
   "execution_count": 145,
   "id": "f2001d2e-f8ea-45ba-8c42-b3d3e27555a6",
   "metadata": {},
   "outputs": [],
   "source": [
    "# --- Limpiar capacidad y asistencia ---\n",
    "# forzar errores a NaN\n",
    "df_b1['HIGHEST_ATTENDANCE'] = pd.to_numeric(\n",
    "    df_b1['HIGHEST_ATTENDANCE'].astype(str).str.replace(',', '', regex=False),\n",
    "    errors='coerce'\n",
    ")\n",
    "df_stadiums_slim['Capacity'] = pd.to_numeric(\n",
    "    df_stadiums_slim['Capacity'].astype(str).str.replace(',', '', regex=False),\n",
    "    errors='coerce'\n",
    ")\n"
   ]
  },
  {
   "cell_type": "code",
   "execution_count": 146,
   "id": "015431f5-987e-4580-a6da-396104c39693",
   "metadata": {},
   "outputs": [],
   "source": [
    "# Merge y análisis\n",
    "df_comparacion = pd.merge(df_b1, df_stadiums_slim, on='STADIUM_KEY', how='left')\n",
    "df_analisis_asistencia = df_comparacion.dropna(subset=['HIGHEST_ATTENDANCE', 'Capacity']).copy()"
   ]
  },
  {
   "cell_type": "code",
   "execution_count": 147,
   "id": "60fc0af6-4419-41b9-9c45-98d7460e4e62",
   "metadata": {},
   "outputs": [],
   "source": [
    "# Calcular porcentajes\n",
    "df_analisis_asistencia['Porcentaje_Llenado'] = (\n",
    "    df_analisis_asistencia['HIGHEST_ATTENDANCE'] / df_analisis_asistencia['Capacity']\n",
    ") * 100\n",
    "df_analisis_asistencia['Diferencia_Absoluta'] = (\n",
    "    df_analisis_asistencia['Capacity'] - df_analisis_asistencia['HIGHEST_ATTENDANCE']\n",
    ")\n",
    "df_analisis_asistencia['Porcentaje_Llenado'] = np.clip(\n",
    "    df_analisis_asistencia['Porcentaje_Llenado'], a_min=None, a_max=100\n",
    ")"
   ]
  },
  {
   "cell_type": "code",
   "execution_count": 148,
   "id": "a7033899-314b-4152-a01e-57594c4bf1e3",
   "metadata": {},
   "outputs": [
    {
     "name": "stdout",
     "output_type": "stream",
     "text": [
      "Tabla de asistencia completada: 28 registros\n",
      " Guardado exitosamente: s3://xideralaws-curso-yalbani/datos_limpios/tabla_final.csv\n"
     ]
    }
   ],
   "source": [
    "# Tabla final\n",
    "tabla_final = df_analisis_asistencia[[\n",
    "    'Year', 'COUNTRY', 'STADIUM', 'Stadium', \n",
    "    'HIGHEST_ATTENDANCE', 'Capacity', 'Porcentaje_Llenado', 'Diferencia_Absoluta'\n",
    "]].sort_values(by='Porcentaje_Llenado', ascending=False)\n",
    "\n",
    "print(f\"Tabla de asistencia completada: {len(tabla_final)} registros\")\n",
    "save_csv_to_s3(tabla_final, bucket_name, \"datos_limpios/tabla_final.csv\")"
   ]
  },
  {
   "cell_type": "markdown",
   "id": "cb9b237d-9c12-48d9-a62f-72118f54d74a",
   "metadata": {},
   "source": [
    "## GUARDAR tabla_final"
   ]
  },
  {
   "cell_type": "markdown",
   "id": "3b8deac6-c301-4810-ba30-36b369ffaded",
   "metadata": {},
   "source": [
    "### VISUALIZACION"
   ]
  },
  {
   "cell_type": "code",
   "execution_count": 149,
   "id": "7a22d1df-a5a1-40d0-8994-df6217e24040",
   "metadata": {},
   "outputs": [],
   "source": [
    "# porcentaje de llenado (Top 10)\n",
    "top_10_grafico = tabla_final.head(10).sort_values(by='Porcentaje_Llenado', ascending=True)\n",
    "top_10_grafico['Estadio_Evento'] = top_10_grafico['STADIUM'] + ' (' + top_10_grafico['Year'].astype(str) + ')'"
   ]
  },
  {
   "cell_type": "code",
   "execution_count": 150,
   "id": "a1b95123-a945-41bf-ac08-2b50abdaf02f",
   "metadata": {},
   "outputs": [
    {
     "name": "stdout",
     "output_type": "stream",
     "text": [
      "\n",
      "================================================================================\n",
      "Tabla de Comparación: Asistencia Máxima vs. Capacidad del Estadio\n",
      "    Year        COUNTRY                           STADIUM  \\\n",
      "0   1930        Uruguay    Estadio Centenario, Montevideo   \n",
      "1   1934          Italy        Stadio Nazionale PNF, Rome   \n",
      "5   1958         Sweden        Ullevi Stadium, Gothenburg   \n",
      "6   1962          Chile        Estadio Nacional, Santiago   \n",
      "7   1966        England           Wembley Stadium, London   \n",
      "9   1974   West Germany            Olympiastadion, Munich   \n",
      "10  1978      Argentina  Estadio Monumental, Buenos Aires   \n",
      "14  1994  United States   Rose Bowl, Pasadena, California   \n",
      "17  2006        Germany            Olympiastadion,ÿBerlin   \n",
      "15  1998         France      Stade de France, Saint-Denis   \n",
      "\n",
      "                              Stadium  HIGHEST_ATTENDANCE  Capacity  \\\n",
      "0                   Centenary Stadium             93000.0    2000.0   \n",
      "1             Stadio Georgios Kamaras             55000.0   14200.0   \n",
      "5                      Ullevi Stadion             50928.0   43200.0   \n",
      "6                    Estadio Nacional             68679.0   48745.0   \n",
      "7                             Wembley             98270.0   90652.0   \n",
      "9                      Olympiastadion             83168.0   40600.0   \n",
      "10  Estadio Monumental David Arellano             71712.0   47347.0   \n",
      "14                          Rose Bowl             94194.0   92542.0   \n",
      "17                     Olympiastadion             72000.0   40600.0   \n",
      "15        Stade de l'Unité Maghrébine             80000.0   22000.0   \n",
      "\n",
      "    Porcentaje_Llenado  Diferencia_Absoluta  \n",
      "0                100.0             -91000.0  \n",
      "1                100.0             -40800.0  \n",
      "5                100.0              -7728.0  \n",
      "6                100.0             -19934.0  \n",
      "7                100.0              -7618.0  \n",
      "9                100.0             -42568.0  \n",
      "10               100.0             -24365.0  \n",
      "14               100.0              -1652.0  \n",
      "17               100.0             -31400.0  \n",
      "15               100.0             -58000.0  \n"
     ]
    }
   ],
   "source": [
    "# Mostrar el top 10\n",
    "print(\"\\n\" + \"=\"*80)\n",
    "print(\"Tabla de Comparación: Asistencia Máxima vs. Capacidad del Estadio\")\n",
    "print(tabla_final.round(2).head(10)) "
   ]
  },
  {
   "cell_type": "code",
   "execution_count": 151,
   "id": "7c88b159-c47e-4e41-b4c7-d42eb8ad7500",
   "metadata": {},
   "outputs": [
    {
     "data": {
      "text/html": [
       "<div>\n",
       "<style scoped>\n",
       "    .dataframe tbody tr th:only-of-type {\n",
       "        vertical-align: middle;\n",
       "    }\n",
       "\n",
       "    .dataframe tbody tr th {\n",
       "        vertical-align: top;\n",
       "    }\n",
       "\n",
       "    .dataframe thead th {\n",
       "        text-align: right;\n",
       "    }\n",
       "</style>\n",
       "<table border=\"1\" class=\"dataframe\">\n",
       "  <thead>\n",
       "    <tr style=\"text-align: right;\">\n",
       "      <th></th>\n",
       "      <th>Year</th>\n",
       "      <th>COUNTRY</th>\n",
       "      <th>STADIUM</th>\n",
       "      <th>Stadium</th>\n",
       "      <th>HIGHEST_ATTENDANCE</th>\n",
       "      <th>Capacity</th>\n",
       "      <th>Porcentaje_Llenado</th>\n",
       "      <th>Diferencia_Absoluta</th>\n",
       "    </tr>\n",
       "  </thead>\n",
       "  <tbody>\n",
       "    <tr>\n",
       "      <th>11</th>\n",
       "      <td>1982</td>\n",
       "      <td>Spain</td>\n",
       "      <td>Camp Nou, Barcelona</td>\n",
       "      <td>Camp Nou</td>\n",
       "      <td>95500.0</td>\n",
       "      <td>99354.0</td>\n",
       "      <td>96.120941</td>\n",
       "      <td>3854.0</td>\n",
       "    </tr>\n",
       "    <tr>\n",
       "      <th>19</th>\n",
       "      <td>2014</td>\n",
       "      <td>Brazil</td>\n",
       "      <td>MaracanÆ Stadium, Rio de Janeiro</td>\n",
       "      <td>Maracanã</td>\n",
       "      <td>74738.0</td>\n",
       "      <td>78838.0</td>\n",
       "      <td>94.799462</td>\n",
       "      <td>4100.0</td>\n",
       "    </tr>\n",
       "    <tr>\n",
       "      <th>23</th>\n",
       "      <td>2022</td>\n",
       "      <td>Qatar</td>\n",
       "      <td>Khalifa International Stadium</td>\n",
       "      <td>Khalifa Stadium</td>\n",
       "      <td>45334.0</td>\n",
       "      <td>48000.0</td>\n",
       "      <td>94.445833</td>\n",
       "      <td>2666.0</td>\n",
       "    </tr>\n",
       "    <tr>\n",
       "      <th>65</th>\n",
       "      <td>2022</td>\n",
       "      <td>Qatar</td>\n",
       "      <td>Khalifa International Stadium</td>\n",
       "      <td>Khalifa Stadium</td>\n",
       "      <td>44851.0</td>\n",
       "      <td>48000.0</td>\n",
       "      <td>93.439583</td>\n",
       "      <td>3149.0</td>\n",
       "    </tr>\n",
       "    <tr>\n",
       "      <th>70</th>\n",
       "      <td>2022</td>\n",
       "      <td>Qatar</td>\n",
       "      <td>Khalifa International Stadium</td>\n",
       "      <td>Khalifa Stadium</td>\n",
       "      <td>44846.0</td>\n",
       "      <td>48000.0</td>\n",
       "      <td>93.429167</td>\n",
       "      <td>3154.0</td>\n",
       "    </tr>\n",
       "    <tr>\n",
       "      <th>40</th>\n",
       "      <td>2022</td>\n",
       "      <td>Qatar</td>\n",
       "      <td>Khalifa International Stadium</td>\n",
       "      <td>Khalifa Stadium</td>\n",
       "      <td>44833.0</td>\n",
       "      <td>48000.0</td>\n",
       "      <td>93.402083</td>\n",
       "      <td>3167.0</td>\n",
       "    </tr>\n",
       "    <tr>\n",
       "      <th>54</th>\n",
       "      <td>2022</td>\n",
       "      <td>Qatar</td>\n",
       "      <td>Khalifa International Stadium</td>\n",
       "      <td>Khalifa Stadium</td>\n",
       "      <td>44569.0</td>\n",
       "      <td>48000.0</td>\n",
       "      <td>92.852083</td>\n",
       "      <td>3431.0</td>\n",
       "    </tr>\n",
       "    <tr>\n",
       "      <th>48</th>\n",
       "      <td>2022</td>\n",
       "      <td>Qatar</td>\n",
       "      <td>Khalifa International Stadium</td>\n",
       "      <td>Khalifa Stadium</td>\n",
       "      <td>44374.0</td>\n",
       "      <td>48000.0</td>\n",
       "      <td>92.445833</td>\n",
       "      <td>3626.0</td>\n",
       "    </tr>\n",
       "    <tr>\n",
       "      <th>84</th>\n",
       "      <td>2022</td>\n",
       "      <td>Qatar</td>\n",
       "      <td>Khalifa International Stadium</td>\n",
       "      <td>Khalifa Stadium</td>\n",
       "      <td>44137.0</td>\n",
       "      <td>48000.0</td>\n",
       "      <td>91.952083</td>\n",
       "      <td>3863.0</td>\n",
       "    </tr>\n",
       "    <tr>\n",
       "      <th>31</th>\n",
       "      <td>2022</td>\n",
       "      <td>Qatar</td>\n",
       "      <td>Khalifa International Stadium</td>\n",
       "      <td>Khalifa Stadium</td>\n",
       "      <td>42608.0</td>\n",
       "      <td>48000.0</td>\n",
       "      <td>88.766667</td>\n",
       "      <td>5392.0</td>\n",
       "    </tr>\n",
       "  </tbody>\n",
       "</table>\n",
       "</div>"
      ],
      "text/plain": [
       "    Year COUNTRY                           STADIUM          Stadium  \\\n",
       "11  1982   Spain               Camp Nou, Barcelona         Camp Nou   \n",
       "19  2014  Brazil  MaracanÆ Stadium, Rio de Janeiro         Maracanã   \n",
       "23  2022   Qatar     Khalifa International Stadium  Khalifa Stadium   \n",
       "65  2022   Qatar     Khalifa International Stadium  Khalifa Stadium   \n",
       "70  2022   Qatar     Khalifa International Stadium  Khalifa Stadium   \n",
       "40  2022   Qatar     Khalifa International Stadium  Khalifa Stadium   \n",
       "54  2022   Qatar     Khalifa International Stadium  Khalifa Stadium   \n",
       "48  2022   Qatar     Khalifa International Stadium  Khalifa Stadium   \n",
       "84  2022   Qatar     Khalifa International Stadium  Khalifa Stadium   \n",
       "31  2022   Qatar     Khalifa International Stadium  Khalifa Stadium   \n",
       "\n",
       "    HIGHEST_ATTENDANCE  Capacity  Porcentaje_Llenado  Diferencia_Absoluta  \n",
       "11             95500.0   99354.0           96.120941               3854.0  \n",
       "19             74738.0   78838.0           94.799462               4100.0  \n",
       "23             45334.0   48000.0           94.445833               2666.0  \n",
       "65             44851.0   48000.0           93.439583               3149.0  \n",
       "70             44846.0   48000.0           93.429167               3154.0  \n",
       "40             44833.0   48000.0           93.402083               3167.0  \n",
       "54             44569.0   48000.0           92.852083               3431.0  \n",
       "48             44374.0   48000.0           92.445833               3626.0  \n",
       "84             44137.0   48000.0           91.952083               3863.0  \n",
       "31             42608.0   48000.0           88.766667               5392.0  "
      ]
     },
     "execution_count": 151,
     "metadata": {},
     "output_type": "execute_result"
    }
   ],
   "source": [
    "tabla_final.tail(10)"
   ]
  },
  {
   "cell_type": "code",
   "execution_count": 152,
   "id": "2f37204e-d95c-4c94-8942-8e11fd18b8fc",
   "metadata": {},
   "outputs": [
    {
     "name": "stdout",
     "output_type": "stream",
     "text": [
      "<class 'pandas.core.frame.DataFrame'>\n",
      "Index: 28 entries, 0 to 31\n",
      "Data columns (total 8 columns):\n",
      " #   Column               Non-Null Count  Dtype  \n",
      "---  ------               --------------  -----  \n",
      " 0   Year                 28 non-null     int64  \n",
      " 1   COUNTRY              28 non-null     object \n",
      " 2   STADIUM              28 non-null     object \n",
      " 3   Stadium              28 non-null     object \n",
      " 4   HIGHEST_ATTENDANCE   28 non-null     float64\n",
      " 5   Capacity             28 non-null     float64\n",
      " 6   Porcentaje_Llenado   28 non-null     float64\n",
      " 7   Diferencia_Absoluta  28 non-null     float64\n",
      "dtypes: float64(4), int64(1), object(3)\n",
      "memory usage: 2.0+ KB\n"
     ]
    }
   ],
   "source": [
    "tabla_final.info()"
   ]
  },
  {
   "cell_type": "code",
   "execution_count": 153,
   "id": "3ab20a61-0d3c-4126-8ac0-5a0e342db1e9",
   "metadata": {},
   "outputs": [
    {
     "data": {
      "application/vnd.plotly.v1+json": {
       "config": {
        "plotlyServerURL": "https://plot.ly"
       },
       "data": [
        {
         "hovertemplate": "Porcentaje de Llenado (%)=%{text}<br>Estadio (Año)=%{y}<extra></extra>",
         "legendgroup": "",
         "marker": {
          "color": "#636efa",
          "pattern": {
           "shape": ""
          }
         },
         "name": "",
         "orientation": "h",
         "showlegend": false,
         "text": {
          "bdata": "AAAAAAAAWUAAAAAAAABZQAAAAAAAAFlAAAAAAAAAWUAAAAAAAABZQAAAAAAAAFlAAAAAAAAAWUAAAAAAAABZQAAAAAAAAFlAAAAAAAAAWUA=",
          "dtype": "f8"
         },
         "textposition": "outside",
         "texttemplate": "%{text:.2f}%",
         "type": "bar",
         "x": {
          "bdata": "AAAAAAAAWUAAAAAAAABZQAAAAAAAAFlAAAAAAAAAWUAAAAAAAABZQAAAAAAAAFlAAAAAAAAAWUAAAAAAAABZQAAAAAAAAFlAAAAAAAAAWUA=",
          "dtype": "f8"
         },
         "xaxis": "x",
         "y": [
          "Estadio Centenario, Montevideo (1930)",
          "Stadio Nazionale PNF, Rome (1934)",
          "Ullevi Stadium, Gothenburg (1958)",
          "Estadio Nacional, Santiago (1962)",
          "Wembley Stadium, London (1966)",
          "Olympiastadion, Munich (1974)",
          "Estadio Monumental, Buenos Aires (1978)",
          "Rose Bowl, Pasadena, California (1994)",
          "Olympiastadion,ÿBerlin (2006)",
          "Stade de France, Saint-Denis (1998)"
         ],
         "yaxis": "y"
        }
       ],
       "layout": {
        "barmode": "relative",
        "legend": {
         "tracegroupgap": 0
        },
        "template": {
         "data": {
          "bar": [
           {
            "error_x": {
             "color": "#2a3f5f"
            },
            "error_y": {
             "color": "#2a3f5f"
            },
            "marker": {
             "line": {
              "color": "#E5ECF6",
              "width": 0.5
             },
             "pattern": {
              "fillmode": "overlay",
              "size": 10,
              "solidity": 0.2
             }
            },
            "type": "bar"
           }
          ],
          "barpolar": [
           {
            "marker": {
             "line": {
              "color": "#E5ECF6",
              "width": 0.5
             },
             "pattern": {
              "fillmode": "overlay",
              "size": 10,
              "solidity": 0.2
             }
            },
            "type": "barpolar"
           }
          ],
          "carpet": [
           {
            "aaxis": {
             "endlinecolor": "#2a3f5f",
             "gridcolor": "white",
             "linecolor": "white",
             "minorgridcolor": "white",
             "startlinecolor": "#2a3f5f"
            },
            "baxis": {
             "endlinecolor": "#2a3f5f",
             "gridcolor": "white",
             "linecolor": "white",
             "minorgridcolor": "white",
             "startlinecolor": "#2a3f5f"
            },
            "type": "carpet"
           }
          ],
          "choropleth": [
           {
            "colorbar": {
             "outlinewidth": 0,
             "ticks": ""
            },
            "type": "choropleth"
           }
          ],
          "contour": [
           {
            "colorbar": {
             "outlinewidth": 0,
             "ticks": ""
            },
            "colorscale": [
             [
              0,
              "#0d0887"
             ],
             [
              0.1111111111111111,
              "#46039f"
             ],
             [
              0.2222222222222222,
              "#7201a8"
             ],
             [
              0.3333333333333333,
              "#9c179e"
             ],
             [
              0.4444444444444444,
              "#bd3786"
             ],
             [
              0.5555555555555556,
              "#d8576b"
             ],
             [
              0.6666666666666666,
              "#ed7953"
             ],
             [
              0.7777777777777778,
              "#fb9f3a"
             ],
             [
              0.8888888888888888,
              "#fdca26"
             ],
             [
              1,
              "#f0f921"
             ]
            ],
            "type": "contour"
           }
          ],
          "contourcarpet": [
           {
            "colorbar": {
             "outlinewidth": 0,
             "ticks": ""
            },
            "type": "contourcarpet"
           }
          ],
          "heatmap": [
           {
            "colorbar": {
             "outlinewidth": 0,
             "ticks": ""
            },
            "colorscale": [
             [
              0,
              "#0d0887"
             ],
             [
              0.1111111111111111,
              "#46039f"
             ],
             [
              0.2222222222222222,
              "#7201a8"
             ],
             [
              0.3333333333333333,
              "#9c179e"
             ],
             [
              0.4444444444444444,
              "#bd3786"
             ],
             [
              0.5555555555555556,
              "#d8576b"
             ],
             [
              0.6666666666666666,
              "#ed7953"
             ],
             [
              0.7777777777777778,
              "#fb9f3a"
             ],
             [
              0.8888888888888888,
              "#fdca26"
             ],
             [
              1,
              "#f0f921"
             ]
            ],
            "type": "heatmap"
           }
          ],
          "histogram": [
           {
            "marker": {
             "pattern": {
              "fillmode": "overlay",
              "size": 10,
              "solidity": 0.2
             }
            },
            "type": "histogram"
           }
          ],
          "histogram2d": [
           {
            "colorbar": {
             "outlinewidth": 0,
             "ticks": ""
            },
            "colorscale": [
             [
              0,
              "#0d0887"
             ],
             [
              0.1111111111111111,
              "#46039f"
             ],
             [
              0.2222222222222222,
              "#7201a8"
             ],
             [
              0.3333333333333333,
              "#9c179e"
             ],
             [
              0.4444444444444444,
              "#bd3786"
             ],
             [
              0.5555555555555556,
              "#d8576b"
             ],
             [
              0.6666666666666666,
              "#ed7953"
             ],
             [
              0.7777777777777778,
              "#fb9f3a"
             ],
             [
              0.8888888888888888,
              "#fdca26"
             ],
             [
              1,
              "#f0f921"
             ]
            ],
            "type": "histogram2d"
           }
          ],
          "histogram2dcontour": [
           {
            "colorbar": {
             "outlinewidth": 0,
             "ticks": ""
            },
            "colorscale": [
             [
              0,
              "#0d0887"
             ],
             [
              0.1111111111111111,
              "#46039f"
             ],
             [
              0.2222222222222222,
              "#7201a8"
             ],
             [
              0.3333333333333333,
              "#9c179e"
             ],
             [
              0.4444444444444444,
              "#bd3786"
             ],
             [
              0.5555555555555556,
              "#d8576b"
             ],
             [
              0.6666666666666666,
              "#ed7953"
             ],
             [
              0.7777777777777778,
              "#fb9f3a"
             ],
             [
              0.8888888888888888,
              "#fdca26"
             ],
             [
              1,
              "#f0f921"
             ]
            ],
            "type": "histogram2dcontour"
           }
          ],
          "mesh3d": [
           {
            "colorbar": {
             "outlinewidth": 0,
             "ticks": ""
            },
            "type": "mesh3d"
           }
          ],
          "parcoords": [
           {
            "line": {
             "colorbar": {
              "outlinewidth": 0,
              "ticks": ""
             }
            },
            "type": "parcoords"
           }
          ],
          "pie": [
           {
            "automargin": true,
            "type": "pie"
           }
          ],
          "scatter": [
           {
            "fillpattern": {
             "fillmode": "overlay",
             "size": 10,
             "solidity": 0.2
            },
            "type": "scatter"
           }
          ],
          "scatter3d": [
           {
            "line": {
             "colorbar": {
              "outlinewidth": 0,
              "ticks": ""
             }
            },
            "marker": {
             "colorbar": {
              "outlinewidth": 0,
              "ticks": ""
             }
            },
            "type": "scatter3d"
           }
          ],
          "scattercarpet": [
           {
            "marker": {
             "colorbar": {
              "outlinewidth": 0,
              "ticks": ""
             }
            },
            "type": "scattercarpet"
           }
          ],
          "scattergeo": [
           {
            "marker": {
             "colorbar": {
              "outlinewidth": 0,
              "ticks": ""
             }
            },
            "type": "scattergeo"
           }
          ],
          "scattergl": [
           {
            "marker": {
             "colorbar": {
              "outlinewidth": 0,
              "ticks": ""
             }
            },
            "type": "scattergl"
           }
          ],
          "scattermap": [
           {
            "marker": {
             "colorbar": {
              "outlinewidth": 0,
              "ticks": ""
             }
            },
            "type": "scattermap"
           }
          ],
          "scattermapbox": [
           {
            "marker": {
             "colorbar": {
              "outlinewidth": 0,
              "ticks": ""
             }
            },
            "type": "scattermapbox"
           }
          ],
          "scatterpolar": [
           {
            "marker": {
             "colorbar": {
              "outlinewidth": 0,
              "ticks": ""
             }
            },
            "type": "scatterpolar"
           }
          ],
          "scatterpolargl": [
           {
            "marker": {
             "colorbar": {
              "outlinewidth": 0,
              "ticks": ""
             }
            },
            "type": "scatterpolargl"
           }
          ],
          "scatterternary": [
           {
            "marker": {
             "colorbar": {
              "outlinewidth": 0,
              "ticks": ""
             }
            },
            "type": "scatterternary"
           }
          ],
          "surface": [
           {
            "colorbar": {
             "outlinewidth": 0,
             "ticks": ""
            },
            "colorscale": [
             [
              0,
              "#0d0887"
             ],
             [
              0.1111111111111111,
              "#46039f"
             ],
             [
              0.2222222222222222,
              "#7201a8"
             ],
             [
              0.3333333333333333,
              "#9c179e"
             ],
             [
              0.4444444444444444,
              "#bd3786"
             ],
             [
              0.5555555555555556,
              "#d8576b"
             ],
             [
              0.6666666666666666,
              "#ed7953"
             ],
             [
              0.7777777777777778,
              "#fb9f3a"
             ],
             [
              0.8888888888888888,
              "#fdca26"
             ],
             [
              1,
              "#f0f921"
             ]
            ],
            "type": "surface"
           }
          ],
          "table": [
           {
            "cells": {
             "fill": {
              "color": "#EBF0F8"
             },
             "line": {
              "color": "white"
             }
            },
            "header": {
             "fill": {
              "color": "#C8D4E3"
             },
             "line": {
              "color": "white"
             }
            },
            "type": "table"
           }
          ]
         },
         "layout": {
          "annotationdefaults": {
           "arrowcolor": "#2a3f5f",
           "arrowhead": 0,
           "arrowwidth": 1
          },
          "autotypenumbers": "strict",
          "coloraxis": {
           "colorbar": {
            "outlinewidth": 0,
            "ticks": ""
           }
          },
          "colorscale": {
           "diverging": [
            [
             0,
             "#8e0152"
            ],
            [
             0.1,
             "#c51b7d"
            ],
            [
             0.2,
             "#de77ae"
            ],
            [
             0.3,
             "#f1b6da"
            ],
            [
             0.4,
             "#fde0ef"
            ],
            [
             0.5,
             "#f7f7f7"
            ],
            [
             0.6,
             "#e6f5d0"
            ],
            [
             0.7,
             "#b8e186"
            ],
            [
             0.8,
             "#7fbc41"
            ],
            [
             0.9,
             "#4d9221"
            ],
            [
             1,
             "#276419"
            ]
           ],
           "sequential": [
            [
             0,
             "#0d0887"
            ],
            [
             0.1111111111111111,
             "#46039f"
            ],
            [
             0.2222222222222222,
             "#7201a8"
            ],
            [
             0.3333333333333333,
             "#9c179e"
            ],
            [
             0.4444444444444444,
             "#bd3786"
            ],
            [
             0.5555555555555556,
             "#d8576b"
            ],
            [
             0.6666666666666666,
             "#ed7953"
            ],
            [
             0.7777777777777778,
             "#fb9f3a"
            ],
            [
             0.8888888888888888,
             "#fdca26"
            ],
            [
             1,
             "#f0f921"
            ]
           ],
           "sequentialminus": [
            [
             0,
             "#0d0887"
            ],
            [
             0.1111111111111111,
             "#46039f"
            ],
            [
             0.2222222222222222,
             "#7201a8"
            ],
            [
             0.3333333333333333,
             "#9c179e"
            ],
            [
             0.4444444444444444,
             "#bd3786"
            ],
            [
             0.5555555555555556,
             "#d8576b"
            ],
            [
             0.6666666666666666,
             "#ed7953"
            ],
            [
             0.7777777777777778,
             "#fb9f3a"
            ],
            [
             0.8888888888888888,
             "#fdca26"
            ],
            [
             1,
             "#f0f921"
            ]
           ]
          },
          "colorway": [
           "#636efa",
           "#EF553B",
           "#00cc96",
           "#ab63fa",
           "#FFA15A",
           "#19d3f3",
           "#FF6692",
           "#B6E880",
           "#FF97FF",
           "#FECB52"
          ],
          "font": {
           "color": "#2a3f5f"
          },
          "geo": {
           "bgcolor": "white",
           "lakecolor": "white",
           "landcolor": "#E5ECF6",
           "showlakes": true,
           "showland": true,
           "subunitcolor": "white"
          },
          "hoverlabel": {
           "align": "left"
          },
          "hovermode": "closest",
          "mapbox": {
           "style": "light"
          },
          "paper_bgcolor": "white",
          "plot_bgcolor": "#E5ECF6",
          "polar": {
           "angularaxis": {
            "gridcolor": "white",
            "linecolor": "white",
            "ticks": ""
           },
           "bgcolor": "#E5ECF6",
           "radialaxis": {
            "gridcolor": "white",
            "linecolor": "white",
            "ticks": ""
           }
          },
          "scene": {
           "xaxis": {
            "backgroundcolor": "#E5ECF6",
            "gridcolor": "white",
            "gridwidth": 2,
            "linecolor": "white",
            "showbackground": true,
            "ticks": "",
            "zerolinecolor": "white"
           },
           "yaxis": {
            "backgroundcolor": "#E5ECF6",
            "gridcolor": "white",
            "gridwidth": 2,
            "linecolor": "white",
            "showbackground": true,
            "ticks": "",
            "zerolinecolor": "white"
           },
           "zaxis": {
            "backgroundcolor": "#E5ECF6",
            "gridcolor": "white",
            "gridwidth": 2,
            "linecolor": "white",
            "showbackground": true,
            "ticks": "",
            "zerolinecolor": "white"
           }
          },
          "shapedefaults": {
           "line": {
            "color": "#2a3f5f"
           }
          },
          "ternary": {
           "aaxis": {
            "gridcolor": "white",
            "linecolor": "white",
            "ticks": ""
           },
           "baxis": {
            "gridcolor": "white",
            "linecolor": "white",
            "ticks": ""
           },
           "bgcolor": "#E5ECF6",
           "caxis": {
            "gridcolor": "white",
            "linecolor": "white",
            "ticks": ""
           }
          },
          "title": {
           "x": 0.05
          },
          "xaxis": {
           "automargin": true,
           "gridcolor": "white",
           "linecolor": "white",
           "ticks": "",
           "title": {
            "standoff": 15
           },
           "zerolinecolor": "white",
           "zerolinewidth": 2
          },
          "yaxis": {
           "automargin": true,
           "gridcolor": "white",
           "linecolor": "white",
           "ticks": "",
           "title": {
            "standoff": 15
           },
           "zerolinecolor": "white",
           "zerolinewidth": 2
          }
         }
        },
        "title": {
         "text": "Top 10 Eventos con Mayor Porcentaje de Llenado del Estadio"
        },
        "xaxis": {
         "anchor": "y",
         "domain": [
          0,
          1
         ],
         "title": {
          "text": "Porcentaje de Llenado (%)"
         }
        },
        "yaxis": {
         "anchor": "x",
         "domain": [
          0,
          1
         ],
         "title": {
          "text": "Estadio (Año)"
         }
        }
       }
      },
      "image/png": "[encoded data removed]"
     },
     "metadata": {},
     "output_type": "display_data"
    }
   ],
   "source": [
    "# --- Grafica ---\n",
    "fig = px.bar(\n",
    "    top_10_grafico, \n",
    "    x='Porcentaje_Llenado', \n",
    "    y='Estadio_Evento', \n",
    "    orientation='h',\n",
    "    title='Top 10 Eventos con Mayor Porcentaje de Llenado del Estadio',\n",
    "    labels={'Porcentaje_Llenado': 'Porcentaje de Llenado (%)', 'Estadio_Evento': 'Estadio (Año)'},\n",
    "    text='Porcentaje_Llenado'\n",
    ")\n",
    "fig.update_traces(texttemplate='%{text:.2f}%', textposition='outside')\n",
    "fig.show() "
   ]
  },
  {
   "cell_type": "code",
   "execution_count": 154,
   "id": "d5be249f-326d-45f3-9814-38982e52ed58",
   "metadata": {},
   "outputs": [],
   "source": [
    "# --- Seleccionar el Antitop 10 (tail(10)) ---\n",
    "antitop_10_grafico = tabla_final.tail(10).sort_values(by='Porcentaje_Llenado', ascending=True)\n",
    "antitop_10_grafico['Estadio_Evento'] = antitop_10_grafico['STADIUM'] + ' (' + antitop_10_grafico['Year'].astype(str) + ')'"
   ]
  },
  {
   "cell_type": "code",
   "execution_count": 155,
   "id": "b8031b98-8c2c-4db2-a782-10d81f865645",
   "metadata": {},
   "outputs": [
    {
     "data": {
      "application/vnd.plotly.v1+json": {
       "config": {
        "plotlyServerURL": "https://plot.ly"
       },
       "data": [
        {
         "hovertemplate": "Porcentaje de Llenado (%)=%{text}<br>Estadio (Año)=%{y}<extra></extra>",
         "legendgroup": "",
         "marker": {
          "color": "#636efa",
          "pattern": {
           "shape": ""
          }
         },
         "name": "",
         "orientation": "h",
         "showlegend": false,
         "text": {
          "bdata": "ERERERExVkDv7u7u7vxWQImIiIiIHFdAiYiIiIg2V0C8u7u7u1lXQHd3d3d3W1dAIiIiIiJcV0CIiIiIiJxXQJtEdGMqs1dAkE5/gL0HWEA=",
          "dtype": "f8"
         },
         "textposition": "outside",
         "texttemplate": "%{text:.2f}%",
         "type": "bar",
         "x": {
          "bdata": "ERERERExVkDv7u7u7vxWQImIiIiIHFdAiYiIiIg2V0C8u7u7u1lXQHd3d3d3W1dAIiIiIiJcV0CIiIiIiJxXQJtEdGMqs1dAkE5/gL0HWEA=",
          "dtype": "f8"
         },
         "xaxis": "x",
         "y": [
          "Khalifa International Stadium (2022)",
          "Khalifa International Stadium (2022)",
          "Khalifa International Stadium (2022)",
          "Khalifa International Stadium (2022)",
          "Khalifa International Stadium (2022)",
          "Khalifa International Stadium (2022)",
          "Khalifa International Stadium (2022)",
          "Khalifa International Stadium (2022)",
          "MaracanÆ Stadium, Rio de Janeiro (2014)",
          "Camp Nou, Barcelona (1982)"
         ],
         "yaxis": "y"
        }
       ],
       "layout": {
        "barmode": "relative",
        "legend": {
         "tracegroupgap": 0
        },
        "template": {
         "data": {
          "bar": [
           {
            "error_x": {
             "color": "#2a3f5f"
            },
            "error_y": {
             "color": "#2a3f5f"
            },
            "marker": {
             "line": {
              "color": "#E5ECF6",
              "width": 0.5
             },
             "pattern": {
              "fillmode": "overlay",
              "size": 10,
              "solidity": 0.2
             }
            },
            "type": "bar"
           }
          ],
          "barpolar": [
           {
            "marker": {
             "line": {
              "color": "#E5ECF6",
              "width": 0.5
             },
             "pattern": {
              "fillmode": "overlay",
              "size": 10,
              "solidity": 0.2
             }
            },
            "type": "barpolar"
           }
          ],
          "carpet": [
           {
            "aaxis": {
             "endlinecolor": "#2a3f5f",
             "gridcolor": "white",
             "linecolor": "white",
             "minorgridcolor": "white",
             "startlinecolor": "#2a3f5f"
            },
            "baxis": {
             "endlinecolor": "#2a3f5f",
             "gridcolor": "white",
             "linecolor": "white",
             "minorgridcolor": "white",
             "startlinecolor": "#2a3f5f"
            },
            "type": "carpet"
           }
          ],
          "choropleth": [
           {
            "colorbar": {
             "outlinewidth": 0,
             "ticks": ""
            },
            "type": "choropleth"
           }
          ],
          "contour": [
           {
            "colorbar": {
             "outlinewidth": 0,
             "ticks": ""
            },
            "colorscale": [
             [
              0,
              "#0d0887"
             ],
             [
              0.1111111111111111,
              "#46039f"
             ],
             [
              0.2222222222222222,
              "#7201a8"
             ],
             [
              0.3333333333333333,
              "#9c179e"
             ],
             [
              0.4444444444444444,
              "#bd3786"
             ],
             [
              0.5555555555555556,
              "#d8576b"
             ],
             [
              0.6666666666666666,
              "#ed7953"
             ],
             [
              0.7777777777777778,
              "#fb9f3a"
             ],
             [
              0.8888888888888888,
              "#fdca26"
             ],
             [
              1,
              "#f0f921"
             ]
            ],
            "type": "contour"
           }
          ],
          "contourcarpet": [
           {
            "colorbar": {
             "outlinewidth": 0,
             "ticks": ""
            },
            "type": "contourcarpet"
           }
          ],
          "heatmap": [
           {
            "colorbar": {
             "outlinewidth": 0,
             "ticks": ""
            },
            "colorscale": [
             [
              0,
              "#0d0887"
             ],
             [
              0.1111111111111111,
              "#46039f"
             ],
             [
              0.2222222222222222,
              "#7201a8"
             ],
             [
              0.3333333333333333,
              "#9c179e"
             ],
             [
              0.4444444444444444,
              "#bd3786"
             ],
             [
              0.5555555555555556,
              "#d8576b"
             ],
             [
              0.6666666666666666,
              "#ed7953"
             ],
             [
              0.7777777777777778,
              "#fb9f3a"
             ],
             [
              0.8888888888888888,
              "#fdca26"
             ],
             [
              1,
              "#f0f921"
             ]
            ],
            "type": "heatmap"
           }
          ],
          "histogram": [
           {
            "marker": {
             "pattern": {
              "fillmode": "overlay",
              "size": 10,
              "solidity": 0.2
             }
            },
            "type": "histogram"
           }
          ],
          "histogram2d": [
           {
            "colorbar": {
             "outlinewidth": 0,
             "ticks": ""
            },
            "colorscale": [
             [
              0,
              "#0d0887"
             ],
             [
              0.1111111111111111,
              "#46039f"
             ],
             [
              0.2222222222222222,
              "#7201a8"
             ],
             [
              0.3333333333333333,
              "#9c179e"
             ],
             [
              0.4444444444444444,
              "#bd3786"
             ],
             [
              0.5555555555555556,
              "#d8576b"
             ],
             [
              0.6666666666666666,
              "#ed7953"
             ],
             [
              0.7777777777777778,
              "#fb9f3a"
             ],
             [
              0.8888888888888888,
              "#fdca26"
             ],
             [
              1,
              "#f0f921"
             ]
            ],
            "type": "histogram2d"
           }
          ],
          "histogram2dcontour": [
           {
            "colorbar": {
             "outlinewidth": 0,
             "ticks": ""
            },
            "colorscale": [
             [
              0,
              "#0d0887"
             ],
             [
              0.1111111111111111,
              "#46039f"
             ],
             [
              0.2222222222222222,
              "#7201a8"
             ],
             [
              0.3333333333333333,
              "#9c179e"
             ],
             [
              0.4444444444444444,
              "#bd3786"
             ],
             [
              0.5555555555555556,
              "#d8576b"
             ],
             [
              0.6666666666666666,
              "#ed7953"
             ],
             [
              0.7777777777777778,
              "#fb9f3a"
             ],
             [
              0.8888888888888888,
              "#fdca26"
             ],
             [
              1,
              "#f0f921"
             ]
            ],
            "type": "histogram2dcontour"
           }
          ],
          "mesh3d": [
           {
            "colorbar": {
             "outlinewidth": 0,
             "ticks": ""
            },
            "type": "mesh3d"
           }
          ],
          "parcoords": [
           {
            "line": {
             "colorbar": {
              "outlinewidth": 0,
              "ticks": ""
             }
            },
            "type": "parcoords"
           }
          ],
          "pie": [
           {
            "automargin": true,
            "type": "pie"
           }
          ],
          "scatter": [
           {
            "fillpattern": {
             "fillmode": "overlay",
             "size": 10,
             "solidity": 0.2
            },
            "type": "scatter"
           }
          ],
          "scatter3d": [
           {
            "line": {
             "colorbar": {
              "outlinewidth": 0,
              "ticks": ""
             }
            },
            "marker": {
             "colorbar": {
              "outlinewidth": 0,
              "ticks": ""
             }
            },
            "type": "scatter3d"
           }
          ],
          "scattercarpet": [
           {
            "marker": {
             "colorbar": {
              "outlinewidth": 0,
              "ticks": ""
             }
            },
            "type": "scattercarpet"
           }
          ],
          "scattergeo": [
           {
            "marker": {
             "colorbar": {
              "outlinewidth": 0,
              "ticks": ""
             }
            },
            "type": "scattergeo"
           }
          ],
          "scattergl": [
           {
            "marker": {
             "colorbar": {
              "outlinewidth": 0,
              "ticks": ""
             }
            },
            "type": "scattergl"
           }
          ],
          "scattermap": [
           {
            "marker": {
             "colorbar": {
              "outlinewidth": 0,
              "ticks": ""
             }
            },
            "type": "scattermap"
           }
          ],
          "scattermapbox": [
           {
            "marker": {
             "colorbar": {
              "outlinewidth": 0,
              "ticks": ""
             }
            },
            "type": "scattermapbox"
           }
          ],
          "scatterpolar": [
           {
            "marker": {
             "colorbar": {
              "outlinewidth": 0,
              "ticks": ""
             }
            },
            "type": "scatterpolar"
           }
          ],
          "scatterpolargl": [
           {
            "marker": {
             "colorbar": {
              "outlinewidth": 0,
              "ticks": ""
             }
            },
            "type": "scatterpolargl"
           }
          ],
          "scatterternary": [
           {
            "marker": {
             "colorbar": {
              "outlinewidth": 0,
              "ticks": ""
             }
            },
            "type": "scatterternary"
           }
          ],
          "surface": [
           {
            "colorbar": {
             "outlinewidth": 0,
             "ticks": ""
            },
            "colorscale": [
             [
              0,
              "#0d0887"
             ],
             [
              0.1111111111111111,
              "#46039f"
             ],
             [
              0.2222222222222222,
              "#7201a8"
             ],
             [
              0.3333333333333333,
              "#9c179e"
             ],
             [
              0.4444444444444444,
              "#bd3786"
             ],
             [
              0.5555555555555556,
              "#d8576b"
             ],
             [
              0.6666666666666666,
              "#ed7953"
             ],
             [
              0.7777777777777778,
              "#fb9f3a"
             ],
             [
              0.8888888888888888,
              "#fdca26"
             ],
             [
              1,
              "#f0f921"
             ]
            ],
            "type": "surface"
           }
          ],
          "table": [
           {
            "cells": {
             "fill": {
              "color": "#EBF0F8"
             },
             "line": {
              "color": "white"
             }
            },
            "header": {
             "fill": {
              "color": "#C8D4E3"
             },
             "line": {
              "color": "white"
             }
            },
            "type": "table"
           }
          ]
         },
         "layout": {
          "annotationdefaults": {
           "arrowcolor": "#2a3f5f",
           "arrowhead": 0,
           "arrowwidth": 1
          },
          "autotypenumbers": "strict",
          "coloraxis": {
           "colorbar": {
            "outlinewidth": 0,
            "ticks": ""
           }
          },
          "colorscale": {
           "diverging": [
            [
             0,
             "#8e0152"
            ],
            [
             0.1,
             "#c51b7d"
            ],
            [
             0.2,
             "#de77ae"
            ],
            [
             0.3,
             "#f1b6da"
            ],
            [
             0.4,
             "#fde0ef"
            ],
            [
             0.5,
             "#f7f7f7"
            ],
            [
             0.6,
             "#e6f5d0"
            ],
            [
             0.7,
             "#b8e186"
            ],
            [
             0.8,
             "#7fbc41"
            ],
            [
             0.9,
             "#4d9221"
            ],
            [
             1,
             "#276419"
            ]
           ],
           "sequential": [
            [
             0,
             "#0d0887"
            ],
            [
             0.1111111111111111,
             "#46039f"
            ],
            [
             0.2222222222222222,
             "#7201a8"
            ],
            [
             0.3333333333333333,
             "#9c179e"
            ],
            [
             0.4444444444444444,
             "#bd3786"
            ],
            [
             0.5555555555555556,
             "#d8576b"
            ],
            [
             0.6666666666666666,
             "#ed7953"
            ],
            [
             0.7777777777777778,
             "#fb9f3a"
            ],
            [
             0.8888888888888888,
             "#fdca26"
            ],
            [
             1,
             "#f0f921"
            ]
           ],
           "sequentialminus": [
            [
             0,
             "#0d0887"
            ],
            [
             0.1111111111111111,
             "#46039f"
            ],
            [
             0.2222222222222222,
             "#7201a8"
            ],
            [
             0.3333333333333333,
             "#9c179e"
            ],
            [
             0.4444444444444444,
             "#bd3786"
            ],
            [
             0.5555555555555556,
             "#d8576b"
            ],
            [
             0.6666666666666666,
             "#ed7953"
            ],
            [
             0.7777777777777778,
             "#fb9f3a"
            ],
            [
             0.8888888888888888,
             "#fdca26"
            ],
            [
             1,
             "#f0f921"
            ]
           ]
          },
          "colorway": [
           "#636efa",
           "#EF553B",
           "#00cc96",
           "#ab63fa",
           "#FFA15A",
           "#19d3f3",
           "#FF6692",
           "#B6E880",
           "#FF97FF",
           "#FECB52"
          ],
          "font": {
           "color": "#2a3f5f"
          },
          "geo": {
           "bgcolor": "white",
           "lakecolor": "white",
           "landcolor": "#E5ECF6",
           "showlakes": true,
           "showland": true,
           "subunitcolor": "white"
          },
          "hoverlabel": {
           "align": "left"
          },
          "hovermode": "closest",
          "mapbox": {
           "style": "light"
          },
          "paper_bgcolor": "white",
          "plot_bgcolor": "#E5ECF6",
          "polar": {
           "angularaxis": {
            "gridcolor": "white",
            "linecolor": "white",
            "ticks": ""
           },
           "bgcolor": "#E5ECF6",
           "radialaxis": {
            "gridcolor": "white",
            "linecolor": "white",
            "ticks": ""
           }
          },
          "scene": {
           "xaxis": {
            "backgroundcolor": "#E5ECF6",
            "gridcolor": "white",
            "gridwidth": 2,
            "linecolor": "white",
            "showbackground": true,
            "ticks": "",
            "zerolinecolor": "white"
           },
           "yaxis": {
            "backgroundcolor": "#E5ECF6",
            "gridcolor": "white",
            "gridwidth": 2,
            "linecolor": "white",
            "showbackground": true,
            "ticks": "",
            "zerolinecolor": "white"
           },
           "zaxis": {
            "backgroundcolor": "#E5ECF6",
            "gridcolor": "white",
            "gridwidth": 2,
            "linecolor": "white",
            "showbackground": true,
            "ticks": "",
            "zerolinecolor": "white"
           }
          },
          "shapedefaults": {
           "line": {
            "color": "#2a3f5f"
           }
          },
          "ternary": {
           "aaxis": {
            "gridcolor": "white",
            "linecolor": "white",
            "ticks": ""
           },
           "baxis": {
            "gridcolor": "white",
            "linecolor": "white",
            "ticks": ""
           },
           "bgcolor": "#E5ECF6",
           "caxis": {
            "gridcolor": "white",
            "linecolor": "white",
            "ticks": ""
           }
          },
          "title": {
           "x": 0.05
          },
          "xaxis": {
           "automargin": true,
           "gridcolor": "white",
           "linecolor": "white",
           "ticks": "",
           "title": {
            "standoff": 15
           },
           "zerolinecolor": "white",
           "zerolinewidth": 2
          },
          "yaxis": {
           "automargin": true,
           "gridcolor": "white",
           "linecolor": "white",
           "ticks": "",
           "title": {
            "standoff": 15
           },
           "zerolinecolor": "white",
           "zerolinewidth": 2
          }
         }
        },
        "title": {
         "text": "📉 Anti-Top 3 Eventos con Menor Porcentaje de Llenado del Estadio"
        },
        "xaxis": {
         "anchor": "y",
         "domain": [
          0,
          1
         ],
         "range": [
          0,
          105.73303540874048
         ],
         "title": {
          "text": "Porcentaje de Llenado (%)"
         }
        },
        "yaxis": {
         "anchor": "x",
         "domain": [
          0,
          1
         ],
         "title": {
          "text": "Estadio (Año)"
         }
        }
       }
      },
      "image/png": "[encoded data removed]"
     },
     "metadata": {},
     "output_type": "display_data"
    }
   ],
   "source": [
    "fig_antitop = px.bar(\n",
    "    antitop_10_grafico, \n",
    "    x='Porcentaje_Llenado', \n",
    "    y='Estadio_Evento', \n",
    "    orientation='h', # horizontal para mejor lectura de etiquetas\n",
    "    title='📉 Anti-Top 3 Eventos con Menor Porcentaje de Llenado del Estadio',\n",
    "    labels={'Porcentaje_Llenado': 'Porcentaje de Llenado (%)', 'Estadio_Evento': 'Estadio (Año)'},\n",
    "    text='Porcentaje_Llenado'\n",
    ")\n",
    "\n",
    "# Configurar texto en la barra\n",
    "fig_antitop.update_traces(texttemplate='%{text:.2f}%', textposition='outside')\n",
    "# eje X inicie en 0 y sea legible\n",
    "fig_antitop.update_layout(xaxis=dict(range=[0, antitop_10_grafico['Porcentaje_Llenado'].max() * 1.1]))\n",
    "fig_antitop.show()"
   ]
  },
  {
   "cell_type": "markdown",
   "id": "7651b4d6-ca86-40a6-8de0-1fe8f25cfbbd",
   "metadata": {},
   "source": [
    "#### Stadiums por paises host"
   ]
  },
  {
   "cell_type": "code",
   "execution_count": 156,
   "id": "f2c4f7e9-c261-4ac4-a545-b6b2985b3f9a",
   "metadata": {},
   "outputs": [],
   "source": [
    "# --- Definir los países a filtrar ---\n",
    "paises_host = ['Mexico', 'Canada', 'United States of America']\n",
    "\n",
    "# Filtrar por países\n",
    "country_col_limpia = df_stadiums['Country'].astype(str).str.lower().str.strip()\n",
    "paises_filtro = [p.lower().strip() for p in paises_host]\n",
    "df_filtrado_paises = df_stadiums[country_col_limpia.isin(paises_filtro)].copy()"
   ]
  },
  {
   "cell_type": "code",
   "execution_count": 157,
   "id": "b0cfd822-1d9b-4ece-8518-d6bcd1b22699",
   "metadata": {},
   "outputs": [],
   "source": [
    "# --- Limpiar y Preparar por Capacidad ---\n",
    "# Preparar datos de capacidad\n",
    "df_capacidad_estadio = df_filtrado_paises[['Country', 'Stadium', 'Capacity']].copy()\n",
    "df_capacidad_estadio['Capacity'] = pd.to_numeric(\n",
    "    df_capacidad_estadio['Capacity'].astype(str).str.replace(',', '', regex=False),\n",
    "    errors='coerce'\n",
    ")"
   ]
  },
  {
   "cell_type": "code",
   "execution_count": 158,
   "id": "013a3e7c-9ec2-45e0-aea6-925cc939424d",
   "metadata": {},
   "outputs": [
    {
     "data": {
      "text/html": [
       "<div>\n",
       "<style scoped>\n",
       "    .dataframe tbody tr th:only-of-type {\n",
       "        vertical-align: middle;\n",
       "    }\n",
       "\n",
       "    .dataframe tbody tr th {\n",
       "        vertical-align: top;\n",
       "    }\n",
       "\n",
       "    .dataframe thead th {\n",
       "        text-align: right;\n",
       "    }\n",
       "</style>\n",
       "<table border=\"1\" class=\"dataframe\">\n",
       "  <thead>\n",
       "    <tr style=\"text-align: right;\">\n",
       "      <th></th>\n",
       "      <th>Country</th>\n",
       "      <th>Stadium</th>\n",
       "      <th>Capacity</th>\n",
       "    </tr>\n",
       "  </thead>\n",
       "  <tbody>\n",
       "    <tr>\n",
       "      <th>1955</th>\n",
       "      <td>United States of America</td>\n",
       "      <td>Pier 40</td>\n",
       "      <td>500</td>\n",
       "    </tr>\n",
       "    <tr>\n",
       "      <th>1008</th>\n",
       "      <td>Mexico</td>\n",
       "      <td>Estadio Borregos</td>\n",
       "      <td>2000</td>\n",
       "    </tr>\n",
       "    <tr>\n",
       "      <th>1870</th>\n",
       "      <td>United States of America</td>\n",
       "      <td>Al Lang Stadium</td>\n",
       "      <td>7500</td>\n",
       "    </tr>\n",
       "    <tr>\n",
       "      <th>1983</th>\n",
       "      <td>United States of America</td>\n",
       "      <td>Toyota Field</td>\n",
       "      <td>8296</td>\n",
       "    </tr>\n",
       "    <tr>\n",
       "      <th>1949</th>\n",
       "      <td>United States of America</td>\n",
       "      <td>NSC Stadium</td>\n",
       "      <td>8500</td>\n",
       "    </tr>\n",
       "    <tr>\n",
       "      <th>...</th>\n",
       "      <td>...</td>\n",
       "      <td>...</td>\n",
       "      <td>...</td>\n",
       "    </tr>\n",
       "    <tr>\n",
       "      <th>1923</th>\n",
       "      <td>United States of America</td>\n",
       "      <td>Kyle Field</td>\n",
       "      <td>102733</td>\n",
       "    </tr>\n",
       "    <tr>\n",
       "      <th>1951</th>\n",
       "      <td>United States of America</td>\n",
       "      <td>Ohio Stadium</td>\n",
       "      <td>104944</td>\n",
       "    </tr>\n",
       "    <tr>\n",
       "      <th>1882</th>\n",
       "      <td>United States of America</td>\n",
       "      <td>Beaver Stadium</td>\n",
       "      <td>106572</td>\n",
       "    </tr>\n",
       "    <tr>\n",
       "      <th>1943</th>\n",
       "      <td>United States of America</td>\n",
       "      <td>Michigan Stadium</td>\n",
       "      <td>107601</td>\n",
       "    </tr>\n",
       "    <tr>\n",
       "      <th>1886</th>\n",
       "      <td>United States of America</td>\n",
       "      <td>Bristol Motor Speedway</td>\n",
       "      <td>153000</td>\n",
       "    </tr>\n",
       "  </tbody>\n",
       "</table>\n",
       "<p>171 rows × 3 columns</p>\n",
       "</div>"
      ],
      "text/plain": [
       "                       Country                 Stadium  Capacity\n",
       "1955  United States of America                 Pier 40       500\n",
       "1008                    Mexico        Estadio Borregos      2000\n",
       "1870  United States of America         Al Lang Stadium      7500\n",
       "1983  United States of America            Toyota Field      8296\n",
       "1949  United States of America             NSC Stadium      8500\n",
       "...                        ...                     ...       ...\n",
       "1923  United States of America              Kyle Field    102733\n",
       "1951  United States of America            Ohio Stadium    104944\n",
       "1882  United States of America          Beaver Stadium    106572\n",
       "1943  United States of America        Michigan Stadium    107601\n",
       "1886  United States of America  Bristol Motor Speedway    153000\n",
       "\n",
       "[171 rows x 3 columns]"
      ]
     },
     "execution_count": 158,
     "metadata": {},
     "output_type": "execute_result"
    }
   ],
   "source": [
    "df_grafica_individual"
   ]
  },
  {
   "cell_type": "markdown",
   "id": "081ff910-dfbe-4efc-ab0f-5472e5e3043e",
   "metadata": {},
   "source": [
    "## GUARDAR df_grafica_individual"
   ]
  },
  {
   "cell_type": "code",
   "execution_count": 159,
   "id": "909ab919-31b9-46a6-b6f3-2f352dc017e6",
   "metadata": {},
   "outputs": [
    {
     "name": "stdout",
     "output_type": "stream",
     "text": [
      "Estadios filtrados: 171\n",
      " Guardado exitosamente: s3://xideralaws-curso-yalbani/datos_limpios/df_grafica_individual.csv\n"
     ]
    }
   ],
   "source": [
    "df_grafica_individual = df_capacidad_estadio.dropna(subset=['Capacity']).copy()\n",
    "df_grafica_individual.sort_values(by='Capacity', ascending=True, inplace=True)\n",
    "print(f\"Estadios filtrados: {len(df_grafica_individual)}\")\n",
    "save_csv_to_s3(df_grafica_individual, bucket_name, \"datos_limpios/df_grafica_individual.csv\")"
   ]
  },
  {
   "cell_type": "code",
   "execution_count": 160,
   "id": "f93a2f90-8ca0-47ae-9001-82c7b0da2fb4",
   "metadata": {},
   "outputs": [],
   "source": [
    "# ---Limpieza y Conversion a Número ---\n",
    "def clean_and_convert_to_float(df, col_name):\n",
    "    \"\"\"Convierte una columna con formato de coma (ej: \"35,464\") a float.\"\"\"\n",
    "    cleaned_series = df[col_name].astype(str).str.replace(',', '', regex=False).replace('N/A', np.nan)\n",
    "    return pd.to_numeric(cleaned_series, errors='coerce')"
   ]
  },
  {
   "cell_type": "code",
   "execution_count": 161,
   "id": "d5323ed6-f42f-4106-ae77-656fc9a3b482",
   "metadata": {},
   "outputs": [
    {
     "name": "stdout",
     "output_type": "stream",
     "text": [
      "<class 'pandas.core.frame.DataFrame'>\n",
      "RangeIndex: 3 entries, 0 to 2\n",
      "Data columns (total 5 columns):\n",
      " #   Column                    Non-Null Count  Dtype  \n",
      "---  ------                    --------------  -----  \n",
      " 0   Country                   3 non-null      object \n",
      " 1   Estadios_Unicos           3 non-null      int64  \n",
      " 2   Capacidad_Promedio        3 non-null      float64\n",
      " 3   Capacidad_Maxima          3 non-null      int64  \n",
      " 4   Capacidad_Total_Asientos  3 non-null      int64  \n",
      "dtypes: float64(1), int64(3), object(1)\n",
      "memory usage: 252.0+ bytes\n",
      "Resumen por país completado\n",
      " Guardado exitosamente: s3://xideralaws-curso-yalbani/datos_limpios/tabla_ordenada_max.csv\n"
     ]
    }
   ],
   "source": [
    "# Tabla resumen por país\n",
    "tabla_resumen_capacidad = df_capacidad_estadio.groupby('Country').agg(\n",
    "    Estadios_Unicos=('Stadium', 'nunique'),\n",
    "    Capacidad_Promedio=('Capacity', 'mean'),\n",
    "    Capacidad_Maxima=('Capacity', 'max'),\n",
    "    Capacidad_Total_Asientos=('Capacity', 'sum')\n",
    ").reset_index()\n",
    "\n",
    "tabla_ordenada_max = tabla_resumen_capacidad.sort_values(by='Capacidad_Maxima', ascending=False)\n",
    "tabla_resumen_capacidad.info()\n",
    "\n",
    "if 'Capacidad_Maxima' not in tabla_resumen_capacidad.columns:\n",
    "    tabla_resumen_capacidad['Capacidad_Maxima'] = clean_and_convert_to_float(tabla_resumen_capacidad, 'Capacidad_Maxima')\n",
    "\n",
    "tabla_ordenada_max = tabla_resumen_capacidad.sort_values(\n",
    "    by='Capacidad_Maxima', \n",
    "    ascending=False\n",
    ")\n",
    "\n",
    "tabla_resumen_capacidad['Capacidad_Maxima_Num'] = clean_and_convert_to_float(tabla_resumen_capacidad, 'Capacidad_Maxima')\n",
    "tabla_resumen_capacidad['Capacidad_Promedio_Num'] = clean_and_convert_to_float(tabla_resumen_capacidad, 'Capacidad_Promedio')\n",
    "\n",
    "\n",
    "print(f\"Resumen por país completado\")\n",
    "save_csv_to_s3(tabla_ordenada_max, bucket_name, \"datos_limpios/tabla_ordenada_max.csv\")"
   ]
  },
  {
   "cell_type": "markdown",
   "id": "4c10113d-c5bf-4e38-b845-e967cf1865af",
   "metadata": {},
   "source": [
    "## GUARDAR tabla_ordenada_max"
   ]
  },
  {
   "cell_type": "code",
   "execution_count": 162,
   "id": "f2d16e03-6cce-4b24-980d-59c55542953b",
   "metadata": {},
   "outputs": [
    {
     "data": {
      "application/vnd.plotly.v1+json": {
       "config": {
        "plotlyServerURL": "https://plot.ly"
       },
       "data": [
        {
         "hovertemplate": "Country=%{x}<br>Capacidad Máxima (Asientos)=%{y}<extra></extra>",
         "legendgroup": "United States of America",
         "marker": {
          "color": "#636efa",
          "pattern": {
           "shape": ""
          }
         },
         "name": "United States of America",
         "orientation": "v",
         "showlegend": true,
         "textposition": "inside",
         "texttemplate": "%{y:,}",
         "type": "bar",
         "x": [
          "United States of America"
         ],
         "xaxis": "x",
         "y": {
          "bdata": "qFUCAA==",
          "dtype": "i4"
         },
         "yaxis": "y"
        },
        {
         "hovertemplate": "Country=%{x}<br>Capacidad Máxima (Asientos)=%{y}<extra></extra>",
         "legendgroup": "Mexico",
         "marker": {
          "color": "#EF553B",
          "pattern": {
           "shape": ""
          }
         },
         "name": "Mexico",
         "orientation": "v",
         "showlegend": true,
         "textposition": "inside",
         "texttemplate": "%{y:,}",
         "type": "bar",
         "x": [
          "Mexico"
         ],
         "xaxis": "x",
         "y": {
          "bdata": "2FMBAA==",
          "dtype": "i4"
         },
         "yaxis": "y"
        },
        {
         "hovertemplate": "Country=%{x}<br>Capacidad Máxima (Asientos)=%{y}<extra></extra>",
         "legendgroup": "Canada",
         "marker": {
          "color": "#00cc96",
          "pattern": {
           "shape": ""
          }
         },
         "name": "Canada",
         "orientation": "v",
         "showlegend": true,
         "textposition": "inside",
         "texttemplate": "%{y:,}",
         "type": "bar",
         "x": [
          "Canada"
         ],
         "xaxis": "x",
         "y": {
          "bdata": "BAMBAA==",
          "dtype": "i4"
         },
         "yaxis": "y"
        }
       ],
       "layout": {
        "barmode": "relative",
        "legend": {
         "title": {
          "text": "Country"
         },
         "tracegroupgap": 0
        },
        "template": {
         "data": {
          "bar": [
           {
            "error_x": {
             "color": "#2a3f5f"
            },
            "error_y": {
             "color": "#2a3f5f"
            },
            "marker": {
             "line": {
              "color": "#E5ECF6",
              "width": 0.5
             },
             "pattern": {
              "fillmode": "overlay",
              "size": 10,
              "solidity": 0.2
             }
            },
            "type": "bar"
           }
          ],
          "barpolar": [
           {
            "marker": {
             "line": {
              "color": "#E5ECF6",
              "width": 0.5
             },
             "pattern": {
              "fillmode": "overlay",
              "size": 10,
              "solidity": 0.2
             }
            },
            "type": "barpolar"
           }
          ],
          "carpet": [
           {
            "aaxis": {
             "endlinecolor": "#2a3f5f",
             "gridcolor": "white",
             "linecolor": "white",
             "minorgridcolor": "white",
             "startlinecolor": "#2a3f5f"
            },
            "baxis": {
             "endlinecolor": "#2a3f5f",
             "gridcolor": "white",
             "linecolor": "white",
             "minorgridcolor": "white",
             "startlinecolor": "#2a3f5f"
            },
            "type": "carpet"
           }
          ],
          "choropleth": [
           {
            "colorbar": {
             "outlinewidth": 0,
             "ticks": ""
            },
            "type": "choropleth"
           }
          ],
          "contour": [
           {
            "colorbar": {
             "outlinewidth": 0,
             "ticks": ""
            },
            "colorscale": [
             [
              0,
              "#0d0887"
             ],
             [
              0.1111111111111111,
              "#46039f"
             ],
             [
              0.2222222222222222,
              "#7201a8"
             ],
             [
              0.3333333333333333,
              "#9c179e"
             ],
             [
              0.4444444444444444,
              "#bd3786"
             ],
             [
              0.5555555555555556,
              "#d8576b"
             ],
             [
              0.6666666666666666,
              "#ed7953"
             ],
             [
              0.7777777777777778,
              "#fb9f3a"
             ],
             [
              0.8888888888888888,
              "#fdca26"
             ],
             [
              1,
              "#f0f921"
             ]
            ],
            "type": "contour"
           }
          ],
          "contourcarpet": [
           {
            "colorbar": {
             "outlinewidth": 0,
             "ticks": ""
            },
            "type": "contourcarpet"
           }
          ],
          "heatmap": [
           {
            "colorbar": {
             "outlinewidth": 0,
             "ticks": ""
            },
            "colorscale": [
             [
              0,
              "#0d0887"
             ],
             [
              0.1111111111111111,
              "#46039f"
             ],
             [
              0.2222222222222222,
              "#7201a8"
             ],
             [
              0.3333333333333333,
              "#9c179e"
             ],
             [
              0.4444444444444444,
              "#bd3786"
             ],
             [
              0.5555555555555556,
              "#d8576b"
             ],
             [
              0.6666666666666666,
              "#ed7953"
             ],
             [
              0.7777777777777778,
              "#fb9f3a"
             ],
             [
              0.8888888888888888,
              "#fdca26"
             ],
             [
              1,
              "#f0f921"
             ]
            ],
            "type": "heatmap"
           }
          ],
          "histogram": [
           {
            "marker": {
             "pattern": {
              "fillmode": "overlay",
              "size": 10,
              "solidity": 0.2
             }
            },
            "type": "histogram"
           }
          ],
          "histogram2d": [
           {
            "colorbar": {
             "outlinewidth": 0,
             "ticks": ""
            },
            "colorscale": [
             [
              0,
              "#0d0887"
             ],
             [
              0.1111111111111111,
              "#46039f"
             ],
             [
              0.2222222222222222,
              "#7201a8"
             ],
             [
              0.3333333333333333,
              "#9c179e"
             ],
             [
              0.4444444444444444,
              "#bd3786"
             ],
             [
              0.5555555555555556,
              "#d8576b"
             ],
             [
              0.6666666666666666,
              "#ed7953"
             ],
             [
              0.7777777777777778,
              "#fb9f3a"
             ],
             [
              0.8888888888888888,
              "#fdca26"
             ],
             [
              1,
              "#f0f921"
             ]
            ],
            "type": "histogram2d"
           }
          ],
          "histogram2dcontour": [
           {
            "colorbar": {
             "outlinewidth": 0,
             "ticks": ""
            },
            "colorscale": [
             [
              0,
              "#0d0887"
             ],
             [
              0.1111111111111111,
              "#46039f"
             ],
             [
              0.2222222222222222,
              "#7201a8"
             ],
             [
              0.3333333333333333,
              "#9c179e"
             ],
             [
              0.4444444444444444,
              "#bd3786"
             ],
             [
              0.5555555555555556,
              "#d8576b"
             ],
             [
              0.6666666666666666,
              "#ed7953"
             ],
             [
              0.7777777777777778,
              "#fb9f3a"
             ],
             [
              0.8888888888888888,
              "#fdca26"
             ],
             [
              1,
              "#f0f921"
             ]
            ],
            "type": "histogram2dcontour"
           }
          ],
          "mesh3d": [
           {
            "colorbar": {
             "outlinewidth": 0,
             "ticks": ""
            },
            "type": "mesh3d"
           }
          ],
          "parcoords": [
           {
            "line": {
             "colorbar": {
              "outlinewidth": 0,
              "ticks": ""
             }
            },
            "type": "parcoords"
           }
          ],
          "pie": [
           {
            "automargin": true,
            "type": "pie"
           }
          ],
          "scatter": [
           {
            "fillpattern": {
             "fillmode": "overlay",
             "size": 10,
             "solidity": 0.2
            },
            "type": "scatter"
           }
          ],
          "scatter3d": [
           {
            "line": {
             "colorbar": {
              "outlinewidth": 0,
              "ticks": ""
             }
            },
            "marker": {
             "colorbar": {
              "outlinewidth": 0,
              "ticks": ""
             }
            },
            "type": "scatter3d"
           }
          ],
          "scattercarpet": [
           {
            "marker": {
             "colorbar": {
              "outlinewidth": 0,
              "ticks": ""
             }
            },
            "type": "scattercarpet"
           }
          ],
          "scattergeo": [
           {
            "marker": {
             "colorbar": {
              "outlinewidth": 0,
              "ticks": ""
             }
            },
            "type": "scattergeo"
           }
          ],
          "scattergl": [
           {
            "marker": {
             "colorbar": {
              "outlinewidth": 0,
              "ticks": ""
             }
            },
            "type": "scattergl"
           }
          ],
          "scattermap": [
           {
            "marker": {
             "colorbar": {
              "outlinewidth": 0,
              "ticks": ""
             }
            },
            "type": "scattermap"
           }
          ],
          "scattermapbox": [
           {
            "marker": {
             "colorbar": {
              "outlinewidth": 0,
              "ticks": ""
             }
            },
            "type": "scattermapbox"
           }
          ],
          "scatterpolar": [
           {
            "marker": {
             "colorbar": {
              "outlinewidth": 0,
              "ticks": ""
             }
            },
            "type": "scatterpolar"
           }
          ],
          "scatterpolargl": [
           {
            "marker": {
             "colorbar": {
              "outlinewidth": 0,
              "ticks": ""
             }
            },
            "type": "scatterpolargl"
           }
          ],
          "scatterternary": [
           {
            "marker": {
             "colorbar": {
              "outlinewidth": 0,
              "ticks": ""
             }
            },
            "type": "scatterternary"
           }
          ],
          "surface": [
           {
            "colorbar": {
             "outlinewidth": 0,
             "ticks": ""
            },
            "colorscale": [
             [
              0,
              "#0d0887"
             ],
             [
              0.1111111111111111,
              "#46039f"
             ],
             [
              0.2222222222222222,
              "#7201a8"
             ],
             [
              0.3333333333333333,
              "#9c179e"
             ],
             [
              0.4444444444444444,
              "#bd3786"
             ],
             [
              0.5555555555555556,
              "#d8576b"
             ],
             [
              0.6666666666666666,
              "#ed7953"
             ],
             [
              0.7777777777777778,
              "#fb9f3a"
             ],
             [
              0.8888888888888888,
              "#fdca26"
             ],
             [
              1,
              "#f0f921"
             ]
            ],
            "type": "surface"
           }
          ],
          "table": [
           {
            "cells": {
             "fill": {
              "color": "#EBF0F8"
             },
             "line": {
              "color": "white"
             }
            },
            "header": {
             "fill": {
              "color": "#C8D4E3"
             },
             "line": {
              "color": "white"
             }
            },
            "type": "table"
           }
          ]
         },
         "layout": {
          "annotationdefaults": {
           "arrowcolor": "#2a3f5f",
           "arrowhead": 0,
           "arrowwidth": 1
          },
          "autotypenumbers": "strict",
          "coloraxis": {
           "colorbar": {
            "outlinewidth": 0,
            "ticks": ""
           }
          },
          "colorscale": {
           "diverging": [
            [
             0,
             "#8e0152"
            ],
            [
             0.1,
             "#c51b7d"
            ],
            [
             0.2,
             "#de77ae"
            ],
            [
             0.3,
             "#f1b6da"
            ],
            [
             0.4,
             "#fde0ef"
            ],
            [
             0.5,
             "#f7f7f7"
            ],
            [
             0.6,
             "#e6f5d0"
            ],
            [
             0.7,
             "#b8e186"
            ],
            [
             0.8,
             "#7fbc41"
            ],
            [
             0.9,
             "#4d9221"
            ],
            [
             1,
             "#276419"
            ]
           ],
           "sequential": [
            [
             0,
             "#0d0887"
            ],
            [
             0.1111111111111111,
             "#46039f"
            ],
            [
             0.2222222222222222,
             "#7201a8"
            ],
            [
             0.3333333333333333,
             "#9c179e"
            ],
            [
             0.4444444444444444,
             "#bd3786"
            ],
            [
             0.5555555555555556,
             "#d8576b"
            ],
            [
             0.6666666666666666,
             "#ed7953"
            ],
            [
             0.7777777777777778,
             "#fb9f3a"
            ],
            [
             0.8888888888888888,
             "#fdca26"
            ],
            [
             1,
             "#f0f921"
            ]
           ],
           "sequentialminus": [
            [
             0,
             "#0d0887"
            ],
            [
             0.1111111111111111,
             "#46039f"
            ],
            [
             0.2222222222222222,
             "#7201a8"
            ],
            [
             0.3333333333333333,
             "#9c179e"
            ],
            [
             0.4444444444444444,
             "#bd3786"
            ],
            [
             0.5555555555555556,
             "#d8576b"
            ],
            [
             0.6666666666666666,
             "#ed7953"
            ],
            [
             0.7777777777777778,
             "#fb9f3a"
            ],
            [
             0.8888888888888888,
             "#fdca26"
            ],
            [
             1,
             "#f0f921"
            ]
           ]
          },
          "colorway": [
           "#636efa",
           "#EF553B",
           "#00cc96",
           "#ab63fa",
           "#FFA15A",
           "#19d3f3",
           "#FF6692",
           "#B6E880",
           "#FF97FF",
           "#FECB52"
          ],
          "font": {
           "color": "#2a3f5f"
          },
          "geo": {
           "bgcolor": "white",
           "lakecolor": "white",
           "landcolor": "#E5ECF6",
           "showlakes": true,
           "showland": true,
           "subunitcolor": "white"
          },
          "hoverlabel": {
           "align": "left"
          },
          "hovermode": "closest",
          "mapbox": {
           "style": "light"
          },
          "paper_bgcolor": "white",
          "plot_bgcolor": "#E5ECF6",
          "polar": {
           "angularaxis": {
            "gridcolor": "white",
            "linecolor": "white",
            "ticks": ""
           },
           "bgcolor": "#E5ECF6",
           "radialaxis": {
            "gridcolor": "white",
            "linecolor": "white",
            "ticks": ""
           }
          },
          "scene": {
           "xaxis": {
            "backgroundcolor": "#E5ECF6",
            "gridcolor": "white",
            "gridwidth": 2,
            "linecolor": "white",
            "showbackground": true,
            "ticks": "",
            "zerolinecolor": "white"
           },
           "yaxis": {
            "backgroundcolor": "#E5ECF6",
            "gridcolor": "white",
            "gridwidth": 2,
            "linecolor": "white",
            "showbackground": true,
            "ticks": "",
            "zerolinecolor": "white"
           },
           "zaxis": {
            "backgroundcolor": "#E5ECF6",
            "gridcolor": "white",
            "gridwidth": 2,
            "linecolor": "white",
            "showbackground": true,
            "ticks": "",
            "zerolinecolor": "white"
           }
          },
          "shapedefaults": {
           "line": {
            "color": "#2a3f5f"
           }
          },
          "ternary": {
           "aaxis": {
            "gridcolor": "white",
            "linecolor": "white",
            "ticks": ""
           },
           "baxis": {
            "gridcolor": "white",
            "linecolor": "white",
            "ticks": ""
           },
           "bgcolor": "#E5ECF6",
           "caxis": {
            "gridcolor": "white",
            "linecolor": "white",
            "ticks": ""
           }
          },
          "title": {
           "x": 0.05
          },
          "xaxis": {
           "automargin": true,
           "gridcolor": "white",
           "linecolor": "white",
           "ticks": "",
           "title": {
            "standoff": 15
           },
           "zerolinecolor": "white",
           "zerolinewidth": 2
          },
          "yaxis": {
           "automargin": true,
           "gridcolor": "white",
           "linecolor": "white",
           "ticks": "",
           "title": {
            "standoff": 15
           },
           "zerolinecolor": "white",
           "zerolinewidth": 2
          }
         }
        },
        "title": {
         "text": "🏟️ Capacidad Máxima del Estadio (Estadio Más Grande)"
        },
        "xaxis": {
         "anchor": "y",
         "categoryarray": [
          "United States of America",
          "Mexico",
          "Canada"
         ],
         "categoryorder": "array",
         "domain": [
          0,
          1
         ],
         "title": {
          "text": "Country"
         }
        },
        "yaxis": {
         "anchor": "x",
         "domain": [
          0,
          1
         ],
         "title": {
          "text": "Capacidad Máxima (Asientos)"
         }
        }
       }
      },
      "image/png": "[encoded data removed]"
     },
     "metadata": {},
     "output_type": "display_data"
    },
    {
     "data": {
      "application/vnd.plotly.v1+json": {
       "config": {
        "plotlyServerURL": "https://plot.ly"
       },
       "data": [
        {
         "hovertemplate": "Country=%{x}<br>Capacidad Promedio (Asientos)=%{y}<extra></extra>",
         "legendgroup": "United States of America",
         "marker": {
          "color": "#636efa",
          "pattern": {
           "shape": ""
          }
         },
         "name": "United States of America",
         "orientation": "v",
         "showlegend": true,
         "textposition": "inside",
         "texttemplate": "%{y:.0f}",
         "type": "bar",
         "x": [
          "United States of America"
         ],
         "xaxis": "x",
         "y": {
          "bdata": "OY7jOJ6160A=",
          "dtype": "f8"
         },
         "yaxis": "y"
        },
        {
         "hovertemplate": "Country=%{x}<br>Capacidad Promedio (Asientos)=%{y}<extra></extra>",
         "legendgroup": "Canada",
         "marker": {
          "color": "#EF553B",
          "pattern": {
           "shape": ""
          }
         },
         "name": "Canada",
         "orientation": "v",
         "showlegend": true,
         "textposition": "inside",
         "texttemplate": "%{y:.0f}",
         "type": "bar",
         "x": [
          "Canada"
         ],
         "xaxis": "x",
         "y": {
          "bdata": "AAAAAABR4UA=",
          "dtype": "f8"
         },
         "yaxis": "y"
        },
        {
         "hovertemplate": "Country=%{x}<br>Capacidad Promedio (Asientos)=%{y}<extra></extra>",
         "legendgroup": "Mexico",
         "marker": {
          "color": "#00cc96",
          "pattern": {
           "shape": ""
          }
         },
         "name": "Mexico",
         "orientation": "v",
         "showlegend": true,
         "textposition": "inside",
         "texttemplate": "%{y:.0f}",
         "type": "bar",
         "x": [
          "Mexico"
         ],
         "xaxis": "x",
         "y": {
          "bdata": "55xzzjkb4EA=",
          "dtype": "f8"
         },
         "yaxis": "y"
        }
       ],
       "layout": {
        "barmode": "relative",
        "legend": {
         "title": {
          "text": "Country"
         },
         "tracegroupgap": 0
        },
        "template": {
         "data": {
          "bar": [
           {
            "error_x": {
             "color": "#2a3f5f"
            },
            "error_y": {
             "color": "#2a3f5f"
            },
            "marker": {
             "line": {
              "color": "#E5ECF6",
              "width": 0.5
             },
             "pattern": {
              "fillmode": "overlay",
              "size": 10,
              "solidity": 0.2
             }
            },
            "type": "bar"
           }
          ],
          "barpolar": [
           {
            "marker": {
             "line": {
              "color": "#E5ECF6",
              "width": 0.5
             },
             "pattern": {
              "fillmode": "overlay",
              "size": 10,
              "solidity": 0.2
             }
            },
            "type": "barpolar"
           }
          ],
          "carpet": [
           {
            "aaxis": {
             "endlinecolor": "#2a3f5f",
             "gridcolor": "white",
             "linecolor": "white",
             "minorgridcolor": "white",
             "startlinecolor": "#2a3f5f"
            },
            "baxis": {
             "endlinecolor": "#2a3f5f",
             "gridcolor": "white",
             "linecolor": "white",
             "minorgridcolor": "white",
             "startlinecolor": "#2a3f5f"
            },
            "type": "carpet"
           }
          ],
          "choropleth": [
           {
            "colorbar": {
             "outlinewidth": 0,
             "ticks": ""
            },
            "type": "choropleth"
           }
          ],
          "contour": [
           {
            "colorbar": {
             "outlinewidth": 0,
             "ticks": ""
            },
            "colorscale": [
             [
              0,
              "#0d0887"
             ],
             [
              0.1111111111111111,
              "#46039f"
             ],
             [
              0.2222222222222222,
              "#7201a8"
             ],
             [
              0.3333333333333333,
              "#9c179e"
             ],
             [
              0.4444444444444444,
              "#bd3786"
             ],
             [
              0.5555555555555556,
              "#d8576b"
             ],
             [
              0.6666666666666666,
              "#ed7953"
             ],
             [
              0.7777777777777778,
              "#fb9f3a"
             ],
             [
              0.8888888888888888,
              "#fdca26"
             ],
             [
              1,
              "#f0f921"
             ]
            ],
            "type": "contour"
           }
          ],
          "contourcarpet": [
           {
            "colorbar": {
             "outlinewidth": 0,
             "ticks": ""
            },
            "type": "contourcarpet"
           }
          ],
          "heatmap": [
           {
            "colorbar": {
             "outlinewidth": 0,
             "ticks": ""
            },
            "colorscale": [
             [
              0,
              "#0d0887"
             ],
             [
              0.1111111111111111,
              "#46039f"
             ],
             [
              0.2222222222222222,
              "#7201a8"
             ],
             [
              0.3333333333333333,
              "#9c179e"
             ],
             [
              0.4444444444444444,
              "#bd3786"
             ],
             [
              0.5555555555555556,
              "#d8576b"
             ],
             [
              0.6666666666666666,
              "#ed7953"
             ],
             [
              0.7777777777777778,
              "#fb9f3a"
             ],
             [
              0.8888888888888888,
              "#fdca26"
             ],
             [
              1,
              "#f0f921"
             ]
            ],
            "type": "heatmap"
           }
          ],
          "histogram": [
           {
            "marker": {
             "pattern": {
              "fillmode": "overlay",
              "size": 10,
              "solidity": 0.2
             }
            },
            "type": "histogram"
           }
          ],
          "histogram2d": [
           {
            "colorbar": {
             "outlinewidth": 0,
             "ticks": ""
            },
            "colorscale": [
             [
              0,
              "#0d0887"
             ],
             [
              0.1111111111111111,
              "#46039f"
             ],
             [
              0.2222222222222222,
              "#7201a8"
             ],
             [
              0.3333333333333333,
              "#9c179e"
             ],
             [
              0.4444444444444444,
              "#bd3786"
             ],
             [
              0.5555555555555556,
              "#d8576b"
             ],
             [
              0.6666666666666666,
              "#ed7953"
             ],
             [
              0.7777777777777778,
              "#fb9f3a"
             ],
             [
              0.8888888888888888,
              "#fdca26"
             ],
             [
              1,
              "#f0f921"
             ]
            ],
            "type": "histogram2d"
           }
          ],
          "histogram2dcontour": [
           {
            "colorbar": {
             "outlinewidth": 0,
             "ticks": ""
            },
            "colorscale": [
             [
              0,
              "#0d0887"
             ],
             [
              0.1111111111111111,
              "#46039f"
             ],
             [
              0.2222222222222222,
              "#7201a8"
             ],
             [
              0.3333333333333333,
              "#9c179e"
             ],
             [
              0.4444444444444444,
              "#bd3786"
             ],
             [
              0.5555555555555556,
              "#d8576b"
             ],
             [
              0.6666666666666666,
              "#ed7953"
             ],
             [
              0.7777777777777778,
              "#fb9f3a"
             ],
             [
              0.8888888888888888,
              "#fdca26"
             ],
             [
              1,
              "#f0f921"
             ]
            ],
            "type": "histogram2dcontour"
           }
          ],
          "mesh3d": [
           {
            "colorbar": {
             "outlinewidth": 0,
             "ticks": ""
            },
            "type": "mesh3d"
           }
          ],
          "parcoords": [
           {
            "line": {
             "colorbar": {
              "outlinewidth": 0,
              "ticks": ""
             }
            },
            "type": "parcoords"
           }
          ],
          "pie": [
           {
            "automargin": true,
            "type": "pie"
           }
          ],
          "scatter": [
           {
            "fillpattern": {
             "fillmode": "overlay",
             "size": 10,
             "solidity": 0.2
            },
            "type": "scatter"
           }
          ],
          "scatter3d": [
           {
            "line": {
             "colorbar": {
              "outlinewidth": 0,
              "ticks": ""
             }
            },
            "marker": {
             "colorbar": {
              "outlinewidth": 0,
              "ticks": ""
             }
            },
            "type": "scatter3d"
           }
          ],
          "scattercarpet": [
           {
            "marker": {
             "colorbar": {
              "outlinewidth": 0,
              "ticks": ""
             }
            },
            "type": "scattercarpet"
           }
          ],
          "scattergeo": [
           {
            "marker": {
             "colorbar": {
              "outlinewidth": 0,
              "ticks": ""
             }
            },
            "type": "scattergeo"
           }
          ],
          "scattergl": [
           {
            "marker": {
             "colorbar": {
              "outlinewidth": 0,
              "ticks": ""
             }
            },
            "type": "scattergl"
           }
          ],
          "scattermap": [
           {
            "marker": {
             "colorbar": {
              "outlinewidth": 0,
              "ticks": ""
             }
            },
            "type": "scattermap"
           }
          ],
          "scattermapbox": [
           {
            "marker": {
             "colorbar": {
              "outlinewidth": 0,
              "ticks": ""
             }
            },
            "type": "scattermapbox"
           }
          ],
          "scatterpolar": [
           {
            "marker": {
             "colorbar": {
              "outlinewidth": 0,
              "ticks": ""
             }
            },
            "type": "scatterpolar"
           }
          ],
          "scatterpolargl": [
           {
            "marker": {
             "colorbar": {
              "outlinewidth": 0,
              "ticks": ""
             }
            },
            "type": "scatterpolargl"
           }
          ],
          "scatterternary": [
           {
            "marker": {
             "colorbar": {
              "outlinewidth": 0,
              "ticks": ""
             }
            },
            "type": "scatterternary"
           }
          ],
          "surface": [
           {
            "colorbar": {
             "outlinewidth": 0,
             "ticks": ""
            },
            "colorscale": [
             [
              0,
              "#0d0887"
             ],
             [
              0.1111111111111111,
              "#46039f"
             ],
             [
              0.2222222222222222,
              "#7201a8"
             ],
             [
              0.3333333333333333,
              "#9c179e"
             ],
             [
              0.4444444444444444,
              "#bd3786"
             ],
             [
              0.5555555555555556,
              "#d8576b"
             ],
             [
              0.6666666666666666,
              "#ed7953"
             ],
             [
              0.7777777777777778,
              "#fb9f3a"
             ],
             [
              0.8888888888888888,
              "#fdca26"
             ],
             [
              1,
              "#f0f921"
             ]
            ],
            "type": "surface"
           }
          ],
          "table": [
           {
            "cells": {
             "fill": {
              "color": "#EBF0F8"
             },
             "line": {
              "color": "white"
             }
            },
            "header": {
             "fill": {
              "color": "#C8D4E3"
             },
             "line": {
              "color": "white"
             }
            },
            "type": "table"
           }
          ]
         },
         "layout": {
          "annotationdefaults": {
           "arrowcolor": "#2a3f5f",
           "arrowhead": 0,
           "arrowwidth": 1
          },
          "autotypenumbers": "strict",
          "coloraxis": {
           "colorbar": {
            "outlinewidth": 0,
            "ticks": ""
           }
          },
          "colorscale": {
           "diverging": [
            [
             0,
             "#8e0152"
            ],
            [
             0.1,
             "#c51b7d"
            ],
            [
             0.2,
             "#de77ae"
            ],
            [
             0.3,
             "#f1b6da"
            ],
            [
             0.4,
             "#fde0ef"
            ],
            [
             0.5,
             "#f7f7f7"
            ],
            [
             0.6,
             "#e6f5d0"
            ],
            [
             0.7,
             "#b8e186"
            ],
            [
             0.8,
             "#7fbc41"
            ],
            [
             0.9,
             "#4d9221"
            ],
            [
             1,
             "#276419"
            ]
           ],
           "sequential": [
            [
             0,
             "#0d0887"
            ],
            [
             0.1111111111111111,
             "#46039f"
            ],
            [
             0.2222222222222222,
             "#7201a8"
            ],
            [
             0.3333333333333333,
             "#9c179e"
            ],
            [
             0.4444444444444444,
             "#bd3786"
            ],
            [
             0.5555555555555556,
             "#d8576b"
            ],
            [
             0.6666666666666666,
             "#ed7953"
            ],
            [
             0.7777777777777778,
             "#fb9f3a"
            ],
            [
             0.8888888888888888,
             "#fdca26"
            ],
            [
             1,
             "#f0f921"
            ]
           ],
           "sequentialminus": [
            [
             0,
             "#0d0887"
            ],
            [
             0.1111111111111111,
             "#46039f"
            ],
            [
             0.2222222222222222,
             "#7201a8"
            ],
            [
             0.3333333333333333,
             "#9c179e"
            ],
            [
             0.4444444444444444,
             "#bd3786"
            ],
            [
             0.5555555555555556,
             "#d8576b"
            ],
            [
             0.6666666666666666,
             "#ed7953"
            ],
            [
             0.7777777777777778,
             "#fb9f3a"
            ],
            [
             0.8888888888888888,
             "#fdca26"
            ],
            [
             1,
             "#f0f921"
            ]
           ]
          },
          "colorway": [
           "#636efa",
           "#EF553B",
           "#00cc96",
           "#ab63fa",
           "#FFA15A",
           "#19d3f3",
           "#FF6692",
           "#B6E880",
           "#FF97FF",
           "#FECB52"
          ],
          "font": {
           "color": "#2a3f5f"
          },
          "geo": {
           "bgcolor": "white",
           "lakecolor": "white",
           "landcolor": "#E5ECF6",
           "showlakes": true,
           "showland": true,
           "subunitcolor": "white"
          },
          "hoverlabel": {
           "align": "left"
          },
          "hovermode": "closest",
          "mapbox": {
           "style": "light"
          },
          "paper_bgcolor": "white",
          "plot_bgcolor": "#E5ECF6",
          "polar": {
           "angularaxis": {
            "gridcolor": "white",
            "linecolor": "white",
            "ticks": ""
           },
           "bgcolor": "#E5ECF6",
           "radialaxis": {
            "gridcolor": "white",
            "linecolor": "white",
            "ticks": ""
           }
          },
          "scene": {
           "xaxis": {
            "backgroundcolor": "#E5ECF6",
            "gridcolor": "white",
            "gridwidth": 2,
            "linecolor": "white",
            "showbackground": true,
            "ticks": "",
            "zerolinecolor": "white"
           },
           "yaxis": {
            "backgroundcolor": "#E5ECF6",
            "gridcolor": "white",
            "gridwidth": 2,
            "linecolor": "white",
            "showbackground": true,
            "ticks": "",
            "zerolinecolor": "white"
           },
           "zaxis": {
            "backgroundcolor": "#E5ECF6",
            "gridcolor": "white",
            "gridwidth": 2,
            "linecolor": "white",
            "showbackground": true,
            "ticks": "",
            "zerolinecolor": "white"
           }
          },
          "shapedefaults": {
           "line": {
            "color": "#2a3f5f"
           }
          },
          "ternary": {
           "aaxis": {
            "gridcolor": "white",
            "linecolor": "white",
            "ticks": ""
           },
           "baxis": {
            "gridcolor": "white",
            "linecolor": "white",
            "ticks": ""
           },
           "bgcolor": "#E5ECF6",
           "caxis": {
            "gridcolor": "white",
            "linecolor": "white",
            "ticks": ""
           }
          },
          "title": {
           "x": 0.05
          },
          "xaxis": {
           "automargin": true,
           "gridcolor": "white",
           "linecolor": "white",
           "ticks": "",
           "title": {
            "standoff": 15
           },
           "zerolinecolor": "white",
           "zerolinewidth": 2
          },
          "yaxis": {
           "automargin": true,
           "gridcolor": "white",
           "linecolor": "white",
           "ticks": "",
           "title": {
            "standoff": 15
           },
           "zerolinecolor": "white",
           "zerolinewidth": 2
          }
         }
        },
        "title": {
         "text": "📊 Capacidad Promedio de Estadios por País"
        },
        "xaxis": {
         "anchor": "y",
         "categoryarray": [
          "United States of America",
          "Canada",
          "Mexico"
         ],
         "categoryorder": "array",
         "domain": [
          0,
          1
         ],
         "title": {
          "text": "Country"
         }
        },
        "yaxis": {
         "anchor": "x",
         "domain": [
          0,
          1
         ],
         "title": {
          "text": "Capacidad Promedio (Asientos)"
         }
        }
       }
      },
      "image/png": "[encoded data removed]"
     },
     "metadata": {},
     "output_type": "display_data"
    }
   ],
   "source": [
    "# --- Gráfico de Capacidad Máxima ---\n",
    "fig_max = px.bar(\n",
    "    tabla_resumen_capacidad.sort_values(by='Capacidad_Maxima', ascending=False),\n",
    "    x='Country',\n",
    "    y='Capacidad_Maxima',\n",
    "    color='Country',\n",
    "    title='🏟️ Capacidad Máxima del Estadio (Estadio Más Grande)',\n",
    "    labels={'Capacidad_Maxima': 'Capacidad Máxima (Asientos)'},\n",
    ")\n",
    "fig_max.update_traces(texttemplate='%{y:,}', textposition='inside')\n",
    "fig_max.show()\n",
    "\n",
    "# --- Capacidad Promedio ---\n",
    "fig_avg = px.bar(\n",
    "    tabla_resumen_capacidad.sort_values(by='Capacidad_Promedio', ascending=False),\n",
    "    x='Country',\n",
    "    y='Capacidad_Promedio',\n",
    "    color='Country',\n",
    "    title='📊 Capacidad Promedio de Estadios por País',\n",
    "    labels={'Capacidad_Promedio': 'Capacidad Promedio (Asientos)'},\n",
    ")\n",
    "fig_avg.update_traces(texttemplate='%{y:.0f}', textposition='inside')\n",
    "fig_avg.show()"
   ]
  },
  {
   "cell_type": "code",
   "execution_count": 163,
   "id": "b66cb23b-7c91-42ad-b5f0-5bf48b85d062",
   "metadata": {},
   "outputs": [
    {
     "data": {
      "application/vnd.plotly.v1+json": {
       "config": {
        "plotlyServerURL": "https://plot.ly"
       },
       "data": [
        {
         "hovertemplate": "País=United States of America<br>Capacidad (Asientos)=%{x}<br>Estadio=%{y}<extra></extra>",
         "legendgroup": "United States of America",
         "marker": {
          "color": "#636efa",
          "pattern": {
           "shape": ""
          }
         },
         "name": "United States of America",
         "orientation": "h",
         "showlegend": true,
         "text": [
          "500",
          "2,000",
          "7,500",
          "8,296",
          "8,500",
          "9,600",
          "10,000",
          "10,500",
          "10,525",
          "15,000",
          "16,324",
          "17,200",
          "18,000",
          "18,000",
          "18,086",
          "18,467",
          "18,500",
          "19,968",
          "20,000",
          "20,000",
          "20,000",
          "20,000",
          "20,008",
          "20,118",
          "20,411",
          "20,450",
          "20,801",
          "21,000",
          "21,144",
          "21,193",
          "22,000",
          "22,000",
          "22,039",
          "22,988",
          "24,000",
          "24,000",
          "24,000",
          "24,050",
          "24,443",
          "25,000",
          "25,012",
          "25,189",
          "25,494",
          "25,500",
          "27,000",
          "27,333",
          "27,773",
          "28,500",
          "28,703",
          "29,419",
          "29,508",
          "30,000",
          "30,000",
          "30,200",
          "30,323",
          "30,945",
          "30,991",
          "31,297",
          "31,500",
          "32,000",
          "32,662",
          "33,000",
          "33,422",
          "34,130",
          "35,161",
          "35,650",
          "38,000",
          "38,227",
          "38,800",
          "38,869",
          "40,000",
          "41,200",
          "41,886",
          "42,735",
          "45,017",
          "45,140",
          "45,674",
          "47,130",
          "49,262",
          "49,642",
          "49,850",
          "50,000",
          "50,071",
          "50,805",
          "51,726",
          "51,802",
          "52,454",
          "52,465",
          "52,929",
          "53,000",
          "53,000",
          "53,500",
          "54,000",
          "54,000",
          "56,057",
          "56,302",
          "56,692",
          "56,713",
          "57,236",
          "59,308",
          "61,348",
          "61,446",
          "63,000",
          "63,000",
          "63,186",
          "63,186",
          "63,400",
          "63,470",
          "63,500",
          "65,000",
          "65,000",
          "65,050",
          "65,326",
          "65,515",
          "65,632",
          "65,857",
          "66,000",
          "66,308",
          "66,665",
          "67,000",
          "67,246",
          "68,756",
          "68,983",
          "69,143",
          "69,176",
          "69,732",
          "70,107",
          "70,138",
          "70,561",
          "70,585",
          "71,000",
          "71,168",
          "71,594",
          "71,795",
          "72,000",
          "72,300",
          "73,208",
          "73,379",
          "74,222",
          "74,228",
          "75,005",
          "75,339",
          "75,412",
          "76,125",
          "76,416",
          "80,000",
          "80,250",
          "80,321",
          "80,750",
          "80,795",
          "81,500",
          "82,000",
          "82,112",
          "82,300",
          "82,566",
          "86,047",
          "87,000",
          "87,451",
          "88,548",
          "92,542",
          "92,746",
          "93,607",
          "100,119",
          "101,821",
          "102,321",
          "102,455",
          "102,733",
          "104,944",
          "106,572",
          "107,601",
          "153,000"
         ],
         "textposition": "outside",
         "texttemplate": "%{text}",
         "type": "bar",
         "x": {
          "bdata": "9AEAAEwdAABoIAAANCEAABAnAAAEKQAAHSkAAJg6AADEPwAAUEYAAKZGAAAjSAAAREgAAABOAAAgTgAAIE4AAChOAACWTgAA4k8AAJhSAADJUgAA8FUAAPBVAAAXVgAA8l0AAGViAACcYwAAeGkAAH1sAADrcgAA+HUAAHN2AAAMewAAcJQAAFOVAACQlwAAQJwAAPCgAADvpgAA2a8AAFSwAABqsgAAGrgAAG7AAADqwQAAUMMAAJfDAAB1xgAAWsoAAObMAADBzgAACM8AAAjPAADw0gAA+doAAHTdAACU3wAArOcAAKTvAAAG8AAAGPYAABj2AADS9gAAqPcAAO73AAAM+AAA6P0AAOj9AAAa/gAALv8AAOv/AABgAAEAQQEBANABAQBpBAEAuAUBAK4GAQCUDAEAdw0BABcOAQA4DgEAZBABANsRAQD6EQEAoRMBALkTAQBYFQEAABYBAKoXAQBzGAEAQBkBAGwaAQD4HQEAox4BAO4hAQD0IQEA/SQBAEsmAQCUJgEAXSkBAIAqAQCAOAEAejkBAME5AQBuOwEAmzsBAFw+AQBQQAEAwEABAHxBAQCGQgEAH1ABAJtVAQDkWQEAfmkBAEpqAQCnbQEAF4cBAL2NAQCxjwEAN5ABAE2RAQDwmQEATKABAFGkAQCoVQIA",
          "dtype": "i4"
         },
         "xaxis": "x",
         "y": [
          "Pier 40",
          "Al Lang Stadium",
          "Toyota Field",
          "NSC Stadium",
          "WakeMed Soccer Park",
          "Hayward Field",
          "Buck Shaw Stadium",
          "Stadium Bowl",
          "UNI-Dome",
          "Avaya Stadium",
          "DSG Park",
          "Children’s Mercy Park",
          "Talen Energy Stadium",
          "MAPFRE Stadium",
          "Audi Field",
          "Toyota Park",
          "Rio Tinto Stadium",
          "Foreman Field",
          "Lockhart Stadium",
          "Providence Park",
          "Toyota Stadium",
          "Banc of California Stadium",
          "University of Richmond Stadium",
          "BBVA Compass Stadium",
          "Kidd Brewer Stadium",
          "Red Bull Arena",
          "Orlando City Stadium",
          "StubHub Center",
          "Princeton Stadium",
          "FAU Stadium",
          "Waldo Stadium",
          "Harvard Stadium",
          "BB&T Field",
          "Michie Stadium",
          "Joan C. Edwards Stadium",
          "Nippert Stadium",
          "TDECU Stadium",
          "Canvas Stadium",
          "Tropicana Field",
          "Rice-Eccles Stadium",
          "McLane Stadium",
          "Reser Stadium",
          "Ryan Field",
          "Carrier Dome",
          "Yankee Stadium",
          "Aloha Stadium",
          "KU Memorial Stadium",
          "TCF Bank Stadium",
          "Byrd Stadium",
          "High Point Solutions Stadium",
          "Memorial Stadium",
          "Boone Pickens Stadium",
          "Bill Snyder Family Stadium",
          "Autzen Stadium",
          "O.co Coliseum",
          "RFK Stadium",
          "Ross-Ade Stadium",
          "Liberty Bowl",
          "Camping World Stadium",
          "Yale Bowl",
          "Kenan Stadium",
          "Lucas Oil Stadium",
          "California Memorial Stadium",
          "University of Phoenix Stadium",
          "LaVell Edwards Stadium",
          "Soldier Field",
          "Alamodome",
          "Ford Field",
          "Heinz Field",
          "Hard Rock Stadium",
          "Paul Brown Stadium",
          "Lane Stadium",
          "Raymond James Stadium",
          "Edward Jones Dome",
          "U.S. Bank Stadium",
          "CenturyLink Field",
          "TIAA Bank Field",
          "Gillette Stadium",
          "Levi's Stadium",
          "Nissan Stadium",
          "Lincoln Financial Field",
          "Candlestick Park",
          "M&T Bank Stadium",
          "Husky Stadium",
          "Qualcomm Stadium",
          "Kinnick Stadium",
          "Mercedes-Benz Stadium",
          "Faurot Field",
          "Legion Field",
          "NRG Stadium",
          "Razorback Stadium",
          "FirstEnergy Stadium",
          "Mercedes-Benz Superdome",
          "Sun Devil Stadium",
          "Cotton Bowl",
          "Georgia Dome",
          "Spartan Stadium",
          "Ralph Wilson Stadium",
          "Bank of America Stadium",
          "Sports Authority Field",
          "Arrowhead Stadium",
          "AT&T Stadium",
          "Williams-Brice Stadium",
          "Camp Randall Stadium",
          "Lambeau Field",
          "Notre Dame Stadium",
          "Clemson Memorial Stadium",
          "FedEx Field",
          "Oklahoma Memorial Stadium",
          "Doak Campbell Stadium",
          "MetLife Stadium",
          "Memorial Stadium",
          "Jordan-Hare Stadium",
          "Ben Hill Griffin Stadium",
          "Rose Bowl",
          "Sanford Stadium",
          "LA Memorial Coliseum",
          "Royal Memorial Stadium",
          "Bryant-Denny Stadium",
          "Tiger Stadium",
          "Neyland Stadium",
          "Kyle Field",
          "Ohio Stadium",
          "Beaver Stadium",
          "Michigan Stadium",
          "Bristol Motor Speedway"
         ],
         "yaxis": "y"
        },
        {
         "hovertemplate": "País=Mexico<br>Capacidad (Asientos)=%{x}<br>Estadio=%{y}<extra></extra>",
         "legendgroup": "Mexico",
         "marker": {
          "color": "#EF553B",
          "pattern": {
           "shape": ""
          }
         },
         "name": "Mexico",
         "orientation": "h",
         "showlegend": true,
         "text": [
          "500",
          "2,000",
          "7,500",
          "8,296",
          "8,500",
          "9,600",
          "10,000",
          "10,500",
          "10,525",
          "15,000",
          "16,324",
          "17,200",
          "18,000",
          "18,000",
          "18,086",
          "18,467",
          "18,500",
          "19,968",
          "20,000",
          "20,000",
          "20,000",
          "20,000",
          "20,008",
          "20,118",
          "20,411",
          "20,450",
          "20,801",
          "21,000",
          "21,144",
          "21,193",
          "22,000",
          "22,000",
          "22,039",
          "22,988",
          "24,000",
          "24,000",
          "24,000",
          "24,050",
          "24,443",
          "25,000",
          "25,012",
          "25,189",
          "25,494",
          "25,500",
          "27,000",
          "27,333",
          "27,773",
          "28,500",
          "28,703",
          "29,419",
          "29,508",
          "30,000",
          "30,000",
          "30,200",
          "30,323",
          "30,945",
          "30,991",
          "31,297",
          "31,500",
          "32,000",
          "32,662",
          "33,000",
          "33,422",
          "34,130",
          "35,161",
          "35,650",
          "38,000",
          "38,227",
          "38,800",
          "38,869",
          "40,000",
          "41,200",
          "41,886",
          "42,735",
          "45,017",
          "45,140",
          "45,674",
          "47,130",
          "49,262",
          "49,642",
          "49,850",
          "50,000",
          "50,071",
          "50,805",
          "51,726",
          "51,802",
          "52,454",
          "52,465",
          "52,929",
          "53,000",
          "53,000",
          "53,500",
          "54,000",
          "54,000",
          "56,057",
          "56,302",
          "56,692",
          "56,713",
          "57,236",
          "59,308",
          "61,348",
          "61,446",
          "63,000",
          "63,000",
          "63,186",
          "63,186",
          "63,400",
          "63,470",
          "63,500",
          "65,000",
          "65,000",
          "65,050",
          "65,326",
          "65,515",
          "65,632",
          "65,857",
          "66,000",
          "66,308",
          "66,665",
          "67,000",
          "67,246",
          "68,756",
          "68,983",
          "69,143",
          "69,176",
          "69,732",
          "70,107",
          "70,138",
          "70,561",
          "70,585",
          "71,000",
          "71,168",
          "71,594",
          "71,795",
          "72,000",
          "72,300",
          "73,208",
          "73,379",
          "74,222",
          "74,228",
          "75,005",
          "75,339",
          "75,412",
          "76,125",
          "76,416",
          "80,000",
          "80,250",
          "80,321",
          "80,750",
          "80,795",
          "81,500",
          "82,000",
          "82,112",
          "82,300",
          "82,566",
          "86,047",
          "87,000",
          "87,451",
          "88,548",
          "92,542",
          "92,746",
          "93,607",
          "100,119",
          "101,821",
          "102,321",
          "102,455",
          "102,733",
          "104,944",
          "106,572",
          "107,601",
          "153,000"
         ],
         "textposition": "outside",
         "texttemplate": "%{text}",
         "type": "bar",
         "x": {
          "bdata": "0AcAADBDAABQRgAAIE4AACBOAAC7TwAACFIAAMxZAADAXQAAe18AAKhhAACWYwAAxWoAAFRvAAAfcAAARHMAADB1AAAwdQAAQXoAAAB9AACWfwAAUoUAAFmJAADVlwAAnqMAALrCAAAOygAA/NAAAIndAADS9gAA2FMBAA==",
          "dtype": "i4"
         },
         "xaxis": "x",
         "y": [
          "Estadio Borregos",
          "Estadio Tecnológico de Oaxaca",
          "Estadio Marte R. Gómez",
          "Estadio Andrés Quintana Roo",
          "Estadio Juan N. López",
          "Estadio Universitario BUAP",
          "Estadio Banorte",
          "Estadio 3 de Marzo",
          "Estadio Alfonso Lastras",
          "Estadio Agustín Coruco Díaz",
          "Estadio Miguel Hidalgo",
          "Estadio Victoria",
          "Estadio Caliente",
          "Estadio Azulgrana",
          "Estadio Luís de la Fuente",
          "Estadio Víctor Manuel Reyna",
          "Estadio Nemesio Díez",
          "Estadio TSM Corona",
          "Estadio León",
          "Estadio Alberto Córdoba",
          "Estadio Tecnológico",
          "Estadio La Corregidora",
          "Estadio Azul",
          "Estadio Morelos",
          "Estadio Universitario",
          "Estadio Akron",
          "Estadio Cuauhtémoc",
          "Estadio BBVA Bancomer",
          "Estadio Jalisco",
          "Estadio Olímpico Universitario",
          "Estadio Azteca"
         ],
         "yaxis": "y"
        },
        {
         "hovertemplate": "País=Canada<br>Capacidad (Asientos)=%{x}<br>Estadio=%{y}<extra></extra>",
         "legendgroup": "Canada",
         "marker": {
          "color": "#00cc96",
          "pattern": {
           "shape": ""
          }
         },
         "name": "Canada",
         "orientation": "h",
         "showlegend": true,
         "text": [
          "500",
          "2,000",
          "7,500",
          "8,296",
          "8,500",
          "9,600",
          "10,000",
          "10,500",
          "10,525",
          "15,000",
          "16,324",
          "17,200",
          "18,000",
          "18,000",
          "18,086",
          "18,467",
          "18,500",
          "19,968",
          "20,000",
          "20,000",
          "20,000",
          "20,000",
          "20,008",
          "20,118",
          "20,411",
          "20,450",
          "20,801",
          "21,000",
          "21,144",
          "21,193",
          "22,000",
          "22,000",
          "22,039",
          "22,988",
          "24,000",
          "24,000",
          "24,000",
          "24,050",
          "24,443",
          "25,000",
          "25,012",
          "25,189",
          "25,494",
          "25,500",
          "27,000",
          "27,333",
          "27,773",
          "28,500",
          "28,703",
          "29,419",
          "29,508",
          "30,000",
          "30,000",
          "30,200",
          "30,323",
          "30,945",
          "30,991",
          "31,297",
          "31,500",
          "32,000",
          "32,662",
          "33,000",
          "33,422",
          "34,130",
          "35,161",
          "35,650",
          "38,000",
          "38,227",
          "38,800",
          "38,869",
          "40,000",
          "41,200",
          "41,886",
          "42,735",
          "45,017",
          "45,140",
          "45,674",
          "47,130",
          "49,262",
          "49,642",
          "49,850",
          "50,000",
          "50,071",
          "50,805",
          "51,726",
          "51,802",
          "52,454",
          "52,465",
          "52,929",
          "53,000",
          "53,000",
          "53,500",
          "54,000",
          "54,000",
          "56,057",
          "56,302",
          "56,692",
          "56,713",
          "57,236",
          "59,308",
          "61,348",
          "61,446",
          "63,000",
          "63,000",
          "63,186",
          "63,186",
          "63,400",
          "63,470",
          "63,500",
          "65,000",
          "65,000",
          "65,050",
          "65,326",
          "65,515",
          "65,632",
          "65,857",
          "66,000",
          "66,308",
          "66,665",
          "67,000",
          "67,246",
          "68,756",
          "68,983",
          "69,143",
          "69,176",
          "69,732",
          "70,107",
          "70,138",
          "70,561",
          "70,585",
          "71,000",
          "71,168",
          "71,594",
          "71,795",
          "72,000",
          "72,300",
          "73,208",
          "73,379",
          "74,222",
          "74,228",
          "75,005",
          "75,339",
          "75,412",
          "76,125",
          "76,416",
          "80,000",
          "80,250",
          "80,321",
          "80,750",
          "80,795",
          "81,500",
          "82,000",
          "82,112",
          "82,300",
          "82,566",
          "86,047",
          "87,000",
          "87,451",
          "88,548",
          "92,542",
          "92,746",
          "93,607",
          "100,119",
          "101,821",
          "102,321",
          "102,455",
          "102,733",
          "104,944",
          "106,572",
          "107,601",
          "153,000"
         ],
         "textposition": "outside",
         "texttemplate": "%{text}",
         "type": "bar",
         "x": {
          "bdata": "gCUAAEFRAADAXQAAwF0AALRhAADheAAAD3kAAOiAAACOggAAQosAAPHMAADw0gAA7tsAAAQDAQA=",
          "dtype": "i4"
         },
         "xaxis": "x",
         "y": [
          "Lamport Stadium",
          "Stade Saputo",
          "TD Place Stadium",
          "Tim Hortons Field",
          "Percival Molson Stadium",
          "Taylor Field",
          "BMO Field",
          "Mosaic Stadium",
          "Investors Group Field",
          "McMahon Stadium",
          "BC Place",
          "Rogers Centre",
          "Commonwealth Stadium",
          "Olympic Stadium"
         ],
         "yaxis": "y"
        }
       ],
       "layout": {
        "barmode": "relative",
        "height": 800,
        "legend": {
         "title": {
          "text": "País"
         },
         "tracegroupgap": 0
        },
        "template": {
         "data": {
          "bar": [
           {
            "error_x": {
             "color": "#2a3f5f"
            },
            "error_y": {
             "color": "#2a3f5f"
            },
            "marker": {
             "line": {
              "color": "#E5ECF6",
              "width": 0.5
             },
             "pattern": {
              "fillmode": "overlay",
              "size": 10,
              "solidity": 0.2
             }
            },
            "type": "bar"
           }
          ],
          "barpolar": [
           {
            "marker": {
             "line": {
              "color": "#E5ECF6",
              "width": 0.5
             },
             "pattern": {
              "fillmode": "overlay",
              "size": 10,
              "solidity": 0.2
             }
            },
            "type": "barpolar"
           }
          ],
          "carpet": [
           {
            "aaxis": {
             "endlinecolor": "#2a3f5f",
             "gridcolor": "white",
             "linecolor": "white",
             "minorgridcolor": "white",
             "startlinecolor": "#2a3f5f"
            },
            "baxis": {
             "endlinecolor": "#2a3f5f",
             "gridcolor": "white",
             "linecolor": "white",
             "minorgridcolor": "white",
             "startlinecolor": "#2a3f5f"
            },
            "type": "carpet"
           }
          ],
          "choropleth": [
           {
            "colorbar": {
             "outlinewidth": 0,
             "ticks": ""
            },
            "type": "choropleth"
           }
          ],
          "contour": [
           {
            "colorbar": {
             "outlinewidth": 0,
             "ticks": ""
            },
            "colorscale": [
             [
              0,
              "#0d0887"
             ],
             [
              0.1111111111111111,
              "#46039f"
             ],
             [
              0.2222222222222222,
              "#7201a8"
             ],
             [
              0.3333333333333333,
              "#9c179e"
             ],
             [
              0.4444444444444444,
              "#bd3786"
             ],
             [
              0.5555555555555556,
              "#d8576b"
             ],
             [
              0.6666666666666666,
              "#ed7953"
             ],
             [
              0.7777777777777778,
              "#fb9f3a"
             ],
             [
              0.8888888888888888,
              "#fdca26"
             ],
             [
              1,
              "#f0f921"
             ]
            ],
            "type": "contour"
           }
          ],
          "contourcarpet": [
           {
            "colorbar": {
             "outlinewidth": 0,
             "ticks": ""
            },
            "type": "contourcarpet"
           }
          ],
          "heatmap": [
           {
            "colorbar": {
             "outlinewidth": 0,
             "ticks": ""
            },
            "colorscale": [
             [
              0,
              "#0d0887"
             ],
             [
              0.1111111111111111,
              "#46039f"
             ],
             [
              0.2222222222222222,
              "#7201a8"
             ],
             [
              0.3333333333333333,
              "#9c179e"
             ],
             [
              0.4444444444444444,
              "#bd3786"
             ],
             [
              0.5555555555555556,
              "#d8576b"
             ],
             [
              0.6666666666666666,
              "#ed7953"
             ],
             [
              0.7777777777777778,
              "#fb9f3a"
             ],
             [
              0.8888888888888888,
              "#fdca26"
             ],
             [
              1,
              "#f0f921"
             ]
            ],
            "type": "heatmap"
           }
          ],
          "histogram": [
           {
            "marker": {
             "pattern": {
              "fillmode": "overlay",
              "size": 10,
              "solidity": 0.2
             }
            },
            "type": "histogram"
           }
          ],
          "histogram2d": [
           {
            "colorbar": {
             "outlinewidth": 0,
             "ticks": ""
            },
            "colorscale": [
             [
              0,
              "#0d0887"
             ],
             [
              0.1111111111111111,
              "#46039f"
             ],
             [
              0.2222222222222222,
              "#7201a8"
             ],
             [
              0.3333333333333333,
              "#9c179e"
             ],
             [
              0.4444444444444444,
              "#bd3786"
             ],
             [
              0.5555555555555556,
              "#d8576b"
             ],
             [
              0.6666666666666666,
              "#ed7953"
             ],
             [
              0.7777777777777778,
              "#fb9f3a"
             ],
             [
              0.8888888888888888,
              "#fdca26"
             ],
             [
              1,
              "#f0f921"
             ]
            ],
            "type": "histogram2d"
           }
          ],
          "histogram2dcontour": [
           {
            "colorbar": {
             "outlinewidth": 0,
             "ticks": ""
            },
            "colorscale": [
             [
              0,
              "#0d0887"
             ],
             [
              0.1111111111111111,
              "#46039f"
             ],
             [
              0.2222222222222222,
              "#7201a8"
             ],
             [
              0.3333333333333333,
              "#9c179e"
             ],
             [
              0.4444444444444444,
              "#bd3786"
             ],
             [
              0.5555555555555556,
              "#d8576b"
             ],
             [
              0.6666666666666666,
              "#ed7953"
             ],
             [
              0.7777777777777778,
              "#fb9f3a"
             ],
             [
              0.8888888888888888,
              "#fdca26"
             ],
             [
              1,
              "#f0f921"
             ]
            ],
            "type": "histogram2dcontour"
           }
          ],
          "mesh3d": [
           {
            "colorbar": {
             "outlinewidth": 0,
             "ticks": ""
            },
            "type": "mesh3d"
           }
          ],
          "parcoords": [
           {
            "line": {
             "colorbar": {
              "outlinewidth": 0,
              "ticks": ""
             }
            },
            "type": "parcoords"
           }
          ],
          "pie": [
           {
            "automargin": true,
            "type": "pie"
           }
          ],
          "scatter": [
           {
            "fillpattern": {
             "fillmode": "overlay",
             "size": 10,
             "solidity": 0.2
            },
            "type": "scatter"
           }
          ],
          "scatter3d": [
           {
            "line": {
             "colorbar": {
              "outlinewidth": 0,
              "ticks": ""
             }
            },
            "marker": {
             "colorbar": {
              "outlinewidth": 0,
              "ticks": ""
             }
            },
            "type": "scatter3d"
           }
          ],
          "scattercarpet": [
           {
            "marker": {
             "colorbar": {
              "outlinewidth": 0,
              "ticks": ""
             }
            },
            "type": "scattercarpet"
           }
          ],
          "scattergeo": [
           {
            "marker": {
             "colorbar": {
              "outlinewidth": 0,
              "ticks": ""
             }
            },
            "type": "scattergeo"
           }
          ],
          "scattergl": [
           {
            "marker": {
             "colorbar": {
              "outlinewidth": 0,
              "ticks": ""
             }
            },
            "type": "scattergl"
           }
          ],
          "scattermap": [
           {
            "marker": {
             "colorbar": {
              "outlinewidth": 0,
              "ticks": ""
             }
            },
            "type": "scattermap"
           }
          ],
          "scattermapbox": [
           {
            "marker": {
             "colorbar": {
              "outlinewidth": 0,
              "ticks": ""
             }
            },
            "type": "scattermapbox"
           }
          ],
          "scatterpolar": [
           {
            "marker": {
             "colorbar": {
              "outlinewidth": 0,
              "ticks": ""
             }
            },
            "type": "scatterpolar"
           }
          ],
          "scatterpolargl": [
           {
            "marker": {
             "colorbar": {
              "outlinewidth": 0,
              "ticks": ""
             }
            },
            "type": "scatterpolargl"
           }
          ],
          "scatterternary": [
           {
            "marker": {
             "colorbar": {
              "outlinewidth": 0,
              "ticks": ""
             }
            },
            "type": "scatterternary"
           }
          ],
          "surface": [
           {
            "colorbar": {
             "outlinewidth": 0,
             "ticks": ""
            },
            "colorscale": [
             [
              0,
              "#0d0887"
             ],
             [
              0.1111111111111111,
              "#46039f"
             ],
             [
              0.2222222222222222,
              "#7201a8"
             ],
             [
              0.3333333333333333,
              "#9c179e"
             ],
             [
              0.4444444444444444,
              "#bd3786"
             ],
             [
              0.5555555555555556,
              "#d8576b"
             ],
             [
              0.6666666666666666,
              "#ed7953"
             ],
             [
              0.7777777777777778,
              "#fb9f3a"
             ],
             [
              0.8888888888888888,
              "#fdca26"
             ],
             [
              1,
              "#f0f921"
             ]
            ],
            "type": "surface"
           }
          ],
          "table": [
           {
            "cells": {
             "fill": {
              "color": "#EBF0F8"
             },
             "line": {
              "color": "white"
             }
            },
            "header": {
             "fill": {
              "color": "#C8D4E3"
             },
             "line": {
              "color": "white"
             }
            },
            "type": "table"
           }
          ]
         },
         "layout": {
          "annotationdefaults": {
           "arrowcolor": "#2a3f5f",
           "arrowhead": 0,
           "arrowwidth": 1
          },
          "autotypenumbers": "strict",
          "coloraxis": {
           "colorbar": {
            "outlinewidth": 0,
            "ticks": ""
           }
          },
          "colorscale": {
           "diverging": [
            [
             0,
             "#8e0152"
            ],
            [
             0.1,
             "#c51b7d"
            ],
            [
             0.2,
             "#de77ae"
            ],
            [
             0.3,
             "#f1b6da"
            ],
            [
             0.4,
             "#fde0ef"
            ],
            [
             0.5,
             "#f7f7f7"
            ],
            [
             0.6,
             "#e6f5d0"
            ],
            [
             0.7,
             "#b8e186"
            ],
            [
             0.8,
             "#7fbc41"
            ],
            [
             0.9,
             "#4d9221"
            ],
            [
             1,
             "#276419"
            ]
           ],
           "sequential": [
            [
             0,
             "#0d0887"
            ],
            [
             0.1111111111111111,
             "#46039f"
            ],
            [
             0.2222222222222222,
             "#7201a8"
            ],
            [
             0.3333333333333333,
             "#9c179e"
            ],
            [
             0.4444444444444444,
             "#bd3786"
            ],
            [
             0.5555555555555556,
             "#d8576b"
            ],
            [
             0.6666666666666666,
             "#ed7953"
            ],
            [
             0.7777777777777778,
             "#fb9f3a"
            ],
            [
             0.8888888888888888,
             "#fdca26"
            ],
            [
             1,
             "#f0f921"
            ]
           ],
           "sequentialminus": [
            [
             0,
             "#0d0887"
            ],
            [
             0.1111111111111111,
             "#46039f"
            ],
            [
             0.2222222222222222,
             "#7201a8"
            ],
            [
             0.3333333333333333,
             "#9c179e"
            ],
            [
             0.4444444444444444,
             "#bd3786"
            ],
            [
             0.5555555555555556,
             "#d8576b"
            ],
            [
             0.6666666666666666,
             "#ed7953"
            ],
            [
             0.7777777777777778,
             "#fb9f3a"
            ],
            [
             0.8888888888888888,
             "#fdca26"
            ],
            [
             1,
             "#f0f921"
            ]
           ]
          },
          "colorway": [
           "#636efa",
           "#EF553B",
           "#00cc96",
           "#ab63fa",
           "#FFA15A",
           "#19d3f3",
           "#FF6692",
           "#B6E880",
           "#FF97FF",
           "#FECB52"
          ],
          "font": {
           "color": "#2a3f5f"
          },
          "geo": {
           "bgcolor": "white",
           "lakecolor": "white",
           "landcolor": "#E5ECF6",
           "showlakes": true,
           "showland": true,
           "subunitcolor": "white"
          },
          "hoverlabel": {
           "align": "left"
          },
          "hovermode": "closest",
          "mapbox": {
           "style": "light"
          },
          "paper_bgcolor": "white",
          "plot_bgcolor": "#E5ECF6",
          "polar": {
           "angularaxis": {
            "gridcolor": "white",
            "linecolor": "white",
            "ticks": ""
           },
           "bgcolor": "#E5ECF6",
           "radialaxis": {
            "gridcolor": "white",
            "linecolor": "white",
            "ticks": ""
           }
          },
          "scene": {
           "xaxis": {
            "backgroundcolor": "#E5ECF6",
            "gridcolor": "white",
            "gridwidth": 2,
            "linecolor": "white",
            "showbackground": true,
            "ticks": "",
            "zerolinecolor": "white"
           },
           "yaxis": {
            "backgroundcolor": "#E5ECF6",
            "gridcolor": "white",
            "gridwidth": 2,
            "linecolor": "white",
            "showbackground": true,
            "ticks": "",
            "zerolinecolor": "white"
           },
           "zaxis": {
            "backgroundcolor": "#E5ECF6",
            "gridcolor": "white",
            "gridwidth": 2,
            "linecolor": "white",
            "showbackground": true,
            "ticks": "",
            "zerolinecolor": "white"
           }
          },
          "shapedefaults": {
           "line": {
            "color": "#2a3f5f"
           }
          },
          "ternary": {
           "aaxis": {
            "gridcolor": "white",
            "linecolor": "white",
            "ticks": ""
           },
           "baxis": {
            "gridcolor": "white",
            "linecolor": "white",
            "ticks": ""
           },
           "bgcolor": "#E5ECF6",
           "caxis": {
            "gridcolor": "white",
            "linecolor": "white",
            "ticks": ""
           }
          },
          "title": {
           "x": 0.05
          },
          "xaxis": {
           "automargin": true,
           "gridcolor": "white",
           "linecolor": "white",
           "ticks": "",
           "title": {
            "standoff": 15
           },
           "zerolinecolor": "white",
           "zerolinewidth": 2
          },
          "yaxis": {
           "automargin": true,
           "gridcolor": "white",
           "linecolor": "white",
           "ticks": "",
           "title": {
            "standoff": 15
           },
           "zerolinecolor": "white",
           "zerolinewidth": 2
          }
         }
        },
        "title": {
         "text": "🏟️ Capacidad de Estadios Individuales (México, Canadá, EE. UU.)"
        },
        "width": 1000,
        "xaxis": {
         "anchor": "y",
         "domain": [
          0,
          1
         ],
         "title": {
          "text": "Capacidad (Asientos)"
         }
        },
        "yaxis": {
         "anchor": "x",
         "domain": [
          0,
          1
         ],
         "title": {
          "text": "Estadio"
         }
        }
       }
      },
      "image/png": "[encoded data removed]"
     },
     "metadata": {},
     "output_type": "display_data"
    }
   ],
   "source": [
    "# --- Gráfico de Barras ---\n",
    "fig_todos_estadios = px.bar(\n",
    "    df_grafica_individual,\n",
    "    x='Capacity',\n",
    "    y='Stadium',\n",
    "    color='Country',\n",
    "    orientation='h',\n",
    "    title='🏟️ Capacidad de Estadios Individuales (México, Canadá, EE. UU.)',\n",
    "    labels={\n",
    "        'Capacity': 'Capacidad (Asientos)',\n",
    "        'Stadium': 'Estadio',\n",
    "        'Country': 'País'\n",
    "    },\n",
    "    height=800,\n",
    "    width=1000 \n",
    ")\n",
    "\n",
    "fig_todos_estadios.update_traces(\n",
    "    text=df_grafica_individual['Capacity'].apply(lambda x: f\"{int(x):,}\"),\n",
    "    texttemplate='%{text}',\n",
    "    textposition='outside'\n",
    ")\n",
    "\n",
    "fig_todos_estadios.show()"
   ]
  },
  {
   "cell_type": "markdown",
   "id": "81f05f5f-9c75-4852-8c47-4f4d92b56772",
   "metadata": {},
   "source": [
    "#### results.csv"
   ]
  },
  {
   "cell_type": "code",
   "execution_count": 164,
   "id": "cba731a7-a062-4814-beec-8fefc0fee1e7",
   "metadata": {},
   "outputs": [],
   "source": [
    "df_results['home_score'] = pd.to_numeric(df_results['home_score'], errors='coerce')\n",
    "df_results['away_score'] = pd.to_numeric(df_results['away_score'], errors='coerce')"
   ]
  },
  {
   "cell_type": "code",
   "execution_count": 165,
   "id": "41b67804-23fc-4ff6-94be-b1ee25feaf0d",
   "metadata": {},
   "outputs": [
    {
     "name": "stdout",
     "output_type": "stream",
     "text": [
      "Análisis de victorias completado: 263 países\n",
      " Guardado exitosamente: s3://xideralaws-curso-yalbani/datos_limpios/df_analisis_victoria.csv\n"
     ]
    }
   ],
   "source": [
    "if not df_results.empty:\n",
    "    # Calcular totales\n",
    "    df_results['total_goles'] = df_results['home_score'] + df_results['away_score']\n",
    "    df_results['home_win'] = df_results['home_score'] > df_results['away_score']\n",
    "    \n",
    "    # Partidos con más de 4 goles\n",
    "    df_goles_altos = df_results[df_results['total_goles'] > 4].copy()\n",
    "    \n",
    "    # Análisis por país\n",
    "    df_analisis_victoria = df_goles_altos.groupby('country').agg(\n",
    "        Total_Partidos=('home_team', 'size'),\n",
    "        Total_Victorias_Local=('home_win', 'sum')\n",
    "    ).reset_index()\n",
    "    \n",
    "    df_analisis_victoria['Porcentaje_Victoria_Local'] = (\n",
    "        df_analisis_victoria['Total_Victorias_Local'] / df_analisis_victoria['Total_Partidos']\n",
    "    ) * 100\n",
    "\n",
    "    max_partidos = df_analisis_victoria['Total_Partidos'].max()\n",
    "    min_partidos = df_analisis_victoria['Total_Partidos'].min()\n",
    "    \n",
    "    df_analisis_victoria = df_analisis_victoria.sort_values('Total_Partidos', ascending=False)\n",
    "    \n",
    "    print(f\"Análisis de victorias completado: {len(df_analisis_victoria)} países\")\n",
    "    save_csv_to_s3(df_analisis_victoria, bucket_name, \"datos_limpios/df_analisis_victoria.csv\")\n",
    "  "
   ]
  },
  {
   "cell_type": "code",
   "execution_count": 166,
   "id": "e77c97ab-5fa0-4cdb-83af-ce4b59b212ed",
   "metadata": {
    "scrolled": true
   },
   "outputs": [
    {
     "data": {
      "text/html": [
       "<div>\n",
       "<style scoped>\n",
       "    .dataframe tbody tr th:only-of-type {\n",
       "        vertical-align: middle;\n",
       "    }\n",
       "\n",
       "    .dataframe tbody tr th {\n",
       "        vertical-align: top;\n",
       "    }\n",
       "\n",
       "    .dataframe thead th {\n",
       "        text-align: right;\n",
       "    }\n",
       "</style>\n",
       "<table border=\"1\" class=\"dataframe\">\n",
       "  <thead>\n",
       "    <tr style=\"text-align: right;\">\n",
       "      <th></th>\n",
       "      <th>country</th>\n",
       "      <th>Total_Partidos</th>\n",
       "      <th>Total_Victorias_Local</th>\n",
       "      <th>Porcentaje_Victoria_Local</th>\n",
       "    </tr>\n",
       "  </thead>\n",
       "  <tbody>\n",
       "    <tr>\n",
       "      <th>222</th>\n",
       "      <td>Sweden</td>\n",
       "      <td>226</td>\n",
       "      <td>153</td>\n",
       "      <td>67.699115</td>\n",
       "    </tr>\n",
       "    <tr>\n",
       "      <th>244</th>\n",
       "      <td>United States</td>\n",
       "      <td>221</td>\n",
       "      <td>120</td>\n",
       "      <td>54.298643</td>\n",
       "    </tr>\n",
       "    <tr>\n",
       "      <th>78</th>\n",
       "      <td>France</td>\n",
       "      <td>180</td>\n",
       "      <td>126</td>\n",
       "      <td>70.000000</td>\n",
       "    </tr>\n",
       "    <tr>\n",
       "      <th>136</th>\n",
       "      <td>Malaysia</td>\n",
       "      <td>177</td>\n",
       "      <td>121</td>\n",
       "      <td>68.361582</td>\n",
       "    </tr>\n",
       "    <tr>\n",
       "      <th>70</th>\n",
       "      <td>England</td>\n",
       "      <td>173</td>\n",
       "      <td>127</td>\n",
       "      <td>73.410405</td>\n",
       "    </tr>\n",
       "    <tr>\n",
       "      <th>85</th>\n",
       "      <td>Germany</td>\n",
       "      <td>161</td>\n",
       "      <td>119</td>\n",
       "      <td>73.913043</td>\n",
       "    </tr>\n",
       "    <tr>\n",
       "      <th>231</th>\n",
       "      <td>Thailand</td>\n",
       "      <td>142</td>\n",
       "      <td>75</td>\n",
       "      <td>52.816901</td>\n",
       "    </tr>\n",
       "    <tr>\n",
       "      <th>156</th>\n",
       "      <td>Netherlands</td>\n",
       "      <td>132</td>\n",
       "      <td>103</td>\n",
       "      <td>78.030303</td>\n",
       "    </tr>\n",
       "    <tr>\n",
       "      <th>30</th>\n",
       "      <td>Brazil</td>\n",
       "      <td>131</td>\n",
       "      <td>93</td>\n",
       "      <td>70.992366</td>\n",
       "    </tr>\n",
       "    <tr>\n",
       "      <th>102</th>\n",
       "      <td>Hungary</td>\n",
       "      <td>130</td>\n",
       "      <td>89</td>\n",
       "      <td>68.461538</td>\n",
       "    </tr>\n",
       "    <tr>\n",
       "      <th>217</th>\n",
       "      <td>Spain</td>\n",
       "      <td>128</td>\n",
       "      <td>103</td>\n",
       "      <td>80.468750</td>\n",
       "    </tr>\n",
       "    <tr>\n",
       "      <th>11</th>\n",
       "      <td>Austria</td>\n",
       "      <td>126</td>\n",
       "      <td>89</td>\n",
       "      <td>70.634921</td>\n",
       "    </tr>\n",
       "    <tr>\n",
       "      <th>223</th>\n",
       "      <td>Switzerland</td>\n",
       "      <td>123</td>\n",
       "      <td>63</td>\n",
       "      <td>51.219512</td>\n",
       "    </tr>\n",
       "    <tr>\n",
       "      <th>19</th>\n",
       "      <td>Belgium</td>\n",
       "      <td>117</td>\n",
       "      <td>66</td>\n",
       "      <td>56.410256</td>\n",
       "    </tr>\n",
       "    <tr>\n",
       "      <th>46</th>\n",
       "      <td>Chile</td>\n",
       "      <td>102</td>\n",
       "      <td>69</td>\n",
       "      <td>67.647059</td>\n",
       "    </tr>\n",
       "  </tbody>\n",
       "</table>\n",
       "</div>"
      ],
      "text/plain": [
       "           country  Total_Partidos  Total_Victorias_Local  \\\n",
       "222         Sweden             226                    153   \n",
       "244  United States             221                    120   \n",
       "78          France             180                    126   \n",
       "136       Malaysia             177                    121   \n",
       "70         England             173                    127   \n",
       "85         Germany             161                    119   \n",
       "231       Thailand             142                     75   \n",
       "156    Netherlands             132                    103   \n",
       "30          Brazil             131                     93   \n",
       "102        Hungary             130                     89   \n",
       "217          Spain             128                    103   \n",
       "11         Austria             126                     89   \n",
       "223    Switzerland             123                     63   \n",
       "19         Belgium             117                     66   \n",
       "46           Chile             102                     69   \n",
       "\n",
       "     Porcentaje_Victoria_Local  \n",
       "222                  67.699115  \n",
       "244                  54.298643  \n",
       "78                   70.000000  \n",
       "136                  68.361582  \n",
       "70                   73.410405  \n",
       "85                   73.913043  \n",
       "231                  52.816901  \n",
       "156                  78.030303  \n",
       "30                   70.992366  \n",
       "102                  68.461538  \n",
       "217                  80.468750  \n",
       "11                   70.634921  \n",
       "223                  51.219512  \n",
       "19                   56.410256  \n",
       "46                   67.647059  "
      ]
     },
     "execution_count": 166,
     "metadata": {},
     "output_type": "execute_result"
    }
   ],
   "source": [
    "df_analisis_victoria.head(15)"
   ]
  },
  {
   "cell_type": "markdown",
   "id": "55e79e05-a8d9-450d-a608-6861bb3b5cc4",
   "metadata": {},
   "source": [
    "## GUARDAR df_analisis_victoria"
   ]
  },
  {
   "cell_type": "code",
   "execution_count": 197,
   "id": "68de7822-43b9-42e2-b271-80bc8ecf9880",
   "metadata": {},
   "outputs": [
    {
     "name": "stdout",
     "output_type": "stream",
     "text": [
      " Conteo de goles completado\n",
      " Guardado exitosamente: s3://xideralaws-curso-yalbani/datos_limpios/df_conteo_goles.csv\n"
     ]
    }
   ],
   "source": [
    "# Conteo de goles\n",
    "# Contar la frecuencia de cada valor de 'total_goles' (5, 6, 7, etc.)\n",
    "df_conteo_goles = df_goles_altos.groupby('total_goles').size().reset_index(name='Total_Encuentros')\n",
    "df_conteo_goles['total_goles_str'] = df_conteo_goles['total_goles'].astype(str) + ' goles'\n",
    "\n",
    "#Goles en TODOS los partidos (0 o más goles)\n",
    "total_goles_global = df_results['total_goles'].sum()\n",
    "\n",
    "#Goles en partidos de ALTA anotación (> 4 goles)\n",
    "total_goles_alta_anotacion = df_goles_altos['total_goles'].sum()\n",
    "\n",
    "#Goles en partidos de BAJA anotación (0 a 4 goles)\n",
    "total_goles_baja_anotacion = total_goles_global - total_goles_alta_anotacion\n",
    "\n",
    "#Porcentaje que NO está en el gráfico (Baja Anotación)\n",
    "porcentaje_baja_anotacion = (total_goles_baja_anotacion / total_goles_global) * 100\n",
    "\n",
    "total_goles_anotados = df_goles_altos['total_goles'].sum()\n",
    "df_conteo_goles = df_goles_altos.groupby('total_goles').size().reset_index(name='Total_Encuentros')\n",
    "df_conteo_goles['total_goles_str'] = df_conteo_goles['total_goles'].astype(str) + ' goles'\n",
    "    \n",
    "print(f\" Conteo de goles completado\")\n",
    "save_csv_to_s3(df_conteo_goles, bucket_name, \"datos_limpios/df_conteo_goles.csv\")"
   ]
  },
  {
   "cell_type": "markdown",
   "id": "10293ec3-5163-4420-970c-b09aeca31d02",
   "metadata": {},
   "source": [
    "## GUARDAR df_conteo_goles"
   ]
  },
  {
   "cell_type": "markdown",
   "id": "c6c931c3-e8e6-450d-9664-d084ada9dd0f",
   "metadata": {},
   "source": [
    "#### OTRO ANALISIS"
   ]
  },
  {
   "cell_type": "code",
   "execution_count": 198,
   "id": "be7bc558-0220-4ccb-8d50-965a6d4f2e09",
   "metadata": {},
   "outputs": [
    {
     "data": {
      "application/vnd.plotly.v1+json": {
       "config": {
        "plotlyServerURL": "https://plot.ly"
       },
       "data": [
        {
         "customdata": [
          [
           "5 goles"
          ],
          [
           "6 goles"
          ],
          [
           "7 goles"
          ],
          [
           "8 goles"
          ],
          [
           "9 goles"
          ],
          [
           "10 goles"
          ],
          [
           "11 goles"
          ],
          [
           "12 goles"
          ],
          [
           "13 goles"
          ],
          [
           "14 goles"
          ],
          [
           "15 goles"
          ],
          [
           "16 goles"
          ],
          [
           "17 goles"
          ],
          [
           "18 goles"
          ],
          [
           "19 goles"
          ],
          [
           "20 goles"
          ],
          [
           "21 goles"
          ],
          [
           "22 goles"
          ],
          [
           "24 goles"
          ],
          [
           "30 goles"
          ],
          [
           "31 goles"
          ]
         ],
         "domain": {
          "x": [
           0,
           1
          ],
          "y": [
           0,
           1
          ]
         },
         "hole": 0.5,
         "hovertemplate": "Goles Totales en el Partido=%{customdata[0]}<br>Número de Partidos=%{value}<extra></extra>",
         "labels": [
          "5 goles",
          "6 goles",
          "7 goles",
          "8 goles",
          "9 goles",
          "10 goles",
          "11 goles",
          "12 goles",
          "13 goles",
          "14 goles",
          "15 goles",
          "16 goles",
          "17 goles",
          "18 goles",
          "19 goles",
          "20 goles",
          "21 goles",
          "22 goles",
          "24 goles",
          "30 goles",
          "31 goles"
         ],
         "legendgroup": "",
         "marker": {
          "colors": [
           "#636efa",
           "#EF553B",
           "#00cc96",
           "#ab63fa",
           "#FFA15A",
           "#19d3f3",
           "#FF6692",
           "#B6E880",
           "#FF97FF",
           "#FECB52",
           "#636efa",
           "#EF553B",
           "#00cc96",
           "#ab63fa",
           "#FFA15A",
           "#19d3f3",
           "#FF6692",
           "#B6E880",
           "#FF97FF",
           "#FECB52",
           "#636efa"
          ],
          "line": {
           "color": "#000000",
           "width": 1
          }
         },
         "name": "",
         "showlegend": true,
         "textinfo": "percent+label",
         "textposition": "inside",
         "type": "pie",
         "values": {
          "bdata": "UBDgCNYEegJhAbcAYwA/ACQAFwAOAA0ACgALAAUABAADAAIAAQABAAEA",
          "dtype": "i2"
         }
        }
       ],
       "layout": {
        "annotations": [
         {
          "font": {
           "color": "darkblue",
           "size": 20
          },
          "showarrow": false,
          "text": "57,045 Goles",
          "x": 0.5,
          "y": 0.55
         },
         {
          "font": {
           "color": "darkred",
           "size": 14
          },
          "showarrow": false,
          "text": "Partidos 0-4 Goles:<br>60.0% del total",
          "x": 0.5,
          "y": 0.45
         }
        ],
        "font": {
         "size": 14
        },
        "height": 800,
        "legend": {
         "tracegroupgap": 0
        },
        "template": {
         "data": {
          "bar": [
           {
            "error_x": {
             "color": "#2a3f5f"
            },
            "error_y": {
             "color": "#2a3f5f"
            },
            "marker": {
             "line": {
              "color": "#E5ECF6",
              "width": 0.5
             },
             "pattern": {
              "fillmode": "overlay",
              "size": 10,
              "solidity": 0.2
             }
            },
            "type": "bar"
           }
          ],
          "barpolar": [
           {
            "marker": {
             "line": {
              "color": "#E5ECF6",
              "width": 0.5
             },
             "pattern": {
              "fillmode": "overlay",
              "size": 10,
              "solidity": 0.2
             }
            },
            "type": "barpolar"
           }
          ],
          "carpet": [
           {
            "aaxis": {
             "endlinecolor": "#2a3f5f",
             "gridcolor": "white",
             "linecolor": "white",
             "minorgridcolor": "white",
             "startlinecolor": "#2a3f5f"
            },
            "baxis": {
             "endlinecolor": "#2a3f5f",
             "gridcolor": "white",
             "linecolor": "white",
             "minorgridcolor": "white",
             "startlinecolor": "#2a3f5f"
            },
            "type": "carpet"
           }
          ],
          "choropleth": [
           {
            "colorbar": {
             "outlinewidth": 0,
             "ticks": ""
            },
            "type": "choropleth"
           }
          ],
          "contour": [
           {
            "colorbar": {
             "outlinewidth": 0,
             "ticks": ""
            },
            "colorscale": [
             [
              0,
              "#0d0887"
             ],
             [
              0.1111111111111111,
              "#46039f"
             ],
             [
              0.2222222222222222,
              "#7201a8"
             ],
             [
              0.3333333333333333,
              "#9c179e"
             ],
             [
              0.4444444444444444,
              "#bd3786"
             ],
             [
              0.5555555555555556,
              "#d8576b"
             ],
             [
              0.6666666666666666,
              "#ed7953"
             ],
             [
              0.7777777777777778,
              "#fb9f3a"
             ],
             [
              0.8888888888888888,
              "#fdca26"
             ],
             [
              1,
              "#f0f921"
             ]
            ],
            "type": "contour"
           }
          ],
          "contourcarpet": [
           {
            "colorbar": {
             "outlinewidth": 0,
             "ticks": ""
            },
            "type": "contourcarpet"
           }
          ],
          "heatmap": [
           {
            "colorbar": {
             "outlinewidth": 0,
             "ticks": ""
            },
            "colorscale": [
             [
              0,
              "#0d0887"
             ],
             [
              0.1111111111111111,
              "#46039f"
             ],
             [
              0.2222222222222222,
              "#7201a8"
             ],
             [
              0.3333333333333333,
              "#9c179e"
             ],
             [
              0.4444444444444444,
              "#bd3786"
             ],
             [
              0.5555555555555556,
              "#d8576b"
             ],
             [
              0.6666666666666666,
              "#ed7953"
             ],
             [
              0.7777777777777778,
              "#fb9f3a"
             ],
             [
              0.8888888888888888,
              "#fdca26"
             ],
             [
              1,
              "#f0f921"
             ]
            ],
            "type": "heatmap"
           }
          ],
          "histogram": [
           {
            "marker": {
             "pattern": {
              "fillmode": "overlay",
              "size": 10,
              "solidity": 0.2
             }
            },
            "type": "histogram"
           }
          ],
          "histogram2d": [
           {
            "colorbar": {
             "outlinewidth": 0,
             "ticks": ""
            },
            "colorscale": [
             [
              0,
              "#0d0887"
             ],
             [
              0.1111111111111111,
              "#46039f"
             ],
             [
              0.2222222222222222,
              "#7201a8"
             ],
             [
              0.3333333333333333,
              "#9c179e"
             ],
             [
              0.4444444444444444,
              "#bd3786"
             ],
             [
              0.5555555555555556,
              "#d8576b"
             ],
             [
              0.6666666666666666,
              "#ed7953"
             ],
             [
              0.7777777777777778,
              "#fb9f3a"
             ],
             [
              0.8888888888888888,
              "#fdca26"
             ],
             [
              1,
              "#f0f921"
             ]
            ],
            "type": "histogram2d"
           }
          ],
          "histogram2dcontour": [
           {
            "colorbar": {
             "outlinewidth": 0,
             "ticks": ""
            },
            "colorscale": [
             [
              0,
              "#0d0887"
             ],
             [
              0.1111111111111111,
              "#46039f"
             ],
             [
              0.2222222222222222,
              "#7201a8"
             ],
             [
              0.3333333333333333,
              "#9c179e"
             ],
             [
              0.4444444444444444,
              "#bd3786"
             ],
             [
              0.5555555555555556,
              "#d8576b"
             ],
             [
              0.6666666666666666,
              "#ed7953"
             ],
             [
              0.7777777777777778,
              "#fb9f3a"
             ],
             [
              0.8888888888888888,
              "#fdca26"
             ],
             [
              1,
              "#f0f921"
             ]
            ],
            "type": "histogram2dcontour"
           }
          ],
          "mesh3d": [
           {
            "colorbar": {
             "outlinewidth": 0,
             "ticks": ""
            },
            "type": "mesh3d"
           }
          ],
          "parcoords": [
           {
            "line": {
             "colorbar": {
              "outlinewidth": 0,
              "ticks": ""
             }
            },
            "type": "parcoords"
           }
          ],
          "pie": [
           {
            "automargin": true,
            "type": "pie"
           }
          ],
          "scatter": [
           {
            "fillpattern": {
             "fillmode": "overlay",
             "size": 10,
             "solidity": 0.2
            },
            "type": "scatter"
           }
          ],
          "scatter3d": [
           {
            "line": {
             "colorbar": {
              "outlinewidth": 0,
              "ticks": ""
             }
            },
            "marker": {
             "colorbar": {
              "outlinewidth": 0,
              "ticks": ""
             }
            },
            "type": "scatter3d"
           }
          ],
          "scattercarpet": [
           {
            "marker": {
             "colorbar": {
              "outlinewidth": 0,
              "ticks": ""
             }
            },
            "type": "scattercarpet"
           }
          ],
          "scattergeo": [
           {
            "marker": {
             "colorbar": {
              "outlinewidth": 0,
              "ticks": ""
             }
            },
            "type": "scattergeo"
           }
          ],
          "scattergl": [
           {
            "marker": {
             "colorbar": {
              "outlinewidth": 0,
              "ticks": ""
             }
            },
            "type": "scattergl"
           }
          ],
          "scattermap": [
           {
            "marker": {
             "colorbar": {
              "outlinewidth": 0,
              "ticks": ""
             }
            },
            "type": "scattermap"
           }
          ],
          "scattermapbox": [
           {
            "marker": {
             "colorbar": {
              "outlinewidth": 0,
              "ticks": ""
             }
            },
            "type": "scattermapbox"
           }
          ],
          "scatterpolar": [
           {
            "marker": {
             "colorbar": {
              "outlinewidth": 0,
              "ticks": ""
             }
            },
            "type": "scatterpolar"
           }
          ],
          "scatterpolargl": [
           {
            "marker": {
             "colorbar": {
              "outlinewidth": 0,
              "ticks": ""
             }
            },
            "type": "scatterpolargl"
           }
          ],
          "scatterternary": [
           {
            "marker": {
             "colorbar": {
              "outlinewidth": 0,
              "ticks": ""
             }
            },
            "type": "scatterternary"
           }
          ],
          "surface": [
           {
            "colorbar": {
             "outlinewidth": 0,
             "ticks": ""
            },
            "colorscale": [
             [
              0,
              "#0d0887"
             ],
             [
              0.1111111111111111,
              "#46039f"
             ],
             [
              0.2222222222222222,
              "#7201a8"
             ],
             [
              0.3333333333333333,
              "#9c179e"
             ],
             [
              0.4444444444444444,
              "#bd3786"
             ],
             [
              0.5555555555555556,
              "#d8576b"
             ],
             [
              0.6666666666666666,
              "#ed7953"
             ],
             [
              0.7777777777777778,
              "#fb9f3a"
             ],
             [
              0.8888888888888888,
              "#fdca26"
             ],
             [
              1,
              "#f0f921"
             ]
            ],
            "type": "surface"
           }
          ],
          "table": [
           {
            "cells": {
             "fill": {
              "color": "#EBF0F8"
             },
             "line": {
              "color": "white"
             }
            },
            "header": {
             "fill": {
              "color": "#C8D4E3"
             },
             "line": {
              "color": "white"
             }
            },
            "type": "table"
           }
          ]
         },
         "layout": {
          "annotationdefaults": {
           "arrowcolor": "#2a3f5f",
           "arrowhead": 0,
           "arrowwidth": 1
          },
          "autotypenumbers": "strict",
          "coloraxis": {
           "colorbar": {
            "outlinewidth": 0,
            "ticks": ""
           }
          },
          "colorscale": {
           "diverging": [
            [
             0,
             "#8e0152"
            ],
            [
             0.1,
             "#c51b7d"
            ],
            [
             0.2,
             "#de77ae"
            ],
            [
             0.3,
             "#f1b6da"
            ],
            [
             0.4,
             "#fde0ef"
            ],
            [
             0.5,
             "#f7f7f7"
            ],
            [
             0.6,
             "#e6f5d0"
            ],
            [
             0.7,
             "#b8e186"
            ],
            [
             0.8,
             "#7fbc41"
            ],
            [
             0.9,
             "#4d9221"
            ],
            [
             1,
             "#276419"
            ]
           ],
           "sequential": [
            [
             0,
             "#0d0887"
            ],
            [
             0.1111111111111111,
             "#46039f"
            ],
            [
             0.2222222222222222,
             "#7201a8"
            ],
            [
             0.3333333333333333,
             "#9c179e"
            ],
            [
             0.4444444444444444,
             "#bd3786"
            ],
            [
             0.5555555555555556,
             "#d8576b"
            ],
            [
             0.6666666666666666,
             "#ed7953"
            ],
            [
             0.7777777777777778,
             "#fb9f3a"
            ],
            [
             0.8888888888888888,
             "#fdca26"
            ],
            [
             1,
             "#f0f921"
            ]
           ],
           "sequentialminus": [
            [
             0,
             "#0d0887"
            ],
            [
             0.1111111111111111,
             "#46039f"
            ],
            [
             0.2222222222222222,
             "#7201a8"
            ],
            [
             0.3333333333333333,
             "#9c179e"
            ],
            [
             0.4444444444444444,
             "#bd3786"
            ],
            [
             0.5555555555555556,
             "#d8576b"
            ],
            [
             0.6666666666666666,
             "#ed7953"
            ],
            [
             0.7777777777777778,
             "#fb9f3a"
            ],
            [
             0.8888888888888888,
             "#fdca26"
            ],
            [
             1,
             "#f0f921"
            ]
           ]
          },
          "colorway": [
           "#636efa",
           "#EF553B",
           "#00cc96",
           "#ab63fa",
           "#FFA15A",
           "#19d3f3",
           "#FF6692",
           "#B6E880",
           "#FF97FF",
           "#FECB52"
          ],
          "font": {
           "color": "#2a3f5f"
          },
          "geo": {
           "bgcolor": "white",
           "lakecolor": "white",
           "landcolor": "#E5ECF6",
           "showlakes": true,
           "showland": true,
           "subunitcolor": "white"
          },
          "hoverlabel": {
           "align": "left"
          },
          "hovermode": "closest",
          "mapbox": {
           "style": "light"
          },
          "paper_bgcolor": "white",
          "plot_bgcolor": "#E5ECF6",
          "polar": {
           "angularaxis": {
            "gridcolor": "white",
            "linecolor": "white",
            "ticks": ""
           },
           "bgcolor": "#E5ECF6",
           "radialaxis": {
            "gridcolor": "white",
            "linecolor": "white",
            "ticks": ""
           }
          },
          "scene": {
           "xaxis": {
            "backgroundcolor": "#E5ECF6",
            "gridcolor": "white",
            "gridwidth": 2,
            "linecolor": "white",
            "showbackground": true,
            "ticks": "",
            "zerolinecolor": "white"
           },
           "yaxis": {
            "backgroundcolor": "#E5ECF6",
            "gridcolor": "white",
            "gridwidth": 2,
            "linecolor": "white",
            "showbackground": true,
            "ticks": "",
            "zerolinecolor": "white"
           },
           "zaxis": {
            "backgroundcolor": "#E5ECF6",
            "gridcolor": "white",
            "gridwidth": 2,
            "linecolor": "white",
            "showbackground": true,
            "ticks": "",
            "zerolinecolor": "white"
           }
          },
          "shapedefaults": {
           "line": {
            "color": "#2a3f5f"
           }
          },
          "ternary": {
           "aaxis": {
            "gridcolor": "white",
            "linecolor": "white",
            "ticks": ""
           },
           "baxis": {
            "gridcolor": "white",
            "linecolor": "white",
            "ticks": ""
           },
           "bgcolor": "#E5ECF6",
           "caxis": {
            "gridcolor": "white",
            "linecolor": "white",
            "ticks": ""
           }
          },
          "title": {
           "x": 0.05
          },
          "xaxis": {
           "automargin": true,
           "gridcolor": "white",
           "linecolor": "white",
           "ticks": "",
           "title": {
            "standoff": 15
           },
           "zerolinecolor": "white",
           "zerolinewidth": 2
          },
          "yaxis": {
           "automargin": true,
           "gridcolor": "white",
           "linecolor": "white",
           "ticks": "",
           "title": {
            "standoff": 15
           },
           "zerolinecolor": "white",
           "zerolinewidth": 2
          }
         }
        },
        "title": {
         "text": "⚽ Distribución de Encuentros con Más de 4 Goles"
        },
        "width": 800
       }
      },
      "image/png": "[encoded data removed]"
     },
     "metadata": {},
     "output_type": "display_data"
    }
   ],
   "source": [
    "# --- Gráfico de Pie ---\n",
    "fig_goles_pie = px.pie(\n",
    "    df_conteo_goles,\n",
    "    names='total_goles_str', # Nombres de las secciones (5 goles, 6 goles, etc.)\n",
    "    values='Total_Encuentros', # Valores para determinar el tamaño de la sección\n",
    "    title='⚽ Distribución de Encuentros con Más de 4 Goles',\n",
    "    hole=0.5, # Crea un gráfico de dona\n",
    "    color='total_goles_str',\n",
    "    height=800,\n",
    "    width=800,\n",
    "    labels={\n",
    "        'total_goles_str': 'Goles Totales en el Partido',\n",
    "        'Total_Encuentros': 'Número de Partidos'\n",
    "    }\n",
    ")\n",
    "\n",
    "fig_goles_pie.update_traces(\n",
    "    textposition='inside', \n",
    "    textinfo='percent+label', # porcentaje y etiqueta (ej: 30% - 5 goles)\n",
    "    marker=dict(line=dict(color='#000000', width=1)) # borde negro para mejor contraste\n",
    ")\n",
    "\n",
    "fig_goles_pie.update_layout(\n",
    "    font=dict(size=14),\n",
    "    annotations=[\n",
    "        dict(\n",
    "            text=f\"{total_goles_alta_anotacion:,} Goles\", \n",
    "            x=0.5, y=0.55, # Posición ligeramente arriba del centro\n",
    "            font=dict(size=20, color='darkblue'),\n",
    "            showarrow=False\n",
    "        ),\n",
    "        # PORCENTAJE DE GOLES BAJOS (lo que no se ve)\n",
    "        dict(\n",
    "            text=f\"Partidos 0-4 Goles:<br>{porcentaje_baja_anotacion:.1f}% del total\",\n",
    "            x=0.5, y=0.45, # Posición ligeramente abajo del centro\n",
    "            font=dict(size=14, color='darkred'),\n",
    "            showarrow=False\n",
    "        )\n",
    "    ]\n",
    ")\n",
    "\n",
    "fig_goles_pie.show()"
   ]
  },
  {
   "cell_type": "code",
   "execution_count": 169,
   "id": "1dc7a5f0-0b7b-434e-aceb-33f55ef35819",
   "metadata": {},
   "outputs": [
    {
     "name": "stdout",
     "output_type": "stream",
     "text": [
      "<class 'pandas.core.frame.DataFrame'>\n",
      "RangeIndex: 86 entries, 0 to 85\n",
      "Data columns (total 13 columns):\n",
      " #   Column                        Non-Null Count  Dtype  \n",
      "---  ------                        --------------  -----  \n",
      " 0   Year                          86 non-null     int64  \n",
      " 1   COUNTRY                       86 non-null     object \n",
      " 2   Total_attendance_?            22 non-null     object \n",
      " 3   Matches                       22 non-null     float64\n",
      " 4   Average_attendance            22 non-null     object \n",
      " 5   HIGHEST_ATTENDANCE            85 non-null     float64\n",
      " 6   STADIUM                       86 non-null     object \n",
      " 7   Top_scorers                   86 non-null     object \n",
      " 8   Goals_scored                  22 non-null     float64\n",
      " 9   Budget(Billion_US$)           9 non-null      float64\n",
      " 10  Total_Fund(dollars)           11 non-null     object \n",
      " 11  Winnin_team_payment(dollars)  6 non-null      object \n",
      " 12  STADIUM_KEY                   86 non-null     object \n",
      "dtypes: float64(4), int64(1), object(8)\n",
      "memory usage: 8.9+ KB\n"
     ]
    }
   ],
   "source": [
    "df_b1.info()"
   ]
  },
  {
   "cell_type": "markdown",
   "id": "9948b9cf-3052-41e1-b8be-e4ab502d302b",
   "metadata": {},
   "source": [
    "#### OTRO ANALISIS"
   ]
  },
  {
   "cell_type": "code",
   "execution_count": 187,
   "id": "7064d701-21a6-4d68-9ca9-d450830501eb",
   "metadata": {},
   "outputs": [],
   "source": [
    "def clean_to_millions(series):\n",
    "    \"\"\"\n",
    "    Convierte valores a millones limpiando caracteres especiales y manejando\n",
    "    las notaciones 'M' (millones) y 'B'/'Billion' (billones).\n",
    "    \"\"\"\n",
    "    series_clean = series.astype(str).str.lower().str.strip()\n",
    "    series_clean = series_clean.str.replace(r'[$,]', '', regex=True).str.replace(' ', '', regex=False)\n",
    "    series_clean = series_clean.str.replace('usd', '', regex=False)\n",
    "    \n",
    "    def convert_value(val):\n",
    "        if pd.isna(val) or not isinstance(val, str) or val in ('nan', 'none', 'n/a'):\n",
    "            return np.nan\n",
    "        \n",
    "        if 'b' in val or 'billion' in val:\n",
    "            val = val.replace('b', '').replace('illion', '').replace('n', '')\n",
    "            try:\n",
    "                return float(val) * 1000 # Billones a Millones\n",
    "            except ValueError:\n",
    "                return np.nan\n",
    "        \n",
    "        if 'm' in val or 'million' in val:\n",
    "            val = val.replace('m', '').replace('illion', '').replace('n', '')\n",
    "\n",
    "        try:\n",
    "            numeric_value = float(val)\n",
    "            # Si el valor es > 1,000,000 (dólares), lo dividimos por 1M\n",
    "            if numeric_value > 1000000:\n",
    "                return numeric_value / 1000000 \n",
    "            # Si es un número pequeño (ej. 42), asumimos que ya está en millones\n",
    "            return numeric_value\n",
    "        except ValueError:\n",
    "            return np.nan\n",
    "\n",
    "    return series_clean.apply(convert_value)"
   ]
  },
  {
   "cell_type": "code",
   "execution_count": 188,
   "id": "f69c835c-9b33-4435-93c5-a28a7c50f2e8",
   "metadata": {},
   "outputs": [],
   "source": [
    "df_analisis = df_b1[['Year', 'Budget(Billion_US$)', 'Total_Fund(dollars)', 'Winnin_team_payment(dollars)']].copy()\n",
    "# Limpiar y convertir a millones\n",
    "df_analisis['Total_Fund_Millions'] = clean_to_millions(df_analisis['Total_Fund(dollars)'])\n",
    "df_analisis['Winnin_Payment_Millions'] = clean_to_millions(df_analisis['Winnin_team_payment(dollars)'])\n",
    "# El presupuesto ya está en Billones (Budget(Billion_US$)), lo convertimos a Millones de USD (x 1000)\n",
    "df_analisis['Budget_Millions'] = df_analisis['Budget(Billion_US$)'] * 1000"
   ]
  },
  {
   "cell_type": "code",
   "execution_count": 189,
   "id": "9eba5d52-fdb4-4052-8944-57b05d869b4c",
   "metadata": {},
   "outputs": [
    {
     "name": "stdout",
     "output_type": "stream",
     "text": [
      " Proyección financiera completada\n",
      "  Tasa de crecimiento promedio: 56.67%\n",
      "  Proyección 2026: $1566.7M\n",
      " Guardado exitosamente: s3://xideralaws-curso-yalbani/datos_limpios/df_proyeccion_financiera.csv\n"
     ]
    }
   ],
   "source": [
    "# Agrupar por año y eliminar filas donde faltan los datos CLAVE para la proyección\n",
    "df_historico = df_analisis.groupby('Year', as_index=False).agg({\n",
    "    'Total_Fund_Millions': 'first',\n",
    "    'Winnin_Payment_Millions': 'first',\n",
    "    'Budget_Millions': 'first'\n",
    "}).dropna(subset=['Total_Fund_Millions', 'Winnin_Payment_Millions']).sort_values('Year').reset_index(drop=True)\n",
    "\n",
    "if df_historico.shape[0] < 1:\n",
    "    print(\"ERROR: No hay datos válidos de 'Total_Fund' para realizar la gráfica.\")\n",
    "    df_grafico = pd.DataFrame()\n",
    "else:\n",
    "    # Calcular Tasa de Crecimiento Anual Promedio (si hay al menos 2 puntos)\n",
    "    if df_historico.shape[0] >= 2:\n",
    "        df_historico['Winnin_Growth'] = df_historico['Winnin_Payment_Millions'].pct_change(fill_method=None)\n",
    "        avg_growth_rate = df_historico['Winnin_Growth'].mean()\n",
    "\n",
    "        # Usar una tasa de respaldo si el cálculo falla\n",
    "        if pd.isna(avg_growth_rate) or avg_growth_rate <= 0:\n",
    "            avg_growth_rate = 0.119 \n",
    "    else:\n",
    "        # Usar la tasa de respaldo si solo hay 1 punto de datos\n",
    "        avg_growth_rate = 0.119\n",
    "\n",
    "    # Proyección (usando el último valor disponible del Total Fund)\n",
    "    last_row = df_historico.iloc[-1]\n",
    "    last_year = last_row['Year']\n",
    "    last_fund = last_row['Total_Fund_Millions']\n",
    "    \n",
    "    projected_fund_2026 = last_fund * (1 + avg_growth_rate)\n",
    "\n",
    "    # Crear DataFrame final para gráficos\n",
    "    df_grafico = df_historico[['Year', 'Total_Fund_Millions']].copy()\n",
    "    df_grafico['Tipo'] = 'Histórico'\n",
    "\n",
    "    df_proyeccion = pd.DataFrame([{\n",
    "        'Year': 2026, \n",
    "        'Total_Fund_Millions': projected_fund_2026,\n",
    "        'Tipo': 'Proyección'\n",
    "    }])\n",
    "\n",
    "    df_grafico = pd.concat([df_grafico, df_proyeccion], ignore_index=True)\n",
    "    \n",
    "    print(f\" Proyección financiera completada\")\n",
    "    print(f\"  Tasa de crecimiento promedio: {avg_growth_rate:.2%}\")\n",
    "    print(f\"  Proyección 2026: ${projected_fund_2026:.1f}M\")\n",
    "    \n",
    "    save_csv_to_s3(df_grafico, bucket_name, \"datos_limpios/df_proyeccion_financiera.csv\")"
   ]
  },
  {
   "cell_type": "markdown",
   "id": "75d4638e-7787-45df-8c6a-08c96a85159b",
   "metadata": {},
   "source": [
    "## GUARDAR df_grafico"
   ]
  },
  {
   "cell_type": "code",
   "execution_count": 175,
   "id": "8ed2dd38-a96c-41a5-9019-2c3e0863ca55",
   "metadata": {
    "scrolled": true
   },
   "outputs": [
    {
     "data": {
      "application/vnd.plotly.v1+json": {
       "config": {
        "plotlyServerURL": "https://plot.ly"
       },
       "data": [
        {
         "hovertemplate": "country=%{x}<br>Porcentaje_Victoria_Local=%{y}<br>Total_Partidos=%{marker.color}<extra></extra>",
         "legendgroup": "",
         "marker": {
          "color": {
           "bdata": "4gDdALQAsQCtAKEAjgCEAIMAggCAAH4AewB1AGYA",
           "dtype": "i2"
          },
          "coloraxis": "coloraxis",
          "pattern": {
           "shape": ""
          }
         },
         "name": "",
         "orientation": "v",
         "showlegend": false,
         "textposition": "auto",
         "type": "bar",
         "x": [
          "Sweden",
          "United States",
          "France",
          "Malaysia",
          "England",
          "Germany",
          "Thailand",
          "Netherlands",
          "Brazil",
          "Hungary",
          "Spain",
          "Austria",
          "Switzerland",
          "Belgium",
          "Chile"
         ],
         "xaxis": "x",
         "y": {
          "bdata": "5csGTb7sUEDrOSbrOSZLQAAAAAAAgFFA30Z/KCQXUUCH2cERRFpSQDe96U1velJAEq2wOZBoSkDCBx988IFTQNeGae6Cv1FA2Ymd2IkdUUAAAAAAAB5UQIqiKIqiqFFAnI/B+RicSUBIgzRIgzRMQGppaWlp6VBA",
          "dtype": "f8"
         },
         "yaxis": "y"
        }
       ],
       "layout": {
        "barmode": "relative",
        "coloraxis": {
         "colorbar": {
          "title": {
           "text": "Total_Partidos"
          }
         },
         "colorscale": [
          [
           0,
           "rgb(209, 238, 234)"
          ],
          [
           0.16666666666666666,
           "rgb(168, 219, 217)"
          ],
          [
           0.3333333333333333,
           "rgb(133, 196, 201)"
          ],
          [
           0.5,
           "rgb(104, 171, 184)"
          ],
          [
           0.6666666666666666,
           "rgb(79, 144, 166)"
          ],
          [
           0.8333333333333334,
           "rgb(59, 115, 143)"
          ],
          [
           1,
           "rgb(42, 86, 116)"
          ]
         ]
        },
        "legend": {
         "tracegroupgap": 0
        },
        "template": {
         "data": {
          "bar": [
           {
            "error_x": {
             "color": "#2a3f5f"
            },
            "error_y": {
             "color": "#2a3f5f"
            },
            "marker": {
             "line": {
              "color": "white",
              "width": 0.5
             },
             "pattern": {
              "fillmode": "overlay",
              "size": 10,
              "solidity": 0.2
             }
            },
            "type": "bar"
           }
          ],
          "barpolar": [
           {
            "marker": {
             "line": {
              "color": "white",
              "width": 0.5
             },
             "pattern": {
              "fillmode": "overlay",
              "size": 10,
              "solidity": 0.2
             }
            },
            "type": "barpolar"
           }
          ],
          "carpet": [
           {
            "aaxis": {
             "endlinecolor": "#2a3f5f",
             "gridcolor": "#C8D4E3",
             "linecolor": "#C8D4E3",
             "minorgridcolor": "#C8D4E3",
             "startlinecolor": "#2a3f5f"
            },
            "baxis": {
             "endlinecolor": "#2a3f5f",
             "gridcolor": "#C8D4E3",
             "linecolor": "#C8D4E3",
             "minorgridcolor": "#C8D4E3",
             "startlinecolor": "#2a3f5f"
            },
            "type": "carpet"
           }
          ],
          "choropleth": [
           {
            "colorbar": {
             "outlinewidth": 0,
             "ticks": ""
            },
            "type": "choropleth"
           }
          ],
          "contour": [
           {
            "colorbar": {
             "outlinewidth": 0,
             "ticks": ""
            },
            "colorscale": [
             [
              0,
              "#0d0887"
             ],
             [
              0.1111111111111111,
              "#46039f"
             ],
             [
              0.2222222222222222,
              "#7201a8"
             ],
             [
              0.3333333333333333,
              "#9c179e"
             ],
             [
              0.4444444444444444,
              "#bd3786"
             ],
             [
              0.5555555555555556,
              "#d8576b"
             ],
             [
              0.6666666666666666,
              "#ed7953"
             ],
             [
              0.7777777777777778,
              "#fb9f3a"
             ],
             [
              0.8888888888888888,
              "#fdca26"
             ],
             [
              1,
              "#f0f921"
             ]
            ],
            "type": "contour"
           }
          ],
          "contourcarpet": [
           {
            "colorbar": {
             "outlinewidth": 0,
             "ticks": ""
            },
            "type": "contourcarpet"
           }
          ],
          "heatmap": [
           {
            "colorbar": {
             "outlinewidth": 0,
             "ticks": ""
            },
            "colorscale": [
             [
              0,
              "#0d0887"
             ],
             [
              0.1111111111111111,
              "#46039f"
             ],
             [
              0.2222222222222222,
              "#7201a8"
             ],
             [
              0.3333333333333333,
              "#9c179e"
             ],
             [
              0.4444444444444444,
              "#bd3786"
             ],
             [
              0.5555555555555556,
              "#d8576b"
             ],
             [
              0.6666666666666666,
              "#ed7953"
             ],
             [
              0.7777777777777778,
              "#fb9f3a"
             ],
             [
              0.8888888888888888,
              "#fdca26"
             ],
             [
              1,
              "#f0f921"
             ]
            ],
            "type": "heatmap"
           }
          ],
          "histogram": [
           {
            "marker": {
             "pattern": {
              "fillmode": "overlay",
              "size": 10,
              "solidity": 0.2
             }
            },
            "type": "histogram"
           }
          ],
          "histogram2d": [
           {
            "colorbar": {
             "outlinewidth": 0,
             "ticks": ""
            },
            "colorscale": [
             [
              0,
              "#0d0887"
             ],
             [
              0.1111111111111111,
              "#46039f"
             ],
             [
              0.2222222222222222,
              "#7201a8"
             ],
             [
              0.3333333333333333,
              "#9c179e"
             ],
             [
              0.4444444444444444,
              "#bd3786"
             ],
             [
              0.5555555555555556,
              "#d8576b"
             ],
             [
              0.6666666666666666,
              "#ed7953"
             ],
             [
              0.7777777777777778,
              "#fb9f3a"
             ],
             [
              0.8888888888888888,
              "#fdca26"
             ],
             [
              1,
              "#f0f921"
             ]
            ],
            "type": "histogram2d"
           }
          ],
          "histogram2dcontour": [
           {
            "colorbar": {
             "outlinewidth": 0,
             "ticks": ""
            },
            "colorscale": [
             [
              0,
              "#0d0887"
             ],
             [
              0.1111111111111111,
              "#46039f"
             ],
             [
              0.2222222222222222,
              "#7201a8"
             ],
             [
              0.3333333333333333,
              "#9c179e"
             ],
             [
              0.4444444444444444,
              "#bd3786"
             ],
             [
              0.5555555555555556,
              "#d8576b"
             ],
             [
              0.6666666666666666,
              "#ed7953"
             ],
             [
              0.7777777777777778,
              "#fb9f3a"
             ],
             [
              0.8888888888888888,
              "#fdca26"
             ],
             [
              1,
              "#f0f921"
             ]
            ],
            "type": "histogram2dcontour"
           }
          ],
          "mesh3d": [
           {
            "colorbar": {
             "outlinewidth": 0,
             "ticks": ""
            },
            "type": "mesh3d"
           }
          ],
          "parcoords": [
           {
            "line": {
             "colorbar": {
              "outlinewidth": 0,
              "ticks": ""
             }
            },
            "type": "parcoords"
           }
          ],
          "pie": [
           {
            "automargin": true,
            "type": "pie"
           }
          ],
          "scatter": [
           {
            "fillpattern": {
             "fillmode": "overlay",
             "size": 10,
             "solidity": 0.2
            },
            "type": "scatter"
           }
          ],
          "scatter3d": [
           {
            "line": {
             "colorbar": {
              "outlinewidth": 0,
              "ticks": ""
             }
            },
            "marker": {
             "colorbar": {
              "outlinewidth": 0,
              "ticks": ""
             }
            },
            "type": "scatter3d"
           }
          ],
          "scattercarpet": [
           {
            "marker": {
             "colorbar": {
              "outlinewidth": 0,
              "ticks": ""
             }
            },
            "type": "scattercarpet"
           }
          ],
          "scattergeo": [
           {
            "marker": {
             "colorbar": {
              "outlinewidth": 0,
              "ticks": ""
             }
            },
            "type": "scattergeo"
           }
          ],
          "scattergl": [
           {
            "marker": {
             "colorbar": {
              "outlinewidth": 0,
              "ticks": ""
             }
            },
            "type": "scattergl"
           }
          ],
          "scattermap": [
           {
            "marker": {
             "colorbar": {
              "outlinewidth": 0,
              "ticks": ""
             }
            },
            "type": "scattermap"
           }
          ],
          "scattermapbox": [
           {
            "marker": {
             "colorbar": {
              "outlinewidth": 0,
              "ticks": ""
             }
            },
            "type": "scattermapbox"
           }
          ],
          "scatterpolar": [
           {
            "marker": {
             "colorbar": {
              "outlinewidth": 0,
              "ticks": ""
             }
            },
            "type": "scatterpolar"
           }
          ],
          "scatterpolargl": [
           {
            "marker": {
             "colorbar": {
              "outlinewidth": 0,
              "ticks": ""
             }
            },
            "type": "scatterpolargl"
           }
          ],
          "scatterternary": [
           {
            "marker": {
             "colorbar": {
              "outlinewidth": 0,
              "ticks": ""
             }
            },
            "type": "scatterternary"
           }
          ],
          "surface": [
           {
            "colorbar": {
             "outlinewidth": 0,
             "ticks": ""
            },
            "colorscale": [
             [
              0,
              "#0d0887"
             ],
             [
              0.1111111111111111,
              "#46039f"
             ],
             [
              0.2222222222222222,
              "#7201a8"
             ],
             [
              0.3333333333333333,
              "#9c179e"
             ],
             [
              0.4444444444444444,
              "#bd3786"
             ],
             [
              0.5555555555555556,
              "#d8576b"
             ],
             [
              0.6666666666666666,
              "#ed7953"
             ],
             [
              0.7777777777777778,
              "#fb9f3a"
             ],
             [
              0.8888888888888888,
              "#fdca26"
             ],
             [
              1,
              "#f0f921"
             ]
            ],
            "type": "surface"
           }
          ],
          "table": [
           {
            "cells": {
             "fill": {
              "color": "#EBF0F8"
             },
             "line": {
              "color": "white"
             }
            },
            "header": {
             "fill": {
              "color": "#C8D4E3"
             },
             "line": {
              "color": "white"
             }
            },
            "type": "table"
           }
          ]
         },
         "layout": {
          "annotationdefaults": {
           "arrowcolor": "#2a3f5f",
           "arrowhead": 0,
           "arrowwidth": 1
          },
          "autotypenumbers": "strict",
          "coloraxis": {
           "colorbar": {
            "outlinewidth": 0,
            "ticks": ""
           }
          },
          "colorscale": {
           "diverging": [
            [
             0,
             "#8e0152"
            ],
            [
             0.1,
             "#c51b7d"
            ],
            [
             0.2,
             "#de77ae"
            ],
            [
             0.3,
             "#f1b6da"
            ],
            [
             0.4,
             "#fde0ef"
            ],
            [
             0.5,
             "#f7f7f7"
            ],
            [
             0.6,
             "#e6f5d0"
            ],
            [
             0.7,
             "#b8e186"
            ],
            [
             0.8,
             "#7fbc41"
            ],
            [
             0.9,
             "#4d9221"
            ],
            [
             1,
             "#276419"
            ]
           ],
           "sequential": [
            [
             0,
             "#0d0887"
            ],
            [
             0.1111111111111111,
             "#46039f"
            ],
            [
             0.2222222222222222,
             "#7201a8"
            ],
            [
             0.3333333333333333,
             "#9c179e"
            ],
            [
             0.4444444444444444,
             "#bd3786"
            ],
            [
             0.5555555555555556,
             "#d8576b"
            ],
            [
             0.6666666666666666,
             "#ed7953"
            ],
            [
             0.7777777777777778,
             "#fb9f3a"
            ],
            [
             0.8888888888888888,
             "#fdca26"
            ],
            [
             1,
             "#f0f921"
            ]
           ],
           "sequentialminus": [
            [
             0,
             "#0d0887"
            ],
            [
             0.1111111111111111,
             "#46039f"
            ],
            [
             0.2222222222222222,
             "#7201a8"
            ],
            [
             0.3333333333333333,
             "#9c179e"
            ],
            [
             0.4444444444444444,
             "#bd3786"
            ],
            [
             0.5555555555555556,
             "#d8576b"
            ],
            [
             0.6666666666666666,
             "#ed7953"
            ],
            [
             0.7777777777777778,
             "#fb9f3a"
            ],
            [
             0.8888888888888888,
             "#fdca26"
            ],
            [
             1,
             "#f0f921"
            ]
           ]
          },
          "colorway": [
           "#636efa",
           "#EF553B",
           "#00cc96",
           "#ab63fa",
           "#FFA15A",
           "#19d3f3",
           "#FF6692",
           "#B6E880",
           "#FF97FF",
           "#FECB52"
          ],
          "font": {
           "color": "#2a3f5f"
          },
          "geo": {
           "bgcolor": "white",
           "lakecolor": "white",
           "landcolor": "white",
           "showlakes": true,
           "showland": true,
           "subunitcolor": "#C8D4E3"
          },
          "hoverlabel": {
           "align": "left"
          },
          "hovermode": "closest",
          "mapbox": {
           "style": "light"
          },
          "paper_bgcolor": "white",
          "plot_bgcolor": "white",
          "polar": {
           "angularaxis": {
            "gridcolor": "#EBF0F8",
            "linecolor": "#EBF0F8",
            "ticks": ""
           },
           "bgcolor": "white",
           "radialaxis": {
            "gridcolor": "#EBF0F8",
            "linecolor": "#EBF0F8",
            "ticks": ""
           }
          },
          "scene": {
           "xaxis": {
            "backgroundcolor": "white",
            "gridcolor": "#DFE8F3",
            "gridwidth": 2,
            "linecolor": "#EBF0F8",
            "showbackground": true,
            "ticks": "",
            "zerolinecolor": "#EBF0F8"
           },
           "yaxis": {
            "backgroundcolor": "white",
            "gridcolor": "#DFE8F3",
            "gridwidth": 2,
            "linecolor": "#EBF0F8",
            "showbackground": true,
            "ticks": "",
            "zerolinecolor": "#EBF0F8"
           },
           "zaxis": {
            "backgroundcolor": "white",
            "gridcolor": "#DFE8F3",
            "gridwidth": 2,
            "linecolor": "#EBF0F8",
            "showbackground": true,
            "ticks": "",
            "zerolinecolor": "#EBF0F8"
           }
          },
          "shapedefaults": {
           "line": {
            "color": "#2a3f5f"
           }
          },
          "ternary": {
           "aaxis": {
            "gridcolor": "#DFE8F3",
            "linecolor": "#A2B1C6",
            "ticks": ""
           },
           "baxis": {
            "gridcolor": "#DFE8F3",
            "linecolor": "#A2B1C6",
            "ticks": ""
           },
           "bgcolor": "white",
           "caxis": {
            "gridcolor": "#DFE8F3",
            "linecolor": "#A2B1C6",
            "ticks": ""
           }
          },
          "title": {
           "x": 0.05
          },
          "xaxis": {
           "automargin": true,
           "gridcolor": "#EBF0F8",
           "linecolor": "#EBF0F8",
           "ticks": "",
           "title": {
            "standoff": 15
           },
           "zerolinecolor": "#EBF0F8",
           "zerolinewidth": 2
          },
          "yaxis": {
           "automargin": true,
           "gridcolor": "#EBF0F8",
           "linecolor": "#EBF0F8",
           "ticks": "",
           "title": {
            "standoff": 15
           },
           "zerolinecolor": "#EBF0F8",
           "zerolinewidth": 2
          }
         }
        },
        "title": {
         "text": "Porcentaje de Veces que el Equipo Local Ganó (en partidos con más de 4 goles)"
        },
        "xaxis": {
         "anchor": "y",
         "domain": [
          0,
          1
         ],
         "title": {
          "text": "País Anfitrión"
         }
        },
        "yaxis": {
         "anchor": "x",
         "domain": [
          0,
          1
         ],
         "range": [
          0,
          100
         ],
         "title": {
          "text": "Porcentaje de Victoria del Equipo Local (%)"
         }
        }
       }
      },
      "image/png": "[encoded data removed]"
     },
     "metadata": {},
     "output_type": "display_data"
    }
   ],
   "source": [
    "df_visual = df_analisis_victoria[df_analisis_victoria['Total_Partidos'] >= min_partidos].head(15)\n",
    "fig = px.bar(\n",
    "    df_visual, \n",
    "    x='country',\n",
    "    y='Porcentaje_Victoria_Local',\n",
    "    title=\"Porcentaje de Veces que el Equipo Local Ganó (en partidos con más de 4 goles)\",\n",
    "    color='Total_Partidos', # Usar el número de partidos como color para contexto\n",
    "    color_continuous_scale=px.colors.sequential.Teal,\n",
    "    template='plotly_white'\n",
    ")\n",
    "fig.update_layout(\n",
    "    xaxis_title=\"País Anfitrión\",\n",
    "    yaxis_title=\"Porcentaje de Victoria del Equipo Local (%)\",\n",
    "    yaxis_range=[0, 100] # Asegurar que el eje Y vaya de 0 a 100\n",
    ")"
   ]
  },
  {
   "cell_type": "code",
   "execution_count": 190,
   "id": "4ac7788a-b96e-498e-bf5f-d04bf1a72e52",
   "metadata": {},
   "outputs": [
    {
     "data": {
      "application/vnd.plotly.v1+json": {
       "config": {
        "plotlyServerURL": "https://plot.ly"
       },
       "data": [
        {
         "hovertemplate": "Tipo de Dato=Histórico<br>Edición (Año)=%{x}<br>Fondo Total (Millones de USD)=%{y}<extra></extra>",
         "legendgroup": "Histórico",
         "line": {
          "color": "#636efa",
          "dash": "solid"
         },
         "marker": {
          "symbol": "circle"
         },
         "mode": "lines+markers",
         "name": "Histórico",
         "orientation": "v",
         "showlegend": true,
         "text": [
          "$156M",
          "$266M",
          "$420M",
          "$576M",
          "$791M",
          "$1000M",
          "$1567M"
         ],
         "textposition": "top center",
         "type": "scatter",
         "x": [
          "2002",
          "2006",
          "2010",
          "2014",
          "2018",
          "2022"
         ],
         "xaxis": "x",
         "y": {
          "bdata": "AAAAAACQY0AAAAAAAKBwQAAAAAAAQHpAAAAAAAAAgkAAAAAAALiIQAAAAAAAQI9A",
          "dtype": "f8"
         },
         "yaxis": "y"
        },
        {
         "hovertemplate": "Tipo de Dato=Proyección<br>Edición (Año)=%{x}<br>Fondo Total (Millones de USD)=%{y}<extra></extra>",
         "legendgroup": "Proyección",
         "line": {
          "color": "#EF553B",
          "dash": "dot"
         },
         "marker": {
          "symbol": "circle"
         },
         "mode": "lines+markers",
         "name": "Proyección",
         "orientation": "v",
         "showlegend": true,
         "text": [
          "$156M",
          "$266M",
          "$420M",
          "$576M",
          "$791M",
          "$1000M",
          "$1567M"
         ],
         "textposition": "top center",
         "type": "scatter",
         "x": [
          "2026"
         ],
         "xaxis": "x",
         "y": {
          "bdata": "VzaGE6t6mEA=",
          "dtype": "f8"
         },
         "yaxis": "y"
        }
       ],
       "layout": {
        "legend": {
         "title": {
          "text": "Tipo de Dato"
         },
         "tracegroupgap": 0
        },
        "template": {
         "data": {
          "bar": [
           {
            "error_x": {
             "color": "#2a3f5f"
            },
            "error_y": {
             "color": "#2a3f5f"
            },
            "marker": {
             "line": {
              "color": "white",
              "width": 0.5
             },
             "pattern": {
              "fillmode": "overlay",
              "size": 10,
              "solidity": 0.2
             }
            },
            "type": "bar"
           }
          ],
          "barpolar": [
           {
            "marker": {
             "line": {
              "color": "white",
              "width": 0.5
             },
             "pattern": {
              "fillmode": "overlay",
              "size": 10,
              "solidity": 0.2
             }
            },
            "type": "barpolar"
           }
          ],
          "carpet": [
           {
            "aaxis": {
             "endlinecolor": "#2a3f5f",
             "gridcolor": "#C8D4E3",
             "linecolor": "#C8D4E3",
             "minorgridcolor": "#C8D4E3",
             "startlinecolor": "#2a3f5f"
            },
            "baxis": {
             "endlinecolor": "#2a3f5f",
             "gridcolor": "#C8D4E3",
             "linecolor": "#C8D4E3",
             "minorgridcolor": "#C8D4E3",
             "startlinecolor": "#2a3f5f"
            },
            "type": "carpet"
           }
          ],
          "choropleth": [
           {
            "colorbar": {
             "outlinewidth": 0,
             "ticks": ""
            },
            "type": "choropleth"
           }
          ],
          "contour": [
           {
            "colorbar": {
             "outlinewidth": 0,
             "ticks": ""
            },
            "colorscale": [
             [
              0,
              "#0d0887"
             ],
             [
              0.1111111111111111,
              "#46039f"
             ],
             [
              0.2222222222222222,
              "#7201a8"
             ],
             [
              0.3333333333333333,
              "#9c179e"
             ],
             [
              0.4444444444444444,
              "#bd3786"
             ],
             [
              0.5555555555555556,
              "#d8576b"
             ],
             [
              0.6666666666666666,
              "#ed7953"
             ],
             [
              0.7777777777777778,
              "#fb9f3a"
             ],
             [
              0.8888888888888888,
              "#fdca26"
             ],
             [
              1,
              "#f0f921"
             ]
            ],
            "type": "contour"
           }
          ],
          "contourcarpet": [
           {
            "colorbar": {
             "outlinewidth": 0,
             "ticks": ""
            },
            "type": "contourcarpet"
           }
          ],
          "heatmap": [
           {
            "colorbar": {
             "outlinewidth": 0,
             "ticks": ""
            },
            "colorscale": [
             [
              0,
              "#0d0887"
             ],
             [
              0.1111111111111111,
              "#46039f"
             ],
             [
              0.2222222222222222,
              "#7201a8"
             ],
             [
              0.3333333333333333,
              "#9c179e"
             ],
             [
              0.4444444444444444,
              "#bd3786"
             ],
             [
              0.5555555555555556,
              "#d8576b"
             ],
             [
              0.6666666666666666,
              "#ed7953"
             ],
             [
              0.7777777777777778,
              "#fb9f3a"
             ],
             [
              0.8888888888888888,
              "#fdca26"
             ],
             [
              1,
              "#f0f921"
             ]
            ],
            "type": "heatmap"
           }
          ],
          "histogram": [
           {
            "marker": {
             "pattern": {
              "fillmode": "overlay",
              "size": 10,
              "solidity": 0.2
             }
            },
            "type": "histogram"
           }
          ],
          "histogram2d": [
           {
            "colorbar": {
             "outlinewidth": 0,
             "ticks": ""
            },
            "colorscale": [
             [
              0,
              "#0d0887"
             ],
             [
              0.1111111111111111,
              "#46039f"
             ],
             [
              0.2222222222222222,
              "#7201a8"
             ],
             [
              0.3333333333333333,
              "#9c179e"
             ],
             [
              0.4444444444444444,
              "#bd3786"
             ],
             [
              0.5555555555555556,
              "#d8576b"
             ],
             [
              0.6666666666666666,
              "#ed7953"
             ],
             [
              0.7777777777777778,
              "#fb9f3a"
             ],
             [
              0.8888888888888888,
              "#fdca26"
             ],
             [
              1,
              "#f0f921"
             ]
            ],
            "type": "histogram2d"
           }
          ],
          "histogram2dcontour": [
           {
            "colorbar": {
             "outlinewidth": 0,
             "ticks": ""
            },
            "colorscale": [
             [
              0,
              "#0d0887"
             ],
             [
              0.1111111111111111,
              "#46039f"
             ],
             [
              0.2222222222222222,
              "#7201a8"
             ],
             [
              0.3333333333333333,
              "#9c179e"
             ],
             [
              0.4444444444444444,
              "#bd3786"
             ],
             [
              0.5555555555555556,
              "#d8576b"
             ],
             [
              0.6666666666666666,
              "#ed7953"
             ],
             [
              0.7777777777777778,
              "#fb9f3a"
             ],
             [
              0.8888888888888888,
              "#fdca26"
             ],
             [
              1,
              "#f0f921"
             ]
            ],
            "type": "histogram2dcontour"
           }
          ],
          "mesh3d": [
           {
            "colorbar": {
             "outlinewidth": 0,
             "ticks": ""
            },
            "type": "mesh3d"
           }
          ],
          "parcoords": [
           {
            "line": {
             "colorbar": {
              "outlinewidth": 0,
              "ticks": ""
             }
            },
            "type": "parcoords"
           }
          ],
          "pie": [
           {
            "automargin": true,
            "type": "pie"
           }
          ],
          "scatter": [
           {
            "fillpattern": {
             "fillmode": "overlay",
             "size": 10,
             "solidity": 0.2
            },
            "type": "scatter"
           }
          ],
          "scatter3d": [
           {
            "line": {
             "colorbar": {
              "outlinewidth": 0,
              "ticks": ""
             }
            },
            "marker": {
             "colorbar": {
              "outlinewidth": 0,
              "ticks": ""
             }
            },
            "type": "scatter3d"
           }
          ],
          "scattercarpet": [
           {
            "marker": {
             "colorbar": {
              "outlinewidth": 0,
              "ticks": ""
             }
            },
            "type": "scattercarpet"
           }
          ],
          "scattergeo": [
           {
            "marker": {
             "colorbar": {
              "outlinewidth": 0,
              "ticks": ""
             }
            },
            "type": "scattergeo"
           }
          ],
          "scattergl": [
           {
            "marker": {
             "colorbar": {
              "outlinewidth": 0,
              "ticks": ""
             }
            },
            "type": "scattergl"
           }
          ],
          "scattermap": [
           {
            "marker": {
             "colorbar": {
              "outlinewidth": 0,
              "ticks": ""
             }
            },
            "type": "scattermap"
           }
          ],
          "scattermapbox": [
           {
            "marker": {
             "colorbar": {
              "outlinewidth": 0,
              "ticks": ""
             }
            },
            "type": "scattermapbox"
           }
          ],
          "scatterpolar": [
           {
            "marker": {
             "colorbar": {
              "outlinewidth": 0,
              "ticks": ""
             }
            },
            "type": "scatterpolar"
           }
          ],
          "scatterpolargl": [
           {
            "marker": {
             "colorbar": {
              "outlinewidth": 0,
              "ticks": ""
             }
            },
            "type": "scatterpolargl"
           }
          ],
          "scatterternary": [
           {
            "marker": {
             "colorbar": {
              "outlinewidth": 0,
              "ticks": ""
             }
            },
            "type": "scatterternary"
           }
          ],
          "surface": [
           {
            "colorbar": {
             "outlinewidth": 0,
             "ticks": ""
            },
            "colorscale": [
             [
              0,
              "#0d0887"
             ],
             [
              0.1111111111111111,
              "#46039f"
             ],
             [
              0.2222222222222222,
              "#7201a8"
             ],
             [
              0.3333333333333333,
              "#9c179e"
             ],
             [
              0.4444444444444444,
              "#bd3786"
             ],
             [
              0.5555555555555556,
              "#d8576b"
             ],
             [
              0.6666666666666666,
              "#ed7953"
             ],
             [
              0.7777777777777778,
              "#fb9f3a"
             ],
             [
              0.8888888888888888,
              "#fdca26"
             ],
             [
              1,
              "#f0f921"
             ]
            ],
            "type": "surface"
           }
          ],
          "table": [
           {
            "cells": {
             "fill": {
              "color": "#EBF0F8"
             },
             "line": {
              "color": "white"
             }
            },
            "header": {
             "fill": {
              "color": "#C8D4E3"
             },
             "line": {
              "color": "white"
             }
            },
            "type": "table"
           }
          ]
         },
         "layout": {
          "annotationdefaults": {
           "arrowcolor": "#2a3f5f",
           "arrowhead": 0,
           "arrowwidth": 1
          },
          "autotypenumbers": "strict",
          "coloraxis": {
           "colorbar": {
            "outlinewidth": 0,
            "ticks": ""
           }
          },
          "colorscale": {
           "diverging": [
            [
             0,
             "#8e0152"
            ],
            [
             0.1,
             "#c51b7d"
            ],
            [
             0.2,
             "#de77ae"
            ],
            [
             0.3,
             "#f1b6da"
            ],
            [
             0.4,
             "#fde0ef"
            ],
            [
             0.5,
             "#f7f7f7"
            ],
            [
             0.6,
             "#e6f5d0"
            ],
            [
             0.7,
             "#b8e186"
            ],
            [
             0.8,
             "#7fbc41"
            ],
            [
             0.9,
             "#4d9221"
            ],
            [
             1,
             "#276419"
            ]
           ],
           "sequential": [
            [
             0,
             "#0d0887"
            ],
            [
             0.1111111111111111,
             "#46039f"
            ],
            [
             0.2222222222222222,
             "#7201a8"
            ],
            [
             0.3333333333333333,
             "#9c179e"
            ],
            [
             0.4444444444444444,
             "#bd3786"
            ],
            [
             0.5555555555555556,
             "#d8576b"
            ],
            [
             0.6666666666666666,
             "#ed7953"
            ],
            [
             0.7777777777777778,
             "#fb9f3a"
            ],
            [
             0.8888888888888888,
             "#fdca26"
            ],
            [
             1,
             "#f0f921"
            ]
           ],
           "sequentialminus": [
            [
             0,
             "#0d0887"
            ],
            [
             0.1111111111111111,
             "#46039f"
            ],
            [
             0.2222222222222222,
             "#7201a8"
            ],
            [
             0.3333333333333333,
             "#9c179e"
            ],
            [
             0.4444444444444444,
             "#bd3786"
            ],
            [
             0.5555555555555556,
             "#d8576b"
            ],
            [
             0.6666666666666666,
             "#ed7953"
            ],
            [
             0.7777777777777778,
             "#fb9f3a"
            ],
            [
             0.8888888888888888,
             "#fdca26"
            ],
            [
             1,
             "#f0f921"
            ]
           ]
          },
          "colorway": [
           "#636efa",
           "#EF553B",
           "#00cc96",
           "#ab63fa",
           "#FFA15A",
           "#19d3f3",
           "#FF6692",
           "#B6E880",
           "#FF97FF",
           "#FECB52"
          ],
          "font": {
           "color": "#2a3f5f"
          },
          "geo": {
           "bgcolor": "white",
           "lakecolor": "white",
           "landcolor": "white",
           "showlakes": true,
           "showland": true,
           "subunitcolor": "#C8D4E3"
          },
          "hoverlabel": {
           "align": "left"
          },
          "hovermode": "closest",
          "mapbox": {
           "style": "light"
          },
          "paper_bgcolor": "white",
          "plot_bgcolor": "white",
          "polar": {
           "angularaxis": {
            "gridcolor": "#EBF0F8",
            "linecolor": "#EBF0F8",
            "ticks": ""
           },
           "bgcolor": "white",
           "radialaxis": {
            "gridcolor": "#EBF0F8",
            "linecolor": "#EBF0F8",
            "ticks": ""
           }
          },
          "scene": {
           "xaxis": {
            "backgroundcolor": "white",
            "gridcolor": "#DFE8F3",
            "gridwidth": 2,
            "linecolor": "#EBF0F8",
            "showbackground": true,
            "ticks": "",
            "zerolinecolor": "#EBF0F8"
           },
           "yaxis": {
            "backgroundcolor": "white",
            "gridcolor": "#DFE8F3",
            "gridwidth": 2,
            "linecolor": "#EBF0F8",
            "showbackground": true,
            "ticks": "",
            "zerolinecolor": "#EBF0F8"
           },
           "zaxis": {
            "backgroundcolor": "white",
            "gridcolor": "#DFE8F3",
            "gridwidth": 2,
            "linecolor": "#EBF0F8",
            "showbackground": true,
            "ticks": "",
            "zerolinecolor": "#EBF0F8"
           }
          },
          "shapedefaults": {
           "line": {
            "color": "#2a3f5f"
           }
          },
          "ternary": {
           "aaxis": {
            "gridcolor": "#DFE8F3",
            "linecolor": "#A2B1C6",
            "ticks": ""
           },
           "baxis": {
            "gridcolor": "#DFE8F3",
            "linecolor": "#A2B1C6",
            "ticks": ""
           },
           "bgcolor": "white",
           "caxis": {
            "gridcolor": "#DFE8F3",
            "linecolor": "#A2B1C6",
            "ticks": ""
           }
          },
          "title": {
           "x": 0.05
          },
          "xaxis": {
           "automargin": true,
           "gridcolor": "#EBF0F8",
           "linecolor": "#EBF0F8",
           "ticks": "",
           "title": {
            "standoff": 15
           },
           "zerolinecolor": "#EBF0F8",
           "zerolinewidth": 2
          },
          "yaxis": {
           "automargin": true,
           "gridcolor": "#EBF0F8",
           "linecolor": "#EBF0F8",
           "ticks": "",
           "title": {
            "standoff": 15
           },
           "zerolinecolor": "#EBF0F8",
           "zerolinewidth": 2
          }
         }
        },
        "title": {
         "text": "💸 Evolución del Fondo Total de Premios (Histórico y Proyectado a 2026)"
        },
        "xaxis": {
         "anchor": "y",
         "domain": [
          0,
          1
         ],
         "tickmode": "linear",
         "title": {
          "text": "Edición de la Copa del Mundo"
         }
        },
        "yaxis": {
         "anchor": "x",
         "domain": [
          0,
          1
         ],
         "title": {
          "text": "Fondo Total (Millones de USD)"
         }
        }
       }
      },
      "image/png": "[encoded data removed]"
     },
     "metadata": {},
     "output_type": "display_data"
    }
   ],
   "source": [
    "if not df_historico.empty:\n",
    "    \n",
    "    df_grafico['Year_str'] = df_grafico['Year'].astype(str)\n",
    "    \n",
    "    fig = px.line(\n",
    "        df_grafico,\n",
    "        x='Year_str',\n",
    "        y='Total_Fund_Millions',\n",
    "        color='Tipo', # Para diferenciar Histórico de Proyección\n",
    "        line_dash='Tipo', \n",
    "        markers=True,\n",
    "        title='💸 Evolución del Fondo Total de Premios (Histórico y Proyectado a 2026)',\n",
    "        labels={\n",
    "            'Year_str': 'Edición (Año)',\n",
    "            'Total_Fund_Millions': 'Fondo Total (Millones de USD)',\n",
    "            'Tipo': 'Tipo de Dato'\n",
    "        },\n",
    "        template='plotly_white'\n",
    "    )\n",
    "    \n",
    "    # Ajustar el eje X para que no se vean demasiado apretados\n",
    "    fig.update_xaxes(tickmode='linear')\n",
    "    \n",
    "    # Ajustar etiquetas y añadir valores\n",
    "    fig.update_traces(\n",
    "        mode='lines+markers', \n",
    "        text=df_grafico['Total_Fund_Millions'].apply(lambda x: f\"${x:.0f}M\"), \n",
    "        textposition=\"top center\"\n",
    "    )\n",
    "    \n",
    "    fig.update_layout(\n",
    "        xaxis_title=\"Edición de la Copa del Mundo\",\n",
    "        yaxis_title=\"Fondo Total (Millones de USD)\"\n",
    "    )\n",
    "    \n",
    "    fig.show()\n",
    "\n",
    "else:\n",
    "    print(\"El DataFrame de la gráfica está vacío. Verifique los nulos y la función de limpieza.\")"
   ]
  },
  {
   "cell_type": "code",
   "execution_count": null,
   "id": "ae794e3b-4752-4fae-8f96-aa871010b591",
   "metadata": {},
   "outputs": [],
   "source": []
  }
 ],
 "metadata": {
  "kernelspec": {
   "display_name": "Python 3 (ipykernel)",
   "language": "python",
   "name": "python3"
  },
  "language_info": {
   "codemirror_mode": {
    "name": "ipython",
    "version": 3
   },
   "file_extension": ".py",
   "mimetype": "text/x-python",
   "name": "python",
   "nbconvert_exporter": "python",
   "pygments_lexer": "ipython3",
   "version": "3.12.3"
  }
 },
 "nbformat": 4,
 "nbformat_minor": 5
}
